{
  "nbformat": 4,
  "nbformat_minor": 0,
  "metadata": {
    "colab": {
      "provenance": [],
      "include_colab_link": true
    },
    "kernelspec": {
      "name": "python3",
      "display_name": "Python 3"
    },
    "language_info": {
      "name": "python"
    }
  },
  "cells": [
    {
      "cell_type": "markdown",
      "metadata": {
        "id": "view-in-github",
        "colab_type": "text"
      },
      "source": [
        "<a href=\"https://colab.research.google.com/github/valsson-group/python-bootcamp/blob/main/Summer-2025/Session_2.ipynb\" target=\"_parent\"><img src=\"https://colab.research.google.com/assets/colab-badge.svg\" alt=\"Open In Colab\"/></a>"
      ]
    },
    {
      "cell_type": "markdown",
      "source": [
        "## Python Summer Bootcamp from Valsson Research Group\n",
        "\n",
        "### Session 2: Data Analysis and plotting using Python - Numpy, Matplotlib, Seaborn, and Pandas\n",
        "\n",
        "Date: 06/23/2025\n",
        "\n",
        "## Mentors:\n",
        "* Shikshya Bhusal\n",
        "* Sara Alinejad\n",
        "* Pradip Si\n",
        "* Logan Estridge\n",
        "* Kriti Alam\n",
        "\n"
      ],
      "metadata": {
        "id": "r1fJs0sIDWte"
      }
    },
    {
      "cell_type": "markdown",
      "source": [
        "## Materials for learning Python (along with this workshop)\n",
        "\n",
        "\n",
        "\n",
        "1.   MolSSI Python Resources for Scientific Python Computing\n",
        "     (https://education.molssi.org/resources.html#programming)\n",
        "\n",
        "2.   The Python documentation (https://docs.python.org/3/)\n",
        "\n",
        "3.   CodeAcademy (Has good learning interface) : https://www.codecademy.com/learn/learn-python\n",
        "\n",
        "4.  Python for Everybody (https://www.py4e.com/)\n",
        "\n",
        "\n",
        "\n"
      ],
      "metadata": {
        "id": "cokxO4SHPPEx"
      }
    },
    {
      "cell_type": "markdown",
      "source": [
        "## Basic Syntax"
      ],
      "metadata": {
        "id": "NfNLmbrEue3a"
      }
    },
    {
      "cell_type": "code",
      "source": [
        "# Lines starting with a hash/pound sign are comments\n",
        "# meaning that they are not evaluated as code.\n",
        "#\n",
        "# Comments are useful to add short (and not so short)\n",
        "# blurbs of text explaning a particular part of your code"
      ],
      "metadata": {
        "id": "8oT43D5iui2k"
      },
      "execution_count": null,
      "outputs": []
    },
    {
      "cell_type": "markdown",
      "source": [
        "## Recap on last week materials"
      ],
      "metadata": {
        "id": "DzgCIzEuITp9"
      }
    },
    {
      "cell_type": "markdown",
      "source": [
        "\n",
        "*   Basics (always!!)\n",
        "*   Lists\n",
        "*   Functions (will be covered today)\n",
        "*   Loops\n",
        "\n"
      ],
      "metadata": {
        "id": "26Gvs1v_IY66"
      }
    },
    {
      "cell_type": "markdown",
      "source": [
        "## Resources for today's session\n",
        "\n",
        "Documentation of the packages to be used today\n",
        "\n",
        "*   `numpy` : https://numpy.org/doc/stable/user/absolute_beginners.html\n",
        "*   `matplotlib` : https://matplotlib.org/stable/users/explain/quick_start.html\n",
        "*   `seaborn` : https://seaborn.pydata.org/api.html\n",
        "*   `pandas` :  https://pandas.pydata.org/docs/\n",
        "\n",
        "More links:\n",
        "\n",
        "* [MolSSI tutorial on plotting/visualization using Python](https://https://education.molssi.org/python-visualization/matplotlib/matplotlib-procedural.html)\n",
        "\n",
        "\n"
      ],
      "metadata": {
        "id": "HQUe-xYYI1oG"
      }
    },
    {
      "cell_type": "markdown",
      "source": [
        "# Function\n",
        "1. Functions allow us to break down complex problems into smaller.\n",
        "2. Instead of repeating the same code, we can write it once as a function and reuse it whenever needed."
      ],
      "metadata": {
        "id": "bj2Xy8pXsyFS"
      }
    },
    {
      "cell_type": "code",
      "source": [
        "import math"
      ],
      "metadata": {
        "id": "McX3CJMesxV7"
      },
      "execution_count": null,
      "outputs": []
    },
    {
      "cell_type": "code",
      "source": [
        "math."
      ],
      "metadata": {
        "id": "Liu_2fHKs5mp"
      },
      "execution_count": null,
      "outputs": []
    },
    {
      "cell_type": "markdown",
      "source": [
        "**Exercise 1** Complete the following piece of code to calculate the volume of a cylinder given its radius and height , following the formula: $volume = {pi} * {r}^{2}* {h} $.\n",
        "\n",
        "Use the value of `pi` stored in the `math` module as `math.pi`."
      ],
      "metadata": {
        "id": "2A8n7GSBtU2v"
      }
    },
    {
      "cell_type": "code",
      "source": [
        "volume = math.pi *  (3** 2) * 4\n",
        "volume"
      ],
      "metadata": {
        "id": "lX76r4vKtYKm"
      },
      "execution_count": null,
      "outputs": []
    },
    {
      "cell_type": "code",
      "source": [
        "def func_name(arguments):\n",
        "  \"operations\"\n",
        "  return values"
      ],
      "metadata": {
        "id": "IvGQ9SXttzaq"
      },
      "execution_count": null,
      "outputs": []
    },
    {
      "cell_type": "code",
      "source": [
        "def cylinder_volume(radius, height):\n",
        "    import math\n",
        "    volume = math.pi * radius ** 2 * height\n",
        "    return volume"
      ],
      "metadata": {
        "id": "vCeQQohet2CW"
      },
      "execution_count": null,
      "outputs": []
    },
    {
      "cell_type": "code",
      "source": [
        "cylinder_volume(height=4,radius=3)"
      ],
      "metadata": {
        "id": "tVTE7TOct4CF"
      },
      "execution_count": null,
      "outputs": []
    },
    {
      "cell_type": "markdown",
      "source": [
        "Lets calculate surface area also and return both volume and surface area.\n",
        "Calculate surface area with the following the formula: $surface area = 2 *{pi} * {r}* {h} + 2 *{pi} * {r}^{2}$."
      ],
      "metadata": {
        "id": "i0F5C774t6ow"
      }
    },
    {
      "cell_type": "code",
      "source": [
        "def cylinder_volume_surface(radius, height):\n",
        "    import math\n",
        "    volume = math.pi * radius ** 2 * height\n",
        "    surface_area = 2 * math.pi * radius * height + 2 * math.pi * radius ** 2\n",
        "    return volume, surface_area"
      ],
      "metadata": {
        "id": "o4x-u7JHt4ke"
      },
      "execution_count": null,
      "outputs": []
    },
    {
      "cell_type": "code",
      "source": [
        "a, b = cylinder_volume_surface(4 ,5)"
      ],
      "metadata": {
        "id": "2bGCrG02uM2p"
      },
      "execution_count": null,
      "outputs": []
    },
    {
      "cell_type": "code",
      "source": [
        "a"
      ],
      "metadata": {
        "id": "F5V5i_yzuOrd"
      },
      "execution_count": null,
      "outputs": []
    },
    {
      "cell_type": "markdown",
      "source": [
        "Function with a default argument\n",
        "\n",
        "**Calculate interest**"
      ],
      "metadata": {
        "id": "w8FMXEMDuRJ5"
      }
    },
    {
      "cell_type": "code",
      "source": [
        "def calculate_final_amount(initial, years, rate=0.05):\n",
        "\n",
        "    interest = (initial * rate * years)\n",
        "    final_amount = initial + interest\n",
        "    return interest, final_amount"
      ],
      "metadata": {
        "id": "ywHQ7bZzuP7P"
      },
      "execution_count": null,
      "outputs": []
    },
    {
      "cell_type": "code",
      "source": [
        "calculate_final_amount(1000, 2)"
      ],
      "metadata": {
        "id": "RANwKsoqub6H"
      },
      "execution_count": null,
      "outputs": []
    },
    {
      "cell_type": "code",
      "source": [
        "calculate_final_amount(1000, 2, 0.1)"
      ],
      "metadata": {
        "id": "8Pz6d4w_ufAh"
      },
      "execution_count": null,
      "outputs": []
    },
    {
      "cell_type": "code",
      "source": [
        "def add(a, b, verbose=False):\n",
        "    result = a + b\n",
        "    if verbose:\n",
        "        print(f\"Adding {a} and {b} gives {result}\")\n",
        "    return result"
      ],
      "metadata": {
        "id": "_Gn2Dwxnug0Q"
      },
      "execution_count": null,
      "outputs": []
    },
    {
      "cell_type": "code",
      "source": [
        "add(3, 5, verbose=True)"
      ],
      "metadata": {
        "id": "C2kReIvIuifj"
      },
      "execution_count": null,
      "outputs": []
    },
    {
      "cell_type": "markdown",
      "source": [
        "### function to check if a number is divisible by 3."
      ],
      "metadata": {
        "id": "zUBkdzEGu4XN"
      }
    },
    {
      "cell_type": "code",
      "source": [
        "def divisible_by_3(number):\n",
        "    if int(number) % 3 == 0 :\n",
        "        print(f\"{number} is divisible by 3\")\n",
        "    else:\n",
        "        print(f\"{number} is not divisible by 3\")"
      ],
      "metadata": {
        "id": "AOzRlLbIukDB"
      },
      "execution_count": null,
      "outputs": []
    },
    {
      "cell_type": "code",
      "source": [
        "divisible_by_3(15)"
      ],
      "metadata": {
        "id": "Nha1g3ZMu8ZR"
      },
      "execution_count": null,
      "outputs": []
    },
    {
      "cell_type": "markdown",
      "source": [
        "**Exercise 2** Let's calculate average and standard deviation from a list of numbers.  \n",
        "Use the following formulas:\n",
        "\n",
        "- Average: $\\bar{x} = \\frac{1}{n} \\sum_{i=1}^{n} x_i$  \n",
        "- Varience: $\\sigma^{2}= \\frac{1}{n - 1} \\sum_{i=1}^{n} (x_i - \\bar{x})^2 $\n",
        "- Standard Deviation: $\\sigma = \\sqrt{ variance }$"
      ],
      "metadata": {
        "id": "RqgUt2S2vCKu"
      }
    },
    {
      "cell_type": "code",
      "source": [
        "def compute_avg_std(...):\n",
        "    import math\n",
        "    # length of the list\n",
        "    n= len(...)\n",
        "    # calculate mean\n",
        "    avg = sum(...) / ....\n",
        "\n",
        "    # calculate variance using a loop\n",
        "    squared_diff_sum = 0\n",
        "    for num in ...:\n",
        "        squared_diff_sum += (...) ** 2\n",
        "    variance = (...)\n",
        "\n",
        "    stddev = math.sqrt(...)\n",
        "\n",
        "    return avg, stddev"
      ],
      "metadata": {
        "id": "ww014s3VvYF7"
      },
      "execution_count": null,
      "outputs": []
    },
    {
      "cell_type": "code",
      "source": [
        "import random\n",
        "random_list = []\n",
        "for i in range(100):\n",
        "    random_list.append(random.randint(1,100))"
      ],
      "metadata": {
        "id": "KGHprgvUv5n0"
      },
      "execution_count": null,
      "outputs": []
    },
    {
      "cell_type": "code",
      "source": [
        "compute_avg_std(random_list)"
      ],
      "metadata": {
        "id": "kD6jGMFMv8Dt"
      },
      "execution_count": null,
      "outputs": []
    },
    {
      "cell_type": "markdown",
      "source": [
        "## Numpy"
      ],
      "metadata": {
        "id": "PfsYrlh6Kejs"
      }
    },
    {
      "cell_type": "code",
      "source": [
        "# importing the package\n",
        "\n",
        "import numpy as np"
      ],
      "metadata": {
        "id": "RDtm8JrGIXmn"
      },
      "execution_count": null,
      "outputs": []
    },
    {
      "cell_type": "markdown",
      "source": [
        "What does the package do ?\n",
        "Lets recap what we did for an unknown package last week."
      ],
      "metadata": {
        "id": "2PTquJxVKshA"
      }
    },
    {
      "cell_type": "code",
      "source": [
        "...(np)"
      ],
      "metadata": {
        "id": "29_vyx5jKqtS"
      },
      "execution_count": null,
      "outputs": []
    },
    {
      "cell_type": "markdown",
      "source": [
        "Numpy can be extrememly useful in terms of easy manipulation of data. It facilititates store, manipulate or read data."
      ],
      "metadata": {
        "id": "dFyfpNEYoD3M"
      }
    },
    {
      "cell_type": "markdown",
      "source": [
        "### **Defining a Numpy Array**"
      ],
      "metadata": {
        "id": "1qg79oPcoREn"
      }
    },
    {
      "cell_type": "code",
      "source": [
        "int_array=np.array([4,5,6])\n",
        "float_array=np.array([4.0,5.0,6.0])\n",
        "string_array=np.array(['4','5','6'])\n",
        "\n",
        "print(int_array)\n",
        "print(float_array)\n",
        "print(string_array)"
      ],
      "metadata": {
        "id": "4rwDnNetK6Fw"
      },
      "execution_count": null,
      "outputs": []
    },
    {
      "cell_type": "code",
      "source": [
        "# Lets show the types of the arrays we defined\n",
        "\n",
        "print(type(int_array),type(float_array),type(string_array))"
      ],
      "metadata": {
        "id": "JpoxaG2HosAs"
      },
      "execution_count": null,
      "outputs": []
    },
    {
      "cell_type": "markdown",
      "source": [
        "All of them are arrays as defined by numpy\n",
        "\n",
        "Would be a good idea to use another object called `dtype`"
      ],
      "metadata": {
        "id": "wHQpjVfyo3Ib"
      }
    },
    {
      "cell_type": "code",
      "source": [
        "print(int_array.dtype,float_array.dtype,string_array.dtype)"
      ],
      "metadata": {
        "id": "ED0pKPw0o2Du"
      },
      "execution_count": null,
      "outputs": []
    },
    {
      "cell_type": "markdown",
      "source": [
        "### **What are numpy arrays?**"
      ],
      "metadata": {
        "id": "N6kLuxjsqY4p"
      }
    },
    {
      "cell_type": "markdown",
      "source": [
        "Features similar to lists\n",
        "*   ordered\n",
        "*   indexed\n",
        "*   mutable\n",
        "*   allowing duplicates\n",
        "\n",
        "Differences include:\n",
        "\n",
        "*   All elements should have the same datatype (no mixing like lists)\n",
        "*   Allows mathematical operations\n",
        "\n",
        "\n",
        "Lets explore them in details\n",
        "\n",
        "\n",
        "\n"
      ],
      "metadata": {
        "id": "MS2DqMFXqeBm"
      }
    },
    {
      "cell_type": "code",
      "source": [
        "# array 1: has all datatypes of elements same\n",
        "\n",
        "str_array=np.array(['1','2','3'])\n",
        "print(str_array)\n",
        "print(str_array.dtype)"
      ],
      "metadata": {
        "id": "A-S2-lIapTZF"
      },
      "execution_count": null,
      "outputs": []
    },
    {
      "cell_type": "code",
      "source": [
        "# array 2: mixing dataype\n",
        "\n",
        "mix_array=np.array([1,2,'3'])\n",
        "print(mix_array)\n",
        "print(mix_array.dtype)"
      ],
      "metadata": {
        "id": "7kWMm9Uirql7"
      },
      "execution_count": null,
      "outputs": []
    },
    {
      "cell_type": "markdown",
      "source": [
        "Notice here that the datatype of the last element (here '3' which is a string) is considered over the whole datatype\n",
        "\n",
        "Things werent this way when it was a list"
      ],
      "metadata": {
        "id": "i43uoyy8r-oc"
      }
    },
    {
      "cell_type": "code",
      "source": [
        "mixed_list=['1',2,3.0]\n",
        "print(mixed_list)\n",
        "print(type(mixed_list))\n",
        "print(type(mixed_list[0]),type(mixed_list[1]),type(mixed_list[2]))"
      ],
      "metadata": {
        "id": "-wAJnCsor6xa"
      },
      "execution_count": null,
      "outputs": []
    },
    {
      "cell_type": "code",
      "source": [
        "a1 = np.array([1, 2, 3])\n",
        "a2 = np.array([[1, 2.0, 3.3],\n",
        "               [4, 5, 6.5]])\n",
        "\n",
        "a3 = np.array([[[1, 2, 3],\n",
        "                [4, 5, 6],\n",
        "                [7, 8, 9]],\n",
        "               [[10, 11, 12],\n",
        "                [13, 14, 15],\n",
        "                [16, 17, 18]]])"
      ],
      "metadata": {
        "id": "YBAEE4gYwFKC"
      },
      "execution_count": null,
      "outputs": []
    },
    {
      "cell_type": "code",
      "source": [
        "a1.ndim, a2.ndim, a3.ndim"
      ],
      "metadata": {
        "id": "8hcc-X3ZwFM5"
      },
      "execution_count": null,
      "outputs": []
    },
    {
      "cell_type": "code",
      "source": [
        "a1.shape, a2.shape, a3.shape"
      ],
      "metadata": {
        "id": "iFEzhbBYwFRB"
      },
      "execution_count": null,
      "outputs": []
    },
    {
      "cell_type": "code",
      "source": [
        "a1.dtype, a2.dtype, a3.dtype"
      ],
      "metadata": {
        "id": "G2jG_hkgwFTl"
      },
      "execution_count": null,
      "outputs": []
    },
    {
      "cell_type": "markdown",
      "source": [
        "### Different ways to generate array"
      ],
      "metadata": {
        "id": "R1wQfoFuxH16"
      }
    },
    {
      "cell_type": "code",
      "source": [
        "list = [1, 2, 3]\n",
        "sample_array = np.array(list)\n",
        "sample_array"
      ],
      "metadata": {
        "id": "XA-MDpcIwFWA"
      },
      "execution_count": null,
      "outputs": []
    },
    {
      "cell_type": "code",
      "source": [
        "ones = np.zeros((5,4))\n",
        "ones"
      ],
      "metadata": {
        "id": "wJfwfltKwFY7"
      },
      "execution_count": null,
      "outputs": []
    },
    {
      "cell_type": "code",
      "source": [
        "ones = np.ones((2,4))\n",
        "ones"
      ],
      "metadata": {
        "id": "FV78Yl4MwFb3"
      },
      "execution_count": null,
      "outputs": []
    },
    {
      "cell_type": "code",
      "source": [
        "identity_matrix = np.eye(5)\n",
        "print(identity_matrix)"
      ],
      "metadata": {
        "id": "LkCAs1v_xhK1"
      },
      "execution_count": null,
      "outputs": []
    },
    {
      "cell_type": "code",
      "source": [
        "# start, stop, and increments of step\n",
        "range_array = np.arange(0, 10,2)\n",
        "range_array"
      ],
      "metadata": {
        "id": "8fvswPhlxhU_"
      },
      "execution_count": null,
      "outputs": []
    },
    {
      "cell_type": "code",
      "source": [
        "# Generate 5 evenly spaced numbers between 0 and 10 (inclusive)\n",
        "arr1 = np.linspace(0, 10, 10) #endpoint=False\n",
        "print(arr1)"
      ],
      "metadata": {
        "id": "dOyfvR-axnFi"
      },
      "execution_count": null,
      "outputs": []
    },
    {
      "cell_type": "code",
      "source": [
        "random_array = np.random.randint(0, 10, size=(3, 5))\n",
        "random_array"
      ],
      "metadata": {
        "id": "gpG7FflSxnQF"
      },
      "execution_count": null,
      "outputs": []
    },
    {
      "cell_type": "code",
      "source": [
        "random_array.size\n",
        "random_array.shape"
      ],
      "metadata": {
        "id": "C8XG1qH4xnYp"
      },
      "execution_count": null,
      "outputs": []
    },
    {
      "cell_type": "code",
      "source": [
        "random_array_2 = np.random.random((5, 3))\n",
        "random_array_2"
      ],
      "metadata": {
        "id": "UsAe9R-3x_0R"
      },
      "execution_count": null,
      "outputs": []
    },
    {
      "cell_type": "code",
      "source": [
        "#np.random.seed(seed=99999)\n",
        "random_array_4 = np.random.randint(1,10, size=(5, 3))\n",
        "random_array_4"
      ],
      "metadata": {
        "id": "E_RhCx1Sx_4A"
      },
      "execution_count": null,
      "outputs": []
    },
    {
      "cell_type": "code",
      "source": [
        "random_array_3 = np.random.rand(5, 3)\n",
        "random_array_3"
      ],
      "metadata": {
        "id": "BB2ApDQpyABN"
      },
      "execution_count": null,
      "outputs": []
    },
    {
      "cell_type": "code",
      "source": [
        "Z = np.diag(1+np.arange(4),k=-1) # k=1, 0\n",
        "print(Z)"
      ],
      "metadata": {
        "id": "RraT3WR82mjJ"
      },
      "execution_count": null,
      "outputs": []
    },
    {
      "cell_type": "markdown",
      "source": [
        "### Slicing array with index"
      ],
      "metadata": {
        "id": "0w9U4szryInk"
      }
    },
    {
      "cell_type": "code",
      "source": [
        "a = np.array([[1,2,3,4], [5,6,7,8], [9,10,11,12]])\n",
        "a"
      ],
      "metadata": {
        "id": "V0ijnxyKyMVZ"
      },
      "execution_count": null,
      "outputs": []
    },
    {
      "cell_type": "code",
      "source": [
        "a[1:, :]"
      ],
      "metadata": {
        "id": "t-grqzZ-yMcq"
      },
      "execution_count": null,
      "outputs": []
    },
    {
      "cell_type": "code",
      "source": [
        "# replace an element\n",
        "a[2][2] = 0\n",
        "a"
      ],
      "metadata": {
        "id": "qsxq_zPfyMlB"
      },
      "execution_count": null,
      "outputs": []
    },
    {
      "cell_type": "code",
      "source": [
        "b = a[1:3, 1:3]\n",
        "b"
      ],
      "metadata": {
        "id": "c4-ylHlIyQzt"
      },
      "execution_count": null,
      "outputs": []
    },
    {
      "cell_type": "markdown",
      "source": [
        "**Excercise2** Create a 2d array with 1 on the border and 0 inside"
      ],
      "metadata": {
        "id": "w0wSigJGyanq"
      }
    },
    {
      "cell_type": "code",
      "source": [
        "Z = np.ones((...,...))\n",
        "Z"
      ],
      "metadata": {
        "id": "oSrfrXROyQ3V"
      },
      "execution_count": null,
      "outputs": []
    },
    {
      "cell_type": "code",
      "source": [
        "Z[:,:] = 0\n",
        "print(Z)"
      ],
      "metadata": {
        "id": "TNmcfB4rydCD"
      },
      "execution_count": null,
      "outputs": []
    },
    {
      "cell_type": "markdown",
      "source": [
        "Mathematical Operations: Lists vs Numpy Arrays"
      ],
      "metadata": {
        "id": "rDSraz8etoFD"
      }
    },
    {
      "cell_type": "code",
      "source": [
        "a_list=[1,2,1]\n",
        "b_list=[5,2,1]\n",
        "\n",
        "add_list=a_list+b_list\n",
        "print(add_list)"
      ],
      "metadata": {
        "id": "cdQByzi-s7xg"
      },
      "execution_count": null,
      "outputs": []
    },
    {
      "cell_type": "markdown",
      "source": [
        "We dont really \"add\" them\n",
        "\n",
        "Rather we concatenate them"
      ],
      "metadata": {
        "id": "RSJUDT19vULM"
      }
    },
    {
      "cell_type": "markdown",
      "source": [
        "To actually \"add\" them we might need a `for` loop"
      ],
      "metadata": {
        "id": "0LcuF_ybyo80"
      }
    },
    {
      "cell_type": "code",
      "source": [
        "add_list=[]\n",
        "\n",
        "for x in range(len(a_list)):   # warning while selecting the range\n",
        "  add_list.append(a_list[x]+b_list[x])\n",
        "\n",
        "print(add_list)"
      ],
      "metadata": {
        "id": "RDKPp5dZvSa5"
      },
      "execution_count": null,
      "outputs": []
    },
    {
      "cell_type": "markdown",
      "source": [
        "Or we can do it using `numpy` arrays"
      ],
      "metadata": {
        "id": "H4Wj6fsP2CEd"
      }
    },
    {
      "cell_type": "code",
      "source": [
        "a_array=np.array(a_list)\n",
        "b_array=np.array(b_list)\n",
        "\n",
        "add_array=a_array+b_array   # here we \"add\"\n",
        "print(add_array)"
      ],
      "metadata": {
        "id": "ypJQ6p5k0GFe"
      },
      "execution_count": null,
      "outputs": []
    },
    {
      "cell_type": "markdown",
      "source": [
        "The `np.concatenate` will help join the arrays"
      ],
      "metadata": {
        "id": "d7nm_pyt2SQ9"
      }
    },
    {
      "cell_type": "code",
      "source": [
        "print(a_list,b_list)\n",
        "print(np.concatenate((a_array,b_array)))\n"
      ],
      "metadata": {
        "id": "K5ZOLlFm2MGi"
      },
      "execution_count": null,
      "outputs": []
    },
    {
      "cell_type": "markdown",
      "source": [
        "### Element-wise mathematical operations with numpy"
      ],
      "metadata": {
        "id": "igG5Z-ox3fRK"
      }
    },
    {
      "cell_type": "code",
      "source": [
        "a_array=np.array([1,2,3])\n",
        "b_array=np.array([4,5,6]) # both have the same size\n",
        "\n",
        "print(a_array+b_array)\n",
        "print(a_array-b_array)\n",
        "print(a_array*b_array)\n",
        "print(a_array/b_array)"
      ],
      "metadata": {
        "id": "vEc03e1L2X7W"
      },
      "execution_count": null,
      "outputs": []
    },
    {
      "cell_type": "markdown",
      "source": [
        "What if we do not have the same size?"
      ],
      "metadata": {
        "id": "bHcN9mXh31K-"
      }
    },
    {
      "cell_type": "code",
      "source": [
        "a_array=np.array([1,2,3])\n",
        "b_array=np.array([4,5]) # both do not have the same size\n",
        "\n",
        "print(a_array+b_array)\n",
        "print(a_array-b_array)\n",
        "print(a_array*b_array)"
      ],
      "metadata": {
        "id": "EvG9eE1c3vS0"
      },
      "execution_count": null,
      "outputs": []
    },
    {
      "cell_type": "code",
      "source": [
        "a1 = np.array([1, 2, 3])\n",
        "a1"
      ],
      "metadata": {
        "id": "BAEizQEn4HQU"
      },
      "execution_count": null,
      "outputs": []
    },
    {
      "cell_type": "code",
      "source": [
        "a2 = np.array([[1, 2.0, 3.3],\n",
        "               [4, 5, 6.5]])\n",
        "a2"
      ],
      "metadata": {
        "id": "Lwow2K0NxuB9"
      },
      "execution_count": null,
      "outputs": []
    },
    {
      "cell_type": "code",
      "source": [
        "a1+a2"
      ],
      "metadata": {
        "id": "o65ppYoYzCA6"
      },
      "execution_count": null,
      "outputs": []
    },
    {
      "cell_type": "code",
      "source": [
        "a2 ** 2"
      ],
      "metadata": {
        "id": "2JGha4VLzCNN"
      },
      "execution_count": null,
      "outputs": []
    },
    {
      "cell_type": "code",
      "source": [
        "a1 * a2"
      ],
      "metadata": {
        "id": "J-9Gb_8jzGLK"
      },
      "execution_count": null,
      "outputs": []
    },
    {
      "cell_type": "code",
      "source": [
        "a2/a1"
      ],
      "metadata": {
        "id": "_3uCy2u5zGOl"
      },
      "execution_count": null,
      "outputs": []
    },
    {
      "cell_type": "code",
      "source": [
        "x = np.array([[1,2],[3,4]])\n",
        "x"
      ],
      "metadata": {
        "id": "6xu1ZKKZzNYO"
      },
      "execution_count": null,
      "outputs": []
    },
    {
      "cell_type": "code",
      "source": [
        "print(np.sum(x))  # Compute sum of all elements; prints \"10\"\n",
        "print(np.sum(x, axis=0))  # Compute sum of each column; prints \"[4 6]\"\n",
        "print(np.sum(x, axis=1))  # Compute sum of each row; prints \"[3 7]\""
      ],
      "metadata": {
        "id": "oLHKUzBzzNhO"
      },
      "execution_count": null,
      "outputs": []
    },
    {
      "cell_type": "code",
      "source": [
        "# Creative a massive NumPy array\n",
        "massive_array = np.random.random(100000)\n",
        "massive_array"
      ],
      "metadata": {
        "id": "9o-Yh_uNzP8B"
      },
      "execution_count": null,
      "outputs": []
    },
    {
      "cell_type": "code",
      "source": [
        "%timeit sum(massive_array) # Python's sum()\n",
        "%timeit np.sum(massive_array) # NumPy's np.sum()"
      ],
      "metadata": {
        "id": "CcJkF-NqzRnD"
      },
      "execution_count": null,
      "outputs": []
    },
    {
      "cell_type": "code",
      "source": [
        "print(np.mean(massive_array))\n",
        "print(np.max(massive_array))\n",
        "print(np.min(massive_array))\n",
        "print(np.std(massive_array))\n",
        "print(np.var(massive_array))\n"
      ],
      "metadata": {
        "id": "d2xQye0fzRpa"
      },
      "execution_count": null,
      "outputs": []
    },
    {
      "cell_type": "code",
      "source": [
        "#matrix mutiplication\n",
        "Z = np.matmul(np.ones((5, 4)), np.ones((3, 2)))\n",
        "print(Z)\n",
        "\n"
      ],
      "metadata": {
        "id": "t_vjEJkw5cr8"
      },
      "execution_count": null,
      "outputs": []
    },
    {
      "cell_type": "code",
      "source": [
        "## alternative way\n",
        "Z = np.ones((5,3)) @ np.ones((3,2))\n",
        "print(Z)"
      ],
      "metadata": {
        "id": "guC_VDK95omp"
      },
      "execution_count": null,
      "outputs": []
    },
    {
      "cell_type": "markdown",
      "source": [
        "### Reshaping & transposing"
      ],
      "metadata": {
        "id": "xlQF50QPzny-"
      }
    },
    {
      "cell_type": "code",
      "source": [
        "a2 = np.array([[1, 2.0, 3.3],\n",
        "               [4, 5, 6.5]])\n",
        "a2.shape"
      ],
      "metadata": {
        "id": "cdXRu8oAzRsz"
      },
      "execution_count": null,
      "outputs": []
    },
    {
      "cell_type": "code",
      "source": [
        "a2_reshape = a2.reshape(2, 3, 1)\n",
        "a2_reshape.shape"
      ],
      "metadata": {
        "id": "-Afn7W9HzyN0"
      },
      "execution_count": null,
      "outputs": []
    },
    {
      "cell_type": "code",
      "source": [
        "a2"
      ],
      "metadata": {
        "id": "pM2z-ZXJ1VYl"
      },
      "execution_count": null,
      "outputs": []
    },
    {
      "cell_type": "code",
      "source": [
        "a2.T"
      ],
      "metadata": {
        "id": "bK4dz-GnzyRa"
      },
      "execution_count": null,
      "outputs": []
    },
    {
      "cell_type": "code",
      "source": [
        "a1 >= a2"
      ],
      "metadata": {
        "id": "Ika8Nfnaz90T"
      },
      "execution_count": null,
      "outputs": []
    },
    {
      "cell_type": "code",
      "source": [
        "#np.random.seed(4)\n",
        "A = np.random.randint(0,2,5)\n",
        "#np.random.seed(4)\n",
        "B = np.random.randint(0,2,5)\n",
        "print(A)\n",
        "print(B)\n",
        "# Assuming identical shape of the arrays and a tolerance for the comparison of values\n",
        "equal = np.allclose(A,B)\n",
        "print(equal)"
      ],
      "metadata": {
        "id": "M_uJGR_K7mgu"
      },
      "execution_count": null,
      "outputs": []
    },
    {
      "cell_type": "code",
      "source": [
        "arr = np.array([40, 10, 20, 30])\n",
        "sorted_indices = np.argsort(arr)\n",
        "\n",
        "print(\"Original array:\", arr)\n",
        "print(\"Indices that would sort the array:\", sorted_indices)\n",
        "print(\"Sorted array using indices:\", arr[sorted_indices])"
      ],
      "metadata": {
        "id": "PHk3pJds93Tz"
      },
      "execution_count": null,
      "outputs": []
    },
    {
      "cell_type": "markdown",
      "source": [
        "### Define a vectorized function"
      ],
      "metadata": {
        "id": "T6E0vJTX0D7w"
      }
    },
    {
      "cell_type": "code",
      "source": [
        "import numpy as np\n",
        "def myfunc(a, b):\n",
        "    \"Return a-b if a>b, otherwise return a+b\"\n",
        "    if a > b:\n",
        "        return a - b\n",
        "    else:\n",
        "        return a + b"
      ],
      "metadata": {
        "id": "JTf6qi-B0FF3"
      },
      "execution_count": null,
      "outputs": []
    },
    {
      "cell_type": "code",
      "source": [
        "myfunc(3,4)"
      ],
      "metadata": {
        "id": "X0ZKUCpe0FJf"
      },
      "execution_count": null,
      "outputs": []
    },
    {
      "cell_type": "code",
      "source": [
        "vfunc = np.vectorize(myfunc)\n",
        "vfunc([1, 2, 3, 4], 2)\n",
        "#vfunc(2, [1, 2, 3, 4])\n"
      ],
      "metadata": {
        "id": "hL5Fl9yy0NL3"
      },
      "execution_count": null,
      "outputs": []
    },
    {
      "cell_type": "markdown",
      "source": [
        "**Execise** using linspace make an array of 1000 elements from -pi to pi. And plot sin, cos function"
      ],
      "metadata": {
        "id": "yrkjWfezxuUc"
      }
    },
    {
      "cell_type": "code",
      "source": [
        "arr1 = np.linspace(-5, 5, 500)\n",
        "print(arr1)"
      ],
      "metadata": {
        "id": "FNTduWzZxwCj"
      },
      "execution_count": null,
      "outputs": []
    },
    {
      "cell_type": "code",
      "source": [
        "sin_vals = np.sin(arr1)\n",
        "cos_vals = np.cos(arr1)"
      ],
      "metadata": {
        "id": "ugY4ooXRxyWo"
      },
      "execution_count": null,
      "outputs": []
    },
    {
      "cell_type": "code",
      "source": [
        "import matplotlib.pyplot as plt\n",
        "plt.plot(arr1, sin_vals, label='sin(x)', color='blue')\n",
        "plt.plot(arr1, cos_vals, label='cos(x)', color='green')"
      ],
      "metadata": {
        "id": "FPm70VfUx01k"
      },
      "execution_count": null,
      "outputs": []
    },
    {
      "cell_type": "markdown",
      "source": [
        "##Lets Plot!!!\n",
        "###Matplotlib\n",
        "\n",
        "**Matplotlib** is one of the most popular Python libraries used for creating static, animated, and interactive visualizations. It is  especially useful for:\n",
        "- Understanding patterns in data\n",
        "- Sharing insights through visuals\n",
        "- Making your projects look more professional!\n",
        "\n",
        "In this lesson, we’ll use `matplotlib.pyplot`, a part of the matplotlib library, which works very similarly to drawing charts by hand—but with code!\n"
      ],
      "metadata": {
        "id": "koN5SYTspslA"
      }
    },
    {
      "cell_type": "code",
      "source": [
        "# Importing the library\n",
        "import matplotlib.pyplot as plt"
      ],
      "metadata": {
        "id": "9l-fqSvWpN44"
      },
      "execution_count": null,
      "outputs": []
    },
    {
      "cell_type": "markdown",
      "source": [
        "## Line Plot"
      ],
      "metadata": {
        "id": "KEWGl9Inq9dh"
      }
    },
    {
      "cell_type": "code",
      "source": [
        "# Sample data\n",
        "x = [1, 2, 3, 4, 5]\n",
        "y = [2, 3, 5, 7, 11]\n",
        "\n",
        "# Plotting the data\n",
        "plt.plot(x, y)\n",
        "\n",
        "# Adding labels\n",
        "plt.title(\"Line Plot Example\")\n",
        "plt.xlabel(\"X values\")\n",
        "plt.ylabel(\"Y values\")\n",
        "\n",
        "# Show the plot\n",
        "plt.show()"
      ],
      "metadata": {
        "id": "3FpSE_3KpNxW"
      },
      "execution_count": null,
      "outputs": []
    },
    {
      "cell_type": "markdown",
      "source": [
        "## Bar Chart"
      ],
      "metadata": {
        "id": "i9GPcpIYrSgW"
      }
    },
    {
      "cell_type": "code",
      "source": [
        "# Categories and their values\n",
        "categories = ['Apples', 'Bananas', 'Cherries']\n",
        "values = [10, 15, 7]\n",
        "\n",
        "plt.bar(categories, values)\n",
        "plt.title(\"Fruit Count\")\n",
        "plt.ylabel(\"Quantity\")\n",
        "plt.show()"
      ],
      "metadata": {
        "id": "NQeqZQOppNtj"
      },
      "execution_count": null,
      "outputs": []
    },
    {
      "cell_type": "markdown",
      "source": [
        "## Scatter Plot"
      ],
      "metadata": {
        "id": "VzgpDUWXrbu0"
      }
    },
    {
      "cell_type": "code",
      "source": [
        "x = [1, 2, 3, 4, 5]\n",
        "y = [5, 7, 6, 8, 7]\n",
        "\n",
        "plt.scatter(x, y, color='green')\n",
        "plt.title(\"Scatter Plot Example\")\n",
        "plt.xlabel(\"X Axis\")\n",
        "plt.ylabel(\"Y Axis\")\n",
        "plt.show()"
      ],
      "metadata": {
        "id": "zKQvdub5pNqI"
      },
      "execution_count": null,
      "outputs": []
    },
    {
      "cell_type": "markdown",
      "source": [
        "## Lets load and plot from a file"
      ],
      "metadata": {
        "id": "vx8ru1OWsNME"
      }
    },
    {
      "cell_type": "code",
      "source": [
        "#download the required file from GitHub (raw URL)\n",
        "url = \"https://raw.githubusercontent.com/valsson-group/python-bootcamp/main/Summer-2025/Data/TimeSeries_Dataset-3.data\"\n"
      ],
      "metadata": {
        "id": "JRG4vPRp01OK"
      },
      "execution_count": null,
      "outputs": []
    },
    {
      "cell_type": "code",
      "source": [
        "# Load the file (skip the header row)\n",
        "data = np.loadtxt(url, skiprows=1)"
      ],
      "metadata": {
        "id": "XnKBZukj0CjP"
      },
      "execution_count": null,
      "outputs": []
    },
    {
      "cell_type": "code",
      "source": [
        "# Split into columns\n",
        "time_ns = data[:, 0]\n",
        "variable = data[:, 1]\n",
        "\n",
        "# Plot\n",
        "plt.figure(figsize=(15, 10))\n",
        "plt.plot(time_ns, variable)\n",
        "plt.title(\"Time Series Data\")\n",
        "plt.xlabel(\"Time (ns)\")\n",
        "plt.ylabel(\"Variable\")\n",
        "#plt.grid(True)\n",
        "plt.show()"
      ],
      "metadata": {
        "id": "-j85N8n-0CbL"
      },
      "execution_count": null,
      "outputs": []
    },
    {
      "cell_type": "code",
      "source": [
        "plt.hist(variable, density=True, bins=500, alpha=1)\n",
        "plt.title(\"Time Series Data\")\n",
        "plt.xlabel(\"Time (ns)\")\n",
        "plt.ylabel(\"Variable\")\n",
        "#plt.grid(True)\n",
        "plt.show()"
      ],
      "metadata": {
        "id": "ry8puDKa83Yv"
      },
      "execution_count": null,
      "outputs": []
    },
    {
      "cell_type": "markdown",
      "source": [
        "* A bin is like a container or range for values.\n",
        "bins=500 means:Split the range of data into 500 small intervals, and count how many values fall into each.\n",
        "\n",
        "\n",
        "* Normally, a histogram shows counts (how many values in each bin). With density=True, it instead shows a probability density:The total area under the histogram = 1, not the total number of data points.\n",
        "\n",
        "\n",
        "* alpha controls transparency (range: 0 to 1)alpha=1 means:The histogram is fully opaque (solid color).\n",
        "alpha=0.5 would make it semi-transparent\n",
        "\n"
      ],
      "metadata": {
        "id": "aLYCjZMh_rZb"
      }
    },
    {
      "cell_type": "code",
      "source": [
        "import seaborn as sns\n",
        "plt.rcParams['figure.dpi'] = 500\n",
        "plt.hist(variable, density=True, bins=500, alpha=0.5)\n",
        "sns.kdeplot(variable, bw_adjust=0.3)\n",
        "plt.title(\"Time Series Data\")\n",
        "plt.xlabel(\"Time (ns)\")\n",
        "plt.ylabel(\"Variable\")\n",
        "plt.show()"
      ],
      "metadata": {
        "id": "nMLxd-dx83U6"
      },
      "execution_count": null,
      "outputs": []
    },
    {
      "cell_type": "code",
      "source": [
        "#Download the file from GitHub (raw URL)\n",
        "! wget https://raw.githubusercontent.com/valsson-group/python-bootcamp/main/Summer-2025/Data/Azobenzene-cis_B3LYP.data"
      ],
      "metadata": {
        "id": "h-jr2Pl30CWv"
      },
      "execution_count": null,
      "outputs": []
    },
    {
      "cell_type": "markdown",
      "source": [
        "We see the file in the `Files` section\n",
        "Notice while running the downloading we use `!` which means this is a UNIX command we run here."
      ],
      "metadata": {
        "id": "lWe46toKUvro"
      }
    },
    {
      "cell_type": "code",
      "source": [
        "# Load the file (skip the header row)\n",
        "data = np.loadtxt(\"Azobenzene-cis_B3LYP.data\", skiprows=1)\n",
        "\n",
        "# Split into columns\n",
        "states = data[:, 0]\n",
        "excitation_energy = data[:, 1]     # x-axis\n",
        "oscillator_strength = data[:, 2]   # y-axis\n",
        "\n",
        "# Plot as a line plot\n",
        "plt.figure(figsize=(15, 6))\n",
        "#plt.plot(states, oscillator_strength, color='navy', marker='o', linestyle='-.', linewidth=2)\n",
        "#plt.plot(states, excitation_energy, color='navy', marker='o', linestyle='-', linewidth=2)\n",
        "plt.plot(excitation_energy, oscillator_strength, color='navy', marker='o', linestyle='-', linewidth=2)\n",
        "\n",
        "# Title and labels\n",
        "plt.title(\"Excitation Spectrum of Azobenzene (cis, B3LYP)\", fontsize=16)\n",
        "plt.xlabel(\"states)\")\n",
        "plt.ylabel(\"Excitation Energy (eV)\")\n",
        "#plt.ylabel(\"Oscillator Strength\n",
        "#plt.grid(True)\n",
        "plt.show()"
      ],
      "metadata": {
        "id": "cxVUIYqfpNm_"
      },
      "execution_count": null,
      "outputs": []
    },
    {
      "cell_type": "markdown",
      "source": [
        "## Sub-plots"
      ],
      "metadata": {
        "id": "rIH5RfoizTH-"
      }
    },
    {
      "cell_type": "code",
      "source": [
        "# Load data with NumPy\n",
        "data = np.loadtxt(\"Azobenzene-cis_B3LYP.data\", skiprows=1)\n",
        "states = data[:, 0]\n",
        "excitation_energy = data[:, 1]\n",
        "oscillator_strength = data[:, 2]\n",
        "\n",
        "\n",
        "# Create subplots\n",
        "fig, axs = plt.subplots(2, 1, figsize=(10, 5), sharex=True)\n",
        "\n",
        "# Plot1\n",
        "axs[0].plot(states, excitation_energy, 'o-', color='navy', linewidth=2)\n",
        "axs[0].set_title(\"Excitation Spectrum of Azobenzene (cis, B3LYP)\")\n",
        "axs[0].set_ylabel(\"Oscillator Strength\")\n",
        "axs[0].grid(True)\n",
        "\n",
        "# Plot2\n",
        "axs[1].plot(states, oscillator_strength, 's--', color='darkgreen', linewidth=2)\n",
        "axs[1].set_title(\"Oscillator Strength (Example)\")\n",
        "axs[1].set_xlabel(\"Excitation Energy (eV)\")\n",
        "axs[1].set_ylabel(\"Oscillator Strength (scaled)\")\n",
        "axs[1].grid(True)\n",
        "\n",
        "plt.tight_layout()\n",
        "plt.show()\n"
      ],
      "metadata": {
        "collapsed": true,
        "id": "UVqp629upNSM"
      },
      "execution_count": null,
      "outputs": []
    },
    {
      "cell_type": "markdown",
      "source": [
        "### Dealing with IR Spectra Data"
      ],
      "metadata": {
        "id": "MTDZMFsFO43a"
      }
    },
    {
      "cell_type": "code",
      "source": [
        "# Downloading the data\n",
        "!wget https://raw.githubusercontent.com/valsson-group/python-bootcamp/main/Summer-2025/Data/IR-Spectrum_Molecule-1.data"
      ],
      "metadata": {
        "id": "nJriGs87pLoM"
      },
      "execution_count": null,
      "outputs": []
    },
    {
      "cell_type": "code",
      "source": [
        "ir_data_mol_1=np.loadtxt(\"IR-Spectrum_Molecule-1.data\", skiprows=1)"
      ],
      "metadata": {
        "id": "0WoBqFcnRpGB"
      },
      "execution_count": null,
      "outputs": []
    },
    {
      "cell_type": "markdown",
      "source": [
        "Lets visualize how does the data look like"
      ],
      "metadata": {
        "id": "ImtuxezdVRwC"
      }
    },
    {
      "cell_type": "code",
      "source": [
        "ir_data_mol_1"
      ],
      "metadata": {
        "id": "FbkpOrMxVPo1"
      },
      "execution_count": null,
      "outputs": []
    },
    {
      "cell_type": "markdown",
      "source": [
        "We have a `numpy` array of the Wavelength and Transmittance.\n",
        "\n",
        "The `0` index is Wavelength and  `1` is Transmittance"
      ],
      "metadata": {
        "id": "zXLLTnmCVaPm"
      }
    },
    {
      "cell_type": "markdown",
      "source": [
        "Lets add the absorbance in the third coloumn and then plot it"
      ],
      "metadata": {
        "id": "luqor3v1W6cR"
      }
    },
    {
      "cell_type": "code",
      "source": [
        "# Calculate absorbance\n",
        "\n",
        "absorbance=1-(ir_data_mol_1[:,1])\n",
        "ir_data_mol_1=np.append(ir_data_mol_1, absorbance.reshape(-1, 1), axis=1)"
      ],
      "metadata": {
        "id": "tdairgsfWWkv"
      },
      "execution_count": null,
      "outputs": []
    },
    {
      "cell_type": "code",
      "source": [
        "ir_data_mol_1"
      ],
      "metadata": {
        "id": "SP5r4eCVYfu4"
      },
      "execution_count": null,
      "outputs": []
    },
    {
      "cell_type": "markdown",
      "source": [
        "The `append` keyword will add to the array of the IR data (here, the absorbance at the end coloumn)"
      ],
      "metadata": {
        "id": "ihWukvisXieI"
      }
    },
    {
      "cell_type": "markdown",
      "source": [
        "Now lets plot the IR based on Absorbance"
      ],
      "metadata": {
        "id": "kdpGMhV-YOfM"
      }
    },
    {
      "cell_type": "code",
      "source": [
        "# Plotting the IR Spectra\n",
        "\n",
        "plt.figure(figsize=(10, 6))\n",
        "plt.plot(ir_data_mol_1[:,0], ir_data_mol_1[:,2])\n",
        "plt.title(\"IR Spectra of Molecule 1\")\n",
        "plt.xlabel(\"Wavelength (nm)\")\n",
        "plt.ylabel(\"Absorbance\")\n",
        "plt.show()\n",
        "plt.savefig(\"IR-Spectrum_Molecule-1_Absorbance.png\")"
      ],
      "metadata": {
        "id": "e82jBNk4XRD9"
      },
      "execution_count": null,
      "outputs": []
    },
    {
      "cell_type": "markdown",
      "source": [
        "**Exercise** : Lets plot the `Wavelength` vs `Transmittance`  "
      ],
      "metadata": {
        "id": "1b7xS01VkUj2"
      }
    },
    {
      "cell_type": "markdown",
      "source": [
        "Let's plot for another molecule"
      ],
      "metadata": {
        "id": "60mzSmNYgD8t"
      }
    },
    {
      "cell_type": "code",
      "source": [
        "!wget https://raw.githubusercontent.com/valsson-group/python-bootcamp/main/Summer-2025/Data/IR-Spectrum_Molecule-2.data"
      ],
      "metadata": {
        "id": "NzpNUQksgDj1"
      },
      "execution_count": null,
      "outputs": []
    },
    {
      "cell_type": "code",
      "source": [
        "ir_data_mol_2=np.loadtxt(\"/content/IR-Spectrum_Molecule-2.data\")"
      ],
      "metadata": {
        "id": "kdfE9nlbc6Sl"
      },
      "execution_count": null,
      "outputs": []
    },
    {
      "cell_type": "code",
      "source": [
        "ir_data_mol_2 # just checking for proper loading"
      ],
      "metadata": {
        "id": "L9ezkM4AgWB5"
      },
      "execution_count": null,
      "outputs": []
    },
    {
      "cell_type": "markdown",
      "source": [
        "Lets go ahead and plot it"
      ],
      "metadata": {
        "id": "glW2nUuUgcAL"
      }
    },
    {
      "cell_type": "code",
      "source": [
        "plt.figure(figsize=(10, 6))\n",
        "plt.plot(ir_data_mol_2[:,0], ir_data_mol_2[:,1])\n",
        "plt.title(\"IR Spectra of Molecule 2\")\n",
        "plt.xlabel(\"Wavelength (nm)\")\n",
        "plt.ylabel(\"Absorbance\")\n",
        "plt.show()\n",
        "plt.savefig(\"IR-Spectrum_Molecule-2_Absorbance.png\")"
      ],
      "metadata": {
        "id": "1mCQsylFgW8g"
      },
      "execution_count": null,
      "outputs": []
    },
    {
      "cell_type": "markdown",
      "source": [
        "This data is already in Absorbance.\n",
        "\n",
        "The next step is to plot both the molecules together."
      ],
      "metadata": {
        "id": "F6CnrqDEgmUX"
      }
    },
    {
      "cell_type": "code",
      "source": [
        "plt.figure(figsize=(10, 6))\n",
        "plt.plot(ir_data_mol_1[:,0], ir_data_mol_1[:,2])\n",
        "plt.plot(ir_data_mol_2[:,0], ir_data_mol_2[:,1])\n",
        "plt.title(\"IR Spectra of Molecule 1 and Molecule 2\")\n",
        "plt.xlabel(\"Wavelength (nm)\")\n",
        "plt.ylabel(\"Absorbance\")\n",
        "plt.legend([\"Molecule 1\", \"Molecule 2\"])\n",
        "plt.show()\n",
        "plt.savefig(\"IR-Spectrum_Molecule-1_2_Absorbance.png\")"
      ],
      "metadata": {
        "id": "PhjkBRk5gjrK"
      },
      "execution_count": null,
      "outputs": []
    }
  ]
}