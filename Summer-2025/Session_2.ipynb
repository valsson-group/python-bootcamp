{
  "nbformat": 4,
  "nbformat_minor": 0,
  "metadata": {
    "colab": {
      "provenance": [],
      "toc_visible": true,
      "include_colab_link": true
    },
    "kernelspec": {
      "name": "python3",
      "display_name": "Python 3"
    },
    "language_info": {
      "name": "python"
    }
  },
  "cells": [
    {
      "cell_type": "markdown",
      "metadata": {
        "id": "view-in-github",
        "colab_type": "text"
      },
      "source": [
        "<a href=\"https://colab.research.google.com/github/valsson-group/python-bootcamp/blob/main/Summer-2025/Session_2.ipynb\" target=\"_parent\"><img src=\"https://colab.research.google.com/assets/colab-badge.svg\" alt=\"Open In Colab\"/></a>"
      ]
    },
    {
      "cell_type": "markdown",
      "source": [
        "## Python Summer Bootcamp from Valsson Research Group\n",
        "\n",
        "### Session 2: Data Analysis and plotting using Python - Numpy, Matplotlib, Seaborn, and Pandas\n",
        "\n",
        "Date: 06/23/2025\n",
        "\n",
        "## Mentors:\n",
        "* Shikshya Bhusal\n",
        "* Sara Alinejad\n",
        "* Pradip Si\n",
        "* Logan Estridge\n",
        "* Kriti Alam\n",
        "\n"
      ],
      "metadata": {
        "id": "r1fJs0sIDWte"
      }
    },
    {
      "cell_type": "markdown",
      "source": [
        "## Materials for learning Python (along with this workshop)\n",
        "\n",
        "\n",
        "\n",
        "1.   MolSSI Python Resources for Scientific Python Computing\n",
        "     (https://education.molssi.org/resources.html#programming)\n",
        "\n",
        "2.   The Python documentation (https://docs.python.org/3/)\n",
        "\n",
        "3.   CodeAcademy (Has good learning interface) : https://www.codecademy.com/learn/learn-python\n",
        "\n",
        "4.  Python for Everybody (https://www.py4e.com/)\n",
        "\n",
        "\n",
        "\n"
      ],
      "metadata": {
        "id": "cokxO4SHPPEx"
      }
    },
    {
      "cell_type": "markdown",
      "source": [
        "## Basic Syntax"
      ],
      "metadata": {
        "id": "NfNLmbrEue3a"
      }
    },
    {
      "cell_type": "code",
      "source": [
        "# Lines starting with a hash/pound sign are comments\n",
        "# meaning that they are not evaluated as code.\n",
        "#\n",
        "# Comments are useful to add short (and not so short)\n",
        "# blurbs of text explaning a particular part of your code"
      ],
      "metadata": {
        "id": "8oT43D5iui2k"
      },
      "execution_count": null,
      "outputs": []
    },
    {
      "cell_type": "markdown",
      "source": [
        "## Recap on last week materials"
      ],
      "metadata": {
        "id": "DzgCIzEuITp9"
      }
    },
    {
      "cell_type": "markdown",
      "source": [
        "\n",
        "*   Basics (always!!)\n",
        "*   Lists\n",
        "*   Functions (will be covered today)\n",
        "*   Loops\n",
        "\n"
      ],
      "metadata": {
        "id": "26Gvs1v_IY66"
      }
    },
    {
      "cell_type": "markdown",
      "source": [
        "## Resources for today's session\n",
        "\n",
        "Documentation of the packages to be used today\n",
        "\n",
        "*   `numpy` : https://numpy.org/doc/stable/user/absolute_beginners.html\n",
        "*   `matplotlib` : https://matplotlib.org/stable/users/explain/quick_start.html\n",
        "*   `seaborn` : https://seaborn.pydata.org/api.html\n",
        "*   `pandas` :  https://pandas.pydata.org/docs/\n",
        "\n",
        "More links:\n",
        "\n",
        "* [MolSSI tutorial on plotting/visualization using Python](https://https://education.molssi.org/python-visualization/matplotlib/matplotlib-procedural.html)\n",
        "\n",
        "\n"
      ],
      "metadata": {
        "id": "HQUe-xYYI1oG"
      }
    },
    {
      "cell_type": "markdown",
      "source": [
        "## Numpy"
      ],
      "metadata": {
        "id": "PfsYrlh6Kejs"
      }
    },
    {
      "cell_type": "code",
      "source": [
        "# importing the package\n",
        "\n",
        "import numpy as np"
      ],
      "metadata": {
        "id": "RDtm8JrGIXmn"
      },
      "execution_count": 3,
      "outputs": []
    },
    {
      "cell_type": "markdown",
      "source": [
        "What does the package do ?\n",
        "Lets recap what we did for an unknown package last week."
      ],
      "metadata": {
        "id": "2PTquJxVKshA"
      }
    },
    {
      "cell_type": "code",
      "source": [
        "...(np)"
      ],
      "metadata": {
        "id": "29_vyx5jKqtS"
      },
      "execution_count": null,
      "outputs": []
    },
    {
      "cell_type": "code",
      "source": [],
      "metadata": {
        "id": "4rwDnNetK6Fw"
      },
      "execution_count": null,
      "outputs": []
    },
    {
      "cell_type": "markdown",
      "source": [],
      "metadata": {
        "id": "t9-UMbmZK5se"
      }
    }
  ]
}