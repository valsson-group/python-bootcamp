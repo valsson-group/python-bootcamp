{
  "nbformat": 4,
  "nbformat_minor": 0,
  "metadata": {
    "colab": {
      "provenance": [],
      "toc_visible": true,
      "include_colab_link": true
    },
    "kernelspec": {
      "name": "python3",
      "display_name": "Python 3"
    },
    "language_info": {
      "name": "python"
    }
  },
  "cells": [
    {
      "cell_type": "markdown",
      "metadata": {
        "id": "view-in-github",
        "colab_type": "text"
      },
      "source": [
        "<a href=\"https://colab.research.google.com/github/valsson-group/python-bootcamp/blob/main/Summer-2025/Session_2.ipynb\" target=\"_parent\"><img src=\"https://colab.research.google.com/assets/colab-badge.svg\" alt=\"Open In Colab\"/></a>"
      ]
    },
    {
      "cell_type": "markdown",
      "source": [
        "## Python Summer Bootcamp from Valsson Research Group\n",
        "\n",
        "### Session 2: Data Analysis and plotting using Python - Numpy, Matplotlib, Seaborn, and Pandas\n",
        "\n",
        "Date: 06/23/2025\n",
        "\n",
        "## Mentors:\n",
        "* Shikshya Bhusal\n",
        "* Sara Alinejad\n",
        "* Pradip Si\n",
        "* Logan Estridge\n",
        "* Kriti Alam\n",
        "\n"
      ],
      "metadata": {
        "id": "r1fJs0sIDWte"
      }
    },
    {
      "cell_type": "markdown",
      "source": [
        "## Materials for learning Python (along with this workshop)\n",
        "\n",
        "\n",
        "\n",
        "1.   MolSSI Python Resources for Scientific Python Computing\n",
        "     (https://education.molssi.org/resources.html#programming)\n",
        "\n",
        "2.   The Python documentation (https://docs.python.org/3/)\n",
        "\n",
        "3.   CodeAcademy (Has good learning interface) : https://www.codecademy.com/learn/learn-python\n",
        "\n",
        "4.  Python for Everybody (https://www.py4e.com/)\n",
        "\n",
        "\n",
        "\n"
      ],
      "metadata": {
        "id": "cokxO4SHPPEx"
      }
    },
    {
      "cell_type": "markdown",
      "source": [
        "## Basic Syntax"
      ],
      "metadata": {
        "id": "NfNLmbrEue3a"
      }
    },
    {
      "cell_type": "code",
      "source": [
        "# Lines starting with a hash/pound sign are comments\n",
        "# meaning that they are not evaluated as code.\n",
        "#\n",
        "# Comments are useful to add short (and not so short)\n",
        "# blurbs of text explaning a particular part of your code"
      ],
      "metadata": {
        "id": "8oT43D5iui2k"
      },
      "execution_count": null,
      "outputs": []
    },
    {
      "cell_type": "markdown",
      "source": [
        "## Recap on last week materials"
      ],
      "metadata": {
        "id": "DzgCIzEuITp9"
      }
    },
    {
      "cell_type": "markdown",
      "source": [
        "\n",
        "*   Basics (always!!)\n",
        "*   Lists\n",
        "*   Functions (will be covered today)\n",
        "*   Loops\n",
        "\n"
      ],
      "metadata": {
        "id": "26Gvs1v_IY66"
      }
    },
    {
      "cell_type": "markdown",
      "source": [
        "## Resources for today's session\n",
        "\n",
        "Documentation of the packages to be used today\n",
        "\n",
        "*   `numpy` : https://numpy.org/doc/stable/user/absolute_beginners.html\n",
        "*   `matplotlib` : https://matplotlib.org/stable/users/explain/quick_start.html\n",
        "*   `seaborn` : https://seaborn.pydata.org/api.html\n",
        "*   `pandas` :  https://pandas.pydata.org/docs/\n",
        "\n",
        "More links:\n",
        "\n",
        "* [MolSSI tutorial on plotting/visualization using Python](https://https://education.molssi.org/python-visualization/matplotlib/matplotlib-procedural.html)\n",
        "\n",
        "\n"
      ],
      "metadata": {
        "id": "HQUe-xYYI1oG"
      }
    },
    {
      "cell_type": "markdown",
      "source": [
        "## Numpy"
      ],
      "metadata": {
        "id": "PfsYrlh6Kejs"
      }
    },
    {
      "cell_type": "code",
      "source": [
        "# importing the package\n",
        "\n",
        "import numpy as np"
      ],
      "metadata": {
        "id": "RDtm8JrGIXmn"
      },
      "execution_count": null,
      "outputs": []
    },
    {
      "cell_type": "markdown",
      "source": [
        "What does the package do ?\n",
        "Lets recap what we did for an unknown package last week."
      ],
      "metadata": {
        "id": "2PTquJxVKshA"
      }
    },
    {
      "cell_type": "code",
      "source": [
        "...(np)"
      ],
      "metadata": {
        "id": "29_vyx5jKqtS"
      },
      "execution_count": null,
      "outputs": []
    },
    {
      "cell_type": "markdown",
      "source": [
        "Numpy can be extrememly useful in terms of easy manipulation of data. It facilititates store, manipulate or read data."
      ],
      "metadata": {
        "id": "dFyfpNEYoD3M"
      }
    },
    {
      "cell_type": "markdown",
      "source": [
        "### **Defining a Numpy Array**"
      ],
      "metadata": {
        "id": "1qg79oPcoREn"
      }
    },
    {
      "cell_type": "code",
      "source": [
        "int_array=np.array([4,5,6])\n",
        "float_array=np.array([4.0,5.0,6.0])\n",
        "string_array=np.array(['4','5','6'])\n",
        "\n",
        "print(int_array)\n",
        "print(float_array)\n",
        "print(string_array)"
      ],
      "metadata": {
        "id": "4rwDnNetK6Fw"
      },
      "execution_count": null,
      "outputs": []
    },
    {
      "cell_type": "code",
      "source": [
        "# Lets show the types of the arrays we defined\n",
        "\n",
        "print(type(int_array),type(float_array),type(string_array))"
      ],
      "metadata": {
        "id": "JpoxaG2HosAs"
      },
      "execution_count": null,
      "outputs": []
    },
    {
      "cell_type": "markdown",
      "source": [
        "All of them are arrays as defined by numpy\n",
        "\n",
        "Would be a good idea to use another object called `dtype`"
      ],
      "metadata": {
        "id": "wHQpjVfyo3Ib"
      }
    },
    {
      "cell_type": "code",
      "source": [
        "print(int_array.dtype,float_array.dtype,string_array.dtype)"
      ],
      "metadata": {
        "id": "ED0pKPw0o2Du"
      },
      "execution_count": null,
      "outputs": []
    },
    {
      "cell_type": "markdown",
      "source": [
        "### **What are numpy arrays?**"
      ],
      "metadata": {
        "id": "N6kLuxjsqY4p"
      }
    },
    {
      "cell_type": "markdown",
      "source": [
        "Features similar to lists\n",
        "*   ordered\n",
        "*   indexed\n",
        "*   mutable\n",
        "*   allowing duplicates\n",
        "\n",
        "Differences include:\n",
        "\n",
        "*   All elements should have the same datatype (no mixing like lists)\n",
        "*   Allows mathematical operations\n",
        "\n",
        "\n",
        "Lets explore them in details\n",
        "\n",
        "\n",
        "\n"
      ],
      "metadata": {
        "id": "MS2DqMFXqeBm"
      }
    },
    {
      "cell_type": "code",
      "source": [
        "# array 1: has all datatypes of elements same\n",
        "\n",
        "str_array=np.array(['1','2','3'])\n",
        "print(str_array)\n",
        "print(str_array.dtype)"
      ],
      "metadata": {
        "id": "A-S2-lIapTZF"
      },
      "execution_count": null,
      "outputs": []
    },
    {
      "cell_type": "code",
      "source": [
        "# array 2: mixing dataype\n",
        "\n",
        "mix_array=np.array([1,2,'3'])\n",
        "print(mix_array)\n",
        "print(mix_array.dtype)"
      ],
      "metadata": {
        "id": "7kWMm9Uirql7"
      },
      "execution_count": null,
      "outputs": []
    },
    {
      "cell_type": "markdown",
      "source": [
        "Notice here that the datatype of the last element (here '3' which is a string) is considered over the whole datatype\n",
        "\n",
        "Things werent this way when it was a list"
      ],
      "metadata": {
        "id": "i43uoyy8r-oc"
      }
    },
    {
      "cell_type": "code",
      "source": [
        "mixed_list=['1',2,3.0]\n",
        "print(mixed_list)\n",
        "print(type(mixed_list))\n",
        "print(type(mixed_list[0]),type(mixed_list[1]),type(mixed_list[2]))"
      ],
      "metadata": {
        "id": "-wAJnCsor6xa"
      },
      "execution_count": null,
      "outputs": []
    },
    {
      "cell_type": "markdown",
      "source": [
        "Mathematical Operations: Lists vs Numpy Arrays"
      ],
      "metadata": {
        "id": "rDSraz8etoFD"
      }
    },
    {
      "cell_type": "code",
      "source": [
        "a_list=[1,2,1]\n",
        "b_list=[5,2,1]\n",
        "\n",
        "add_list=a_list+b_list\n",
        "print(add_list)"
      ],
      "metadata": {
        "id": "cdQByzi-s7xg"
      },
      "execution_count": null,
      "outputs": []
    },
    {
      "cell_type": "markdown",
      "source": [
        "We dont really \"add\" them\n",
        "\n",
        "Rather we concatenate them"
      ],
      "metadata": {
        "id": "RSJUDT19vULM"
      }
    },
    {
      "cell_type": "markdown",
      "source": [
        "To actually \"add\" them we might need a `for` loop"
      ],
      "metadata": {
        "id": "0LcuF_ybyo80"
      }
    },
    {
      "cell_type": "code",
      "source": [
        "add_list=[]\n",
        "\n",
        "for x in range(len(a_list)):   # warning while selecting the range\n",
        "  add_list.append(a_list[x]+b_list[x])\n",
        "\n",
        "print(add_list)"
      ],
      "metadata": {
        "id": "RDKPp5dZvSa5"
      },
      "execution_count": null,
      "outputs": []
    },
    {
      "cell_type": "markdown",
      "source": [
        "Or we can do it using `numpy` arrays"
      ],
      "metadata": {
        "id": "H4Wj6fsP2CEd"
      }
    },
    {
      "cell_type": "code",
      "source": [
        "a_array=np.array(a_list)\n",
        "b_array=np.array(b_list)\n",
        "\n",
        "add_array=a_array+b_array   # here we \"add\"\n",
        "print(add_array)"
      ],
      "metadata": {
        "id": "ypJQ6p5k0GFe"
      },
      "execution_count": null,
      "outputs": []
    },
    {
      "cell_type": "markdown",
      "source": [
        "The `np.concatenate` will help join the arrays"
      ],
      "metadata": {
        "id": "d7nm_pyt2SQ9"
      }
    },
    {
      "cell_type": "code",
      "source": [
        "print(a_list,b_list)\n",
        "print(np.concatenate((a_array,b_array)))\n"
      ],
      "metadata": {
        "id": "K5ZOLlFm2MGi"
      },
      "execution_count": null,
      "outputs": []
    },
    {
      "cell_type": "markdown",
      "source": [
        "### Element-wise mathematical operations with numpy"
      ],
      "metadata": {
        "id": "igG5Z-ox3fRK"
      }
    },
    {
      "cell_type": "code",
      "source": [
        "a_array=np.array([1,2,3])\n",
        "b_array=np.array([4,5,6]) # both have the same size\n",
        "\n",
        "print(a_array+b_array)\n",
        "print(a_array-b_array)\n",
        "print(a_array*b_array)\n",
        "print(a_array/b_array)"
      ],
      "metadata": {
        "id": "vEc03e1L2X7W"
      },
      "execution_count": null,
      "outputs": []
    },
    {
      "cell_type": "markdown",
      "source": [
        "What if we do not have the same size?"
      ],
      "metadata": {
        "id": "bHcN9mXh31K-"
      }
    },
    {
      "cell_type": "code",
      "source": [
        "a_array=np.array([1,2,3])\n",
        "b_array=np.array([4,5]) # both do not have the same size\n",
        "\n",
        "print(a_array+b_array)\n",
        "print(a_array-b_array)\n",
        "print(a_array*b_array)"
      ],
      "metadata": {
        "id": "EvG9eE1c3vS0"
      },
      "execution_count": null,
      "outputs": []
    },
    {
      "cell_type": "code",
      "source": [],
      "metadata": {
        "id": "BAEizQEn4HQU"
      },
      "execution_count": null,
      "outputs": []
    }
  ]
}