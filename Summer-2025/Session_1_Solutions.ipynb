{
  "nbformat": 4,
  "nbformat_minor": 0,
  "metadata": {
    "colab": {
      "provenance": [],
      "include_colab_link": true
    },
    "kernelspec": {
      "name": "python3",
      "display_name": "Python 3"
    },
    "language_info": {
      "name": "python"
    }
  },
  "cells": [
    {
      "cell_type": "markdown",
      "metadata": {
        "id": "view-in-github",
        "colab_type": "text"
      },
      "source": [
        "<a href=\"https://colab.research.google.com/github/valsson-group/python-bootcamp/blob/main/Session_1_Solutions.ipynb\" target=\"_parent\"><img src=\"https://colab.research.google.com/assets/colab-badge.svg\" alt=\"Open In Colab\"/></a>"
      ]
    },
    {
      "cell_type": "markdown",
      "source": [
        "## Python Summer Bootcamp from Valsson Research Group\n",
        "\n",
        "Date: 06/16/2025\n",
        "\n",
        "## Mentors:\n",
        "* Shikshya Bhusal\n",
        "* Sara Alinejad\n",
        "* Pradip Si\n",
        "* Logan Estridge\n",
        "* Kriti Alam\n",
        "\n"
      ],
      "metadata": {
        "id": "r1fJs0sIDWte"
      }
    },
    {
      "cell_type": "markdown",
      "source": [
        "## Materials for learning Python (along with this workshop)\n",
        "\n",
        "\n",
        "\n",
        "1.   MolSSI Python Resources for Scientific Python Computing\n",
        "     (https://education.molssi.org/resources.html#programming)\n",
        "\n",
        "2.   The Python documentation (https://docs.python.org/3/)\n",
        "\n",
        "3.   CodeAcademy (Has good learning interface) : https://www.codecademy.com/learn/learn-python\n",
        "\n",
        "4.  Python for Everybody (https://www.py4e.com/)\n",
        "\n",
        "\n",
        "\n"
      ],
      "metadata": {
        "id": "cokxO4SHPPEx"
      }
    },
    {
      "cell_type": "markdown",
      "source": [
        "## Basic Syntax"
      ],
      "metadata": {
        "id": "NfNLmbrEue3a"
      }
    },
    {
      "cell_type": "markdown",
      "source": [
        "## **Random Text**"
      ],
      "metadata": {
        "id": "TRy528HWJzcW"
      }
    },
    {
      "cell_type": "code",
      "source": [],
      "metadata": {
        "id": "XvrCQ-3lJqn_"
      },
      "execution_count": null,
      "outputs": []
    },
    {
      "cell_type": "code",
      "source": [
        "# Lines starting with a hash/pound sign are comments\n",
        "# meaning that they are not evaluated as code.\n",
        "#\n",
        "# Comments are useful to add short (and not so short)\n",
        "# blurbs of text explaning a particular part of your code"
      ],
      "metadata": {
        "id": "8oT43D5iui2k"
      },
      "execution_count": null,
      "outputs": []
    },
    {
      "cell_type": "markdown",
      "source": [
        "### Variables and Basic Types"
      ],
      "metadata": {
        "id": "yWO9BnjWvwl3"
      }
    },
    {
      "cell_type": "markdown",
      "source": [
        "The assignment operator, denoted by the `=` symbol, assigns values to variables. The line `var_a = 3` takes the known value, 3, and assigns that value to the variable `var_a`.\n",
        "\n",
        "An important aspect of any piece of code is how readable it is for other developers (or future you), so avoid abstract variable names like `a`, `var`, `var1`, `var2`, etc."
      ],
      "metadata": {
        "id": "ZxtLSVa3v3i-"
      }
    },
    {
      "cell_type": "code",
      "source": [
        "#Lets define a value in a variable\n",
        "pi=3.1415\n",
        "\n",
        "phi=180\n",
        "\n",
        "print(pi) # print is the basic output\n",
        "print(phi)\n",
        "\n",
        "print (\"The value of pi is\",pi)"
      ],
      "metadata": {
        "id": "vizbgUkbmZLG",
        "colab": {
          "base_uri": "https://localhost:8080/"
        },
        "outputId": "a7428c65-27ea-47e6-88de-2c5b43cbcd96"
      },
      "execution_count": null,
      "outputs": [
        {
          "output_type": "stream",
          "name": "stdout",
          "text": [
            "3.1415\n",
            "180\n",
            "The value of pi is 3.1415\n"
          ]
        }
      ]
    },
    {
      "cell_type": "markdown",
      "source": [
        "What type of variable is pi ?"
      ],
      "metadata": {
        "id": "H-7bp04LnV_W"
      }
    },
    {
      "cell_type": "code",
      "source": [
        "type(pi)\n",
        "\n",
        "type(phi)"
      ],
      "metadata": {
        "id": "nDbSdz6XnTdz",
        "colab": {
          "base_uri": "https://localhost:8080/"
        },
        "outputId": "67701212-7f4b-471c-efc7-3b53ce84065b"
      },
      "execution_count": null,
      "outputs": [
        {
          "output_type": "execute_result",
          "data": {
            "text/plain": [
              "int"
            ]
          },
          "metadata": {},
          "execution_count": 8
        }
      ]
    },
    {
      "cell_type": "markdown",
      "source": [
        "## Basic mathematical operations"
      ],
      "metadata": {
        "id": "fmpE6m-XmZ_c"
      }
    },
    {
      "cell_type": "markdown",
      "source": [
        "Now lets do some calculator stuff!!"
      ],
      "metadata": {
        "id": "e9v2SBYpmzEn"
      }
    },
    {
      "cell_type": "code",
      "source": [
        "pi*pi"
      ],
      "metadata": {
        "id": "kFdPetw3myLJ",
        "colab": {
          "base_uri": "https://localhost:8080/"
        },
        "outputId": "53fc6f61-ed50-46ab-fdb6-31a3cdad5b43"
      },
      "execution_count": null,
      "outputs": [
        {
          "output_type": "execute_result",
          "data": {
            "text/plain": [
              "9.86902225"
            ]
          },
          "metadata": {},
          "execution_count": 9
        }
      ]
    },
    {
      "cell_type": "code",
      "source": [
        "pi+pi"
      ],
      "metadata": {
        "id": "QYrysaznm7M_",
        "colab": {
          "base_uri": "https://localhost:8080/"
        },
        "outputId": "85843e4d-10c1-436d-d7cd-d4b6194fdaf1"
      },
      "execution_count": null,
      "outputs": [
        {
          "output_type": "execute_result",
          "data": {
            "text/plain": [
              "6.283"
            ]
          },
          "metadata": {},
          "execution_count": 10
        }
      ]
    },
    {
      "cell_type": "code",
      "source": [
        "pi-3"
      ],
      "metadata": {
        "id": "9FKXc8kYm9-c",
        "colab": {
          "base_uri": "https://localhost:8080/"
        },
        "outputId": "b191ac81-1279-4f5c-a7bb-056bce60a648"
      },
      "execution_count": null,
      "outputs": [
        {
          "output_type": "execute_result",
          "data": {
            "text/plain": [
              "0.14150000000000018"
            ]
          },
          "metadata": {},
          "execution_count": 11
        }
      ]
    },
    {
      "cell_type": "code",
      "source": [
        "three, seven= 3,7"
      ],
      "metadata": {
        "id": "pQp9U0AnsOUU"
      },
      "execution_count": null,
      "outputs": []
    },
    {
      "cell_type": "code",
      "source": [
        "print (three, seven)"
      ],
      "metadata": {
        "colab": {
          "base_uri": "https://localhost:8080/"
        },
        "id": "PG9ohu4nLZuu",
        "outputId": "f9314208-2470-4c21-f237-a704004aa97b"
      },
      "execution_count": null,
      "outputs": [
        {
          "output_type": "stream",
          "name": "stdout",
          "text": [
            "3 7\n"
          ]
        }
      ]
    },
    {
      "cell_type": "code",
      "source": [
        "print(three+seven)"
      ],
      "metadata": {
        "id": "9tGWU6z2sSbV",
        "colab": {
          "base_uri": "https://localhost:8080/"
        },
        "outputId": "b0b02e78-6db1-4052-f76e-1048fdb5b363"
      },
      "execution_count": null,
      "outputs": [
        {
          "output_type": "stream",
          "name": "stdout",
          "text": [
            "10\n"
          ]
        }
      ]
    },
    {
      "cell_type": "code",
      "source": [
        "print(7/3)"
      ],
      "metadata": {
        "colab": {
          "base_uri": "https://localhost:8080/"
        },
        "id": "zRRAZH1HLjSd",
        "outputId": "4c823c39-05e0-40af-afe4-22194f145c25"
      },
      "execution_count": null,
      "outputs": [
        {
          "output_type": "stream",
          "name": "stdout",
          "text": [
            "2.3333333333333335\n"
          ]
        }
      ]
    },
    {
      "cell_type": "code",
      "source": [
        "print(7%3) # remainder by using '%' sign"
      ],
      "metadata": {
        "colab": {
          "base_uri": "https://localhost:8080/"
        },
        "id": "EaIW0BizLmXO",
        "outputId": "cb735d10-3369-4e2a-afa3-49c5094a31c0"
      },
      "execution_count": null,
      "outputs": [
        {
          "output_type": "stream",
          "name": "stdout",
          "text": [
            "1\n"
          ]
        }
      ]
    },
    {
      "cell_type": "markdown",
      "source": [
        "Incrementing an integer, i.e. updating the same variable"
      ],
      "metadata": {
        "id": "WSYVcJlhsp5f"
      }
    },
    {
      "cell_type": "code",
      "source": [
        "an_int = 5\n",
        "an_int = an_int + 1 # explicitly\n",
        "an_int += 1 # implicitly\n",
        "print(an_int)"
      ],
      "metadata": {
        "id": "Df4NSCsutAZe",
        "colab": {
          "base_uri": "https://localhost:8080/"
        },
        "outputId": "6bf53d26-f6e8-4bb9-aaa6-de839a1ff5a2"
      },
      "execution_count": null,
      "outputs": [
        {
          "output_type": "stream",
          "name": "stdout",
          "text": [
            "7\n"
          ]
        }
      ]
    },
    {
      "cell_type": "markdown",
      "source": [
        "You do not define this variable ? What will happen?"
      ],
      "metadata": {
        "id": "k7AKZpmfnecu"
      }
    },
    {
      "cell_type": "code",
      "source": [
        "print(psi)"
      ],
      "metadata": {
        "id": "dLQloL9vwP9E",
        "colab": {
          "base_uri": "https://localhost:8080/",
          "height": 141
        },
        "outputId": "8d5ac6a8-b33b-4b79-e03a-d1707ecd9e5a"
      },
      "execution_count": null,
      "outputs": [
        {
          "output_type": "error",
          "ename": "NameError",
          "evalue": "name 'psi' is not defined",
          "traceback": [
            "\u001b[0;31m---------------------------------------------------------------------------\u001b[0m",
            "\u001b[0;31mNameError\u001b[0m                                 Traceback (most recent call last)",
            "\u001b[0;32m<ipython-input-19-4219900708>\u001b[0m in \u001b[0;36m<cell line: 0>\u001b[0;34m()\u001b[0m\n\u001b[0;32m----> 1\u001b[0;31m \u001b[0mprint\u001b[0m\u001b[0;34m(\u001b[0m\u001b[0mpsi\u001b[0m\u001b[0;34m)\u001b[0m\u001b[0;34m\u001b[0m\u001b[0;34m\u001b[0m\u001b[0m\n\u001b[0m",
            "\u001b[0;31mNameError\u001b[0m: name 'psi' is not defined"
          ]
        }
      ]
    },
    {
      "cell_type": "markdown",
      "source": [
        "Yes!! We get an error 😀"
      ],
      "metadata": {
        "id": "NfEX42A9wV8N"
      }
    },
    {
      "cell_type": "markdown",
      "source": [
        "How do we know what kind is a certain variable? We use the \"type\" keyword"
      ],
      "metadata": {
        "id": "O9wgGeH7yLyL"
      }
    },
    {
      "cell_type": "code",
      "source": [
        "type(pi)"
      ],
      "metadata": {
        "id": "5VBtmV06yJOF",
        "colab": {
          "base_uri": "https://localhost:8080/"
        },
        "outputId": "f3e63908-1a5a-4d39-ac5f-6700d2a56bdc"
      },
      "execution_count": null,
      "outputs": [
        {
          "output_type": "execute_result",
          "data": {
            "text/plain": [
              "float"
            ]
          },
          "metadata": {},
          "execution_count": 20
        }
      ]
    },
    {
      "cell_type": "code",
      "execution_count": null,
      "metadata": {
        "id": "r9qbOw79vG44",
        "colab": {
          "base_uri": "https://localhost:8080/"
        },
        "outputId": "67137f58-1a43-4f3d-c841-e0c887dea8ed"
      },
      "outputs": [
        {
          "output_type": "stream",
          "name": "stdout",
          "text": [
            "Hello World\n"
          ]
        }
      ],
      "source": [
        "print(\"Hello World\")"
      ]
    },
    {
      "cell_type": "markdown",
      "source": [
        "The basic data types found in Python"
      ],
      "metadata": {
        "id": "XA7afUHSygqs"
      }
    },
    {
      "cell_type": "code",
      "source": [
        "an_integer = 42 # Just an integer\n",
        "a_float = 0.1 # A non-integer number, up to a fixed precision\n",
        "a_boolean = True # A value that can be True or False\n",
        "a_string = '''just enclose text between two 's, or two \"s, or do what we did for this string''' # Text\n",
        "none_of_the_above = None # The absence of any actual value or variable type"
      ],
      "metadata": {
        "id": "l43HBy5iyjzb"
      },
      "execution_count": null,
      "outputs": []
    },
    {
      "cell_type": "markdown",
      "source": [
        "An interesting thing to note is the declaration of the variable sets the data type (unlikely if you have seen C++ or Java)"
      ],
      "metadata": {
        "id": "WybzRu-6RBai"
      }
    },
    {
      "cell_type": "code",
      "source": [
        "type(an_integer)\n",
        "type(a_boolean)"
      ],
      "metadata": {
        "id": "7PE8b3L0ykOj",
        "colab": {
          "base_uri": "https://localhost:8080/"
        },
        "outputId": "fa3ab90e-181f-4a61-864d-92476a9676db"
      },
      "execution_count": null,
      "outputs": [
        {
          "output_type": "execute_result",
          "data": {
            "text/plain": [
              "bool"
            ]
          },
          "metadata": {},
          "execution_count": 23
        }
      ]
    },
    {
      "cell_type": "markdown",
      "source": [
        "You have 2 statements, but how come only 1 showed up?"
      ],
      "metadata": {
        "id": "HBQQu7nOzOtv"
      }
    },
    {
      "cell_type": "code",
      "source": [
        "print (type(an_integer),type(a_boolean))"
      ],
      "metadata": {
        "id": "74DJyrdrzLIL",
        "colab": {
          "base_uri": "https://localhost:8080/"
        },
        "outputId": "8bf1335a-3d66-49e6-d4d5-e5281e02f5bd"
      },
      "execution_count": null,
      "outputs": [
        {
          "output_type": "stream",
          "name": "stdout",
          "text": [
            "<class 'int'> <class 'bool'>\n"
          ]
        }
      ]
    },
    {
      "cell_type": "markdown",
      "source": [
        "The datatype of a variable is implicit i.e. will depend on how it is declared or being set to."
      ],
      "metadata": {
        "id": "-uy8shk1D7cR"
      }
    },
    {
      "cell_type": "code",
      "source": [
        "z=\"1.0\"\n",
        "b= 1.0\n",
        "\n",
        "print(type(z),type(b))"
      ],
      "metadata": {
        "id": "S5M1YABxELSR",
        "colab": {
          "base_uri": "https://localhost:8080/"
        },
        "outputId": "c5cfcf74-4abd-4543-dea2-662153339667"
      },
      "execution_count": null,
      "outputs": [
        {
          "output_type": "stream",
          "name": "stdout",
          "text": [
            "<class 'str'> <class 'float'>\n"
          ]
        }
      ]
    },
    {
      "cell_type": "markdown",
      "source": [
        "We can also change between datatypes (or convert between datatypes)"
      ],
      "metadata": {
        "id": "FVz0Qq-MGLYH"
      }
    },
    {
      "cell_type": "code",
      "source": [
        "b=\"3.0\" # String\n",
        "print(b,type(b))\n",
        "b=float(b) # Float\n",
        "print(b,type(b))"
      ],
      "metadata": {
        "id": "AZpvp3I8GKUx",
        "colab": {
          "base_uri": "https://localhost:8080/"
        },
        "outputId": "76d62dfd-47e9-449d-9d85-88192096582b"
      },
      "execution_count": null,
      "outputs": [
        {
          "output_type": "stream",
          "name": "stdout",
          "text": [
            "3.0 <class 'str'>\n",
            "3.0 <class 'float'>\n"
          ]
        }
      ]
    },
    {
      "cell_type": "markdown",
      "source": [
        "# Dealing with complex numbers"
      ],
      "metadata": {
        "id": "fXcThOt-RsBz"
      }
    },
    {
      "cell_type": "code",
      "source": [
        "z=3+4j\n",
        "type(z)"
      ],
      "metadata": {
        "id": "C4EZ58c8zyIe",
        "colab": {
          "base_uri": "https://localhost:8080/"
        },
        "outputId": "e7c73cd3-65ed-4659-f8be-9d8278cdcddb"
      },
      "execution_count": null,
      "outputs": [
        {
          "output_type": "execute_result",
          "data": {
            "text/plain": [
              "complex"
            ]
          },
          "metadata": {},
          "execution_count": 28
        }
      ]
    },
    {
      "cell_type": "code",
      "source": [
        "abs (z) # Take the absolute value"
      ],
      "metadata": {
        "id": "T-R7PqX4RzLg",
        "colab": {
          "base_uri": "https://localhost:8080/"
        },
        "outputId": "825ecef0-3e16-435a-dc20-833da5f35989"
      },
      "execution_count": null,
      "outputs": [
        {
          "output_type": "execute_result",
          "data": {
            "text/plain": [
              "5.0"
            ]
          },
          "metadata": {},
          "execution_count": 29
        }
      ]
    },
    {
      "cell_type": "code",
      "source": [
        "#Declaring using the complex keyword\n",
        "complex (4,5)"
      ],
      "metadata": {
        "id": "23HvyHeMR31H",
        "colab": {
          "base_uri": "https://localhost:8080/"
        },
        "outputId": "64aeacd4-760f-46ef-e664-56aed5ef36c3"
      },
      "execution_count": null,
      "outputs": [
        {
          "output_type": "execute_result",
          "data": {
            "text/plain": [
              "(4+5j)"
            ]
          },
          "metadata": {},
          "execution_count": 30
        }
      ]
    },
    {
      "cell_type": "markdown",
      "source": [
        "# Using a module in Python\n",
        "\n",
        "What is a module? : It is a file which has Python codes."
      ],
      "metadata": {
        "id": "jHyVG04aTJQ4"
      }
    },
    {
      "cell_type": "markdown",
      "source": [
        "## Example: The math module"
      ],
      "metadata": {
        "id": "8GeqbseSTMo8"
      }
    },
    {
      "cell_type": "code",
      "source": [
        "# importing a module\n",
        "import math"
      ],
      "metadata": {
        "id": "vdBp1XXzS77M"
      },
      "execution_count": null,
      "outputs": []
    },
    {
      "cell_type": "markdown",
      "source": [
        "### What does this module do ?"
      ],
      "metadata": {
        "id": "htCE9dfaTXPN"
      }
    },
    {
      "cell_type": "markdown",
      "source": [
        "We can check by using the **help** function"
      ],
      "metadata": {
        "id": "ShQULFjJTfSP"
      }
    },
    {
      "cell_type": "code",
      "source": [
        "help(math)"
      ],
      "metadata": {
        "id": "JUHdo14STQ2P",
        "colab": {
          "base_uri": "https://localhost:8080/"
        },
        "outputId": "9066ccf3-7018-4909-ca6d-e2aded09b3ab"
      },
      "execution_count": null,
      "outputs": [
        {
          "output_type": "stream",
          "name": "stdout",
          "text": [
            "Help on built-in module math:\n",
            "\n",
            "NAME\n",
            "    math\n",
            "\n",
            "DESCRIPTION\n",
            "    This module provides access to the mathematical functions\n",
            "    defined by the C standard.\n",
            "\n",
            "FUNCTIONS\n",
            "    acos(x, /)\n",
            "        Return the arc cosine (measured in radians) of x.\n",
            "        \n",
            "        The result is between 0 and pi.\n",
            "    \n",
            "    acosh(x, /)\n",
            "        Return the inverse hyperbolic cosine of x.\n",
            "    \n",
            "    asin(x, /)\n",
            "        Return the arc sine (measured in radians) of x.\n",
            "        \n",
            "        The result is between -pi/2 and pi/2.\n",
            "    \n",
            "    asinh(x, /)\n",
            "        Return the inverse hyperbolic sine of x.\n",
            "    \n",
            "    atan(x, /)\n",
            "        Return the arc tangent (measured in radians) of x.\n",
            "        \n",
            "        The result is between -pi/2 and pi/2.\n",
            "    \n",
            "    atan2(y, x, /)\n",
            "        Return the arc tangent (measured in radians) of y/x.\n",
            "        \n",
            "        Unlike atan(y/x), the signs of both x and y are considered.\n",
            "    \n",
            "    atanh(x, /)\n",
            "        Return the inverse hyperbolic tangent of x.\n",
            "    \n",
            "    cbrt(x, /)\n",
            "        Return the cube root of x.\n",
            "    \n",
            "    ceil(x, /)\n",
            "        Return the ceiling of x as an Integral.\n",
            "        \n",
            "        This is the smallest integer >= x.\n",
            "    \n",
            "    comb(n, k, /)\n",
            "        Number of ways to choose k items from n items without repetition and without order.\n",
            "        \n",
            "        Evaluates to n! / (k! * (n - k)!) when k <= n and evaluates\n",
            "        to zero when k > n.\n",
            "        \n",
            "        Also called the binomial coefficient because it is equivalent\n",
            "        to the coefficient of k-th term in polynomial expansion of the\n",
            "        expression (1 + x)**n.\n",
            "        \n",
            "        Raises TypeError if either of the arguments are not integers.\n",
            "        Raises ValueError if either of the arguments are negative.\n",
            "    \n",
            "    copysign(x, y, /)\n",
            "        Return a float with the magnitude (absolute value) of x but the sign of y.\n",
            "        \n",
            "        On platforms that support signed zeros, copysign(1.0, -0.0)\n",
            "        returns -1.0.\n",
            "    \n",
            "    cos(x, /)\n",
            "        Return the cosine of x (measured in radians).\n",
            "    \n",
            "    cosh(x, /)\n",
            "        Return the hyperbolic cosine of x.\n",
            "    \n",
            "    degrees(x, /)\n",
            "        Convert angle x from radians to degrees.\n",
            "    \n",
            "    dist(p, q, /)\n",
            "        Return the Euclidean distance between two points p and q.\n",
            "        \n",
            "        The points should be specified as sequences (or iterables) of\n",
            "        coordinates.  Both inputs must have the same dimension.\n",
            "        \n",
            "        Roughly equivalent to:\n",
            "            sqrt(sum((px - qx) ** 2.0 for px, qx in zip(p, q)))\n",
            "    \n",
            "    erf(x, /)\n",
            "        Error function at x.\n",
            "    \n",
            "    erfc(x, /)\n",
            "        Complementary error function at x.\n",
            "    \n",
            "    exp(x, /)\n",
            "        Return e raised to the power of x.\n",
            "    \n",
            "    exp2(x, /)\n",
            "        Return 2 raised to the power of x.\n",
            "    \n",
            "    expm1(x, /)\n",
            "        Return exp(x)-1.\n",
            "        \n",
            "        This function avoids the loss of precision involved in the direct evaluation of exp(x)-1 for small x.\n",
            "    \n",
            "    fabs(x, /)\n",
            "        Return the absolute value of the float x.\n",
            "    \n",
            "    factorial(n, /)\n",
            "        Find n!.\n",
            "        \n",
            "        Raise a ValueError if x is negative or non-integral.\n",
            "    \n",
            "    floor(x, /)\n",
            "        Return the floor of x as an Integral.\n",
            "        \n",
            "        This is the largest integer <= x.\n",
            "    \n",
            "    fmod(x, y, /)\n",
            "        Return fmod(x, y), according to platform C.\n",
            "        \n",
            "        x % y may differ.\n",
            "    \n",
            "    frexp(x, /)\n",
            "        Return the mantissa and exponent of x, as pair (m, e).\n",
            "        \n",
            "        m is a float and e is an int, such that x = m * 2.**e.\n",
            "        If x is 0, m and e are both 0.  Else 0.5 <= abs(m) < 1.0.\n",
            "    \n",
            "    fsum(seq, /)\n",
            "        Return an accurate floating point sum of values in the iterable seq.\n",
            "        \n",
            "        Assumes IEEE-754 floating point arithmetic.\n",
            "    \n",
            "    gamma(x, /)\n",
            "        Gamma function at x.\n",
            "    \n",
            "    gcd(*integers)\n",
            "        Greatest Common Divisor.\n",
            "    \n",
            "    hypot(...)\n",
            "        hypot(*coordinates) -> value\n",
            "        \n",
            "        Multidimensional Euclidean distance from the origin to a point.\n",
            "        \n",
            "        Roughly equivalent to:\n",
            "            sqrt(sum(x**2 for x in coordinates))\n",
            "        \n",
            "        For a two dimensional point (x, y), gives the hypotenuse\n",
            "        using the Pythagorean theorem:  sqrt(x*x + y*y).\n",
            "        \n",
            "        For example, the hypotenuse of a 3/4/5 right triangle is:\n",
            "        \n",
            "            >>> hypot(3.0, 4.0)\n",
            "            5.0\n",
            "    \n",
            "    isclose(a, b, *, rel_tol=1e-09, abs_tol=0.0)\n",
            "        Determine whether two floating point numbers are close in value.\n",
            "        \n",
            "          rel_tol\n",
            "            maximum difference for being considered \"close\", relative to the\n",
            "            magnitude of the input values\n",
            "          abs_tol\n",
            "            maximum difference for being considered \"close\", regardless of the\n",
            "            magnitude of the input values\n",
            "        \n",
            "        Return True if a is close in value to b, and False otherwise.\n",
            "        \n",
            "        For the values to be considered close, the difference between them\n",
            "        must be smaller than at least one of the tolerances.\n",
            "        \n",
            "        -inf, inf and NaN behave similarly to the IEEE 754 Standard.  That\n",
            "        is, NaN is not close to anything, even itself.  inf and -inf are\n",
            "        only close to themselves.\n",
            "    \n",
            "    isfinite(x, /)\n",
            "        Return True if x is neither an infinity nor a NaN, and False otherwise.\n",
            "    \n",
            "    isinf(x, /)\n",
            "        Return True if x is a positive or negative infinity, and False otherwise.\n",
            "    \n",
            "    isnan(x, /)\n",
            "        Return True if x is a NaN (not a number), and False otherwise.\n",
            "    \n",
            "    isqrt(n, /)\n",
            "        Return the integer part of the square root of the input.\n",
            "    \n",
            "    lcm(*integers)\n",
            "        Least Common Multiple.\n",
            "    \n",
            "    ldexp(x, i, /)\n",
            "        Return x * (2**i).\n",
            "        \n",
            "        This is essentially the inverse of frexp().\n",
            "    \n",
            "    lgamma(x, /)\n",
            "        Natural logarithm of absolute value of Gamma function at x.\n",
            "    \n",
            "    log(...)\n",
            "        log(x, [base=math.e])\n",
            "        Return the logarithm of x to the given base.\n",
            "        \n",
            "        If the base not specified, returns the natural logarithm (base e) of x.\n",
            "    \n",
            "    log10(x, /)\n",
            "        Return the base 10 logarithm of x.\n",
            "    \n",
            "    log1p(x, /)\n",
            "        Return the natural logarithm of 1+x (base e).\n",
            "        \n",
            "        The result is computed in a way which is accurate for x near zero.\n",
            "    \n",
            "    log2(x, /)\n",
            "        Return the base 2 logarithm of x.\n",
            "    \n",
            "    modf(x, /)\n",
            "        Return the fractional and integer parts of x.\n",
            "        \n",
            "        Both results carry the sign of x and are floats.\n",
            "    \n",
            "    nextafter(x, y, /)\n",
            "        Return the next floating-point value after x towards y.\n",
            "    \n",
            "    perm(n, k=None, /)\n",
            "        Number of ways to choose k items from n items without repetition and with order.\n",
            "        \n",
            "        Evaluates to n! / (n - k)! when k <= n and evaluates\n",
            "        to zero when k > n.\n",
            "        \n",
            "        If k is not specified or is None, then k defaults to n\n",
            "        and the function returns n!.\n",
            "        \n",
            "        Raises TypeError if either of the arguments are not integers.\n",
            "        Raises ValueError if either of the arguments are negative.\n",
            "    \n",
            "    pow(x, y, /)\n",
            "        Return x**y (x to the power of y).\n",
            "    \n",
            "    prod(iterable, /, *, start=1)\n",
            "        Calculate the product of all the elements in the input iterable.\n",
            "        \n",
            "        The default start value for the product is 1.\n",
            "        \n",
            "        When the iterable is empty, return the start value.  This function is\n",
            "        intended specifically for use with numeric values and may reject\n",
            "        non-numeric types.\n",
            "    \n",
            "    radians(x, /)\n",
            "        Convert angle x from degrees to radians.\n",
            "    \n",
            "    remainder(x, y, /)\n",
            "        Difference between x and the closest integer multiple of y.\n",
            "        \n",
            "        Return x - n*y where n*y is the closest integer multiple of y.\n",
            "        In the case where x is exactly halfway between two multiples of\n",
            "        y, the nearest even value of n is used. The result is always exact.\n",
            "    \n",
            "    sin(x, /)\n",
            "        Return the sine of x (measured in radians).\n",
            "    \n",
            "    sinh(x, /)\n",
            "        Return the hyperbolic sine of x.\n",
            "    \n",
            "    sqrt(x, /)\n",
            "        Return the square root of x.\n",
            "    \n",
            "    tan(x, /)\n",
            "        Return the tangent of x (measured in radians).\n",
            "    \n",
            "    tanh(x, /)\n",
            "        Return the hyperbolic tangent of x.\n",
            "    \n",
            "    trunc(x, /)\n",
            "        Truncates the Real x to the nearest Integral toward 0.\n",
            "        \n",
            "        Uses the __trunc__ magic method.\n",
            "    \n",
            "    ulp(x, /)\n",
            "        Return the value of the least significant bit of the float x.\n",
            "\n",
            "DATA\n",
            "    e = 2.718281828459045\n",
            "    inf = inf\n",
            "    nan = nan\n",
            "    pi = 3.141592653589793\n",
            "    tau = 6.283185307179586\n",
            "\n",
            "FILE\n",
            "    (built-in)\n",
            "\n",
            "\n"
          ]
        }
      ]
    },
    {
      "cell_type": "markdown",
      "source": [
        "## or using '?'"
      ],
      "metadata": {
        "id": "jJKf4rqpUhg9"
      }
    },
    {
      "cell_type": "code",
      "source": [
        "math?"
      ],
      "metadata": {
        "id": "_8-gWW_oUZwE"
      },
      "execution_count": null,
      "outputs": []
    },
    {
      "cell_type": "markdown",
      "source": [
        "### How to use a function from a module?"
      ],
      "metadata": {
        "id": "nTXcjNVCUm-L"
      }
    },
    {
      "cell_type": "code",
      "source": [
        "help(math.cos)"
      ],
      "metadata": {
        "id": "QVS8DJGfUkwS",
        "colab": {
          "base_uri": "https://localhost:8080/"
        },
        "outputId": "8b38b724-f329-48ea-862e-feb92cf3951b"
      },
      "execution_count": null,
      "outputs": [
        {
          "output_type": "stream",
          "name": "stdout",
          "text": [
            "Help on built-in function cos in module math:\n",
            "\n",
            "cos(x, /)\n",
            "    Return the cosine of x (measured in radians).\n",
            "\n"
          ]
        }
      ]
    },
    {
      "cell_type": "markdown",
      "source": [
        "# Exercise time"
      ],
      "metadata": {
        "id": "K7zmXZGBSUtn"
      }
    },
    {
      "cell_type": "markdown",
      "source": [
        "**Exercise 1** Complete the following piece of code to calculate the volume of a cylinder given its radius and height , following the formula: $volume = {pi} * {r}^{2}* {h} $.\n",
        "\n",
        "Use the value of `pi` stored in the `math` module as `math.pi`."
      ],
      "metadata": {
        "id": "_6jZimDpSbo8"
      }
    },
    {
      "cell_type": "code",
      "source": [
        "radius = 5\n",
        "height = 3\n",
        "volume = math.pi*(radius**2)*(height)\n",
        "volume=math.pi*(math.pow(radius,2))*(height)\n",
        "print(volume)"
      ],
      "metadata": {
        "id": "3c4G9ofwSRp_",
        "colab": {
          "base_uri": "https://localhost:8080/"
        },
        "outputId": "419e9d97-9ca2-487e-ebc2-9aac29a7e5c2"
      },
      "execution_count": null,
      "outputs": [
        {
          "output_type": "stream",
          "name": "stdout",
          "text": [
            "235.61944901923448\n"
          ]
        }
      ]
    },
    {
      "cell_type": "markdown",
      "source": [
        "**Exercise 2** Trigonometry\n",
        "\n",
        "If we are given the base and the hypotenuse, lets find the angle Θ\n",
        "\n",
        "Hint: use \"acos\""
      ],
      "metadata": {
        "id": "qiJgl4Kwqp0f"
      }
    },
    {
      "cell_type": "code",
      "source": [
        "b=4\n",
        "h=8\n",
        "\n",
        "theta=math.acos(b/h)\n",
        "print(theta,\"radians\")\n",
        "\n",
        "# What if we want it in degrees?\n",
        "\n",
        "print(math.degrees(theta),\"degrees\")"
      ],
      "metadata": {
        "id": "bPSmaDjOrM2S",
        "colab": {
          "base_uri": "https://localhost:8080/"
        },
        "outputId": "72543c36-b20d-4e76-abb1-1de95dd66d40"
      },
      "execution_count": null,
      "outputs": [
        {
          "output_type": "stream",
          "name": "stdout",
          "text": [
            "1.0471975511965979 radians\n",
            "60.00000000000001 degrees\n"
          ]
        }
      ]
    },
    {
      "cell_type": "markdown",
      "source": [
        "## Container Datatypes: lists, tuples, sets, and dictionaries"
      ],
      "metadata": {
        "id": "l8P0QPuHWNuf"
      }
    },
    {
      "cell_type": "markdown",
      "source": [
        "**Lists** are groups of objects (values, variables, even functions). We construct them using square brackets [] with objects separated by commas."
      ],
      "metadata": {
        "id": "9SLQHv28WtJl"
      }
    },
    {
      "cell_type": "code",
      "source": [
        "values = [7, 11, 13, 17, 19, 23, 29]"
      ],
      "metadata": {
        "id": "QIArGwZcVDKC"
      },
      "execution_count": null,
      "outputs": []
    },
    {
      "cell_type": "markdown",
      "source": [
        "### Indexing in Python\n",
        "\n",
        "Very importantly, **indexing in Python starts at 0**. The first item on a list is numbered 0, not 1. This means the last index of a list in Python is its `length - 1`, not length.."
      ],
      "metadata": {
        "id": "5nB9bYeEXEa9"
      }
    },
    {
      "cell_type": "code",
      "source": [
        "#accessing an element from the list\n",
        "values[0],values[1],values[6]"
      ],
      "metadata": {
        "id": "Vb0chk6yWy2L",
        "colab": {
          "base_uri": "https://localhost:8080/"
        },
        "outputId": "91c503be-d660-40a4-8f10-3db54ad47845"
      },
      "execution_count": null,
      "outputs": [
        {
          "output_type": "execute_result",
          "data": {
            "text/plain": [
              "(7, 11, 29)"
            ]
          },
          "metadata": {},
          "execution_count": 49
        }
      ]
    },
    {
      "cell_type": "code",
      "source": [
        "values[7]"
      ],
      "metadata": {
        "colab": {
          "base_uri": "https://localhost:8080/",
          "height": 141
        },
        "id": "268PAk5FZFMY",
        "outputId": "eed42579-6102-4580-ab7e-9f0ccbf5c364"
      },
      "execution_count": null,
      "outputs": [
        {
          "output_type": "error",
          "ename": "IndexError",
          "evalue": "list index out of range",
          "traceback": [
            "\u001b[0;31m---------------------------------------------------------------------------\u001b[0m",
            "\u001b[0;31mIndexError\u001b[0m                                Traceback (most recent call last)",
            "\u001b[0;32m<ipython-input-50-2346358670>\u001b[0m in \u001b[0;36m<cell line: 0>\u001b[0;34m()\u001b[0m\n\u001b[0;32m----> 1\u001b[0;31m \u001b[0mvalues\u001b[0m\u001b[0;34m[\u001b[0m\u001b[0;36m7\u001b[0m\u001b[0;34m]\u001b[0m\u001b[0;34m\u001b[0m\u001b[0;34m\u001b[0m\u001b[0m\n\u001b[0m",
            "\u001b[0;31mIndexError\u001b[0m: list index out of range"
          ]
        }
      ]
    },
    {
      "cell_type": "code",
      "source": [
        "#Length of the list\n",
        "\n",
        "len(values)"
      ],
      "metadata": {
        "id": "Yf55GHDVXqSn",
        "colab": {
          "base_uri": "https://localhost:8080/"
        },
        "outputId": "6dad03b3-5928-44cf-d23f-20a0cce88de3"
      },
      "execution_count": null,
      "outputs": [
        {
          "output_type": "execute_result",
          "data": {
            "text/plain": [
              "7"
            ]
          },
          "metadata": {},
          "execution_count": 48
        }
      ]
    },
    {
      "cell_type": "code",
      "source": [
        "# last element of the list\n",
        "\n",
        "values[-1]"
      ],
      "metadata": {
        "id": "Rd1VZiIEX4F0",
        "colab": {
          "base_uri": "https://localhost:8080/"
        },
        "outputId": "ce9e9ad7-3ded-441f-ea5c-77aeab2d8dd4"
      },
      "execution_count": null,
      "outputs": [
        {
          "output_type": "execute_result",
          "data": {
            "text/plain": [
              "29"
            ]
          },
          "metadata": {},
          "execution_count": 51
        }
      ]
    },
    {
      "cell_type": "code",
      "source": [
        "# printing values within a range\n",
        "\n",
        "values [0:5]"
      ],
      "metadata": {
        "id": "slWFKBbtX_uz",
        "colab": {
          "base_uri": "https://localhost:8080/"
        },
        "outputId": "a793cd73-2274-4b3a-83dc-49271a041493"
      },
      "execution_count": null,
      "outputs": [
        {
          "output_type": "execute_result",
          "data": {
            "text/plain": [
              "[7, 11, 13, 17, 19]"
            ]
          },
          "metadata": {},
          "execution_count": 54
        }
      ]
    },
    {
      "cell_type": "markdown",
      "source": [
        "### Slicing a list"
      ],
      "metadata": {
        "id": "idOYwRUwYlIz"
      }
    },
    {
      "cell_type": "code",
      "source": [
        "#splicing syntax: [start:stop:stride]\n",
        "values [0:4:2]"
      ],
      "metadata": {
        "id": "20sSjQ58YGur",
        "colab": {
          "base_uri": "https://localhost:8080/"
        },
        "outputId": "797133c8-942f-4512-e527-4d26498d349a"
      },
      "execution_count": null,
      "outputs": [
        {
          "output_type": "execute_result",
          "data": {
            "text/plain": [
              "[7, 13]"
            ]
          },
          "metadata": {},
          "execution_count": 55
        }
      ]
    },
    {
      "cell_type": "markdown",
      "source": [
        "### What is happening here ?\n",
        "\n",
        "Slicing the list and making a sublist of every 2nd element between the 0th and 4th index"
      ],
      "metadata": {
        "id": "Ak8h_PebYqcB"
      }
    },
    {
      "cell_type": "markdown",
      "source": [
        "Another example is where we dont define the start and the stop indices but just the stride"
      ],
      "metadata": {
        "id": "LHkPgTWtI-c8"
      }
    },
    {
      "cell_type": "code",
      "source": [
        "values[::2]"
      ],
      "metadata": {
        "id": "WK_VBIJtYoVM",
        "colab": {
          "base_uri": "https://localhost:8080/"
        },
        "outputId": "3cd93b2f-7b7b-480d-a35d-2cafa15541c6"
      },
      "execution_count": null,
      "outputs": [
        {
          "output_type": "execute_result",
          "data": {
            "text/plain": [
              "[7, 13, 19, 29]"
            ]
          },
          "metadata": {},
          "execution_count": 56
        }
      ]
    },
    {
      "cell_type": "markdown",
      "source": [
        "This gives values every 2nd element"
      ],
      "metadata": {
        "id": "7mFtSLRibYju"
      }
    },
    {
      "cell_type": "markdown",
      "source": [
        "A mixed list of different datatypes"
      ],
      "metadata": {
        "id": "LS32-IwucIBB"
      }
    },
    {
      "cell_type": "code",
      "source": [
        "mixed_list = ['one', 1, 1e6, [1,1], True, None]\n",
        "print(mixed_list)"
      ],
      "metadata": {
        "id": "s1JYnxZJbFjP",
        "colab": {
          "base_uri": "https://localhost:8080/"
        },
        "outputId": "3400fff8-7ec1-4876-e6c4-b3e8fcd16f1d"
      },
      "execution_count": null,
      "outputs": [
        {
          "output_type": "stream",
          "name": "stdout",
          "text": [
            "['one', 1, 1000000.0, [1, 1], True, None]\n"
          ]
        }
      ]
    },
    {
      "cell_type": "code",
      "source": [
        "matrix=[[1,1],[2,2]] # not recommended to matricize\n",
        "print(matrix[0])"
      ],
      "metadata": {
        "colab": {
          "base_uri": "https://localhost:8080/"
        },
        "id": "gTyFn_mgZ66R",
        "outputId": "f5f4d7af-0757-4f0e-8869-aea8ab0c7c7c"
      },
      "execution_count": null,
      "outputs": [
        {
          "output_type": "stream",
          "name": "stdout",
          "text": [
            "[1, 1]\n"
          ]
        }
      ]
    },
    {
      "cell_type": "markdown",
      "source": [
        "\"adding\" lists"
      ],
      "metadata": {
        "id": "MrxC-aEudQBd"
      }
    },
    {
      "cell_type": "code",
      "source": [
        "values2 = values + values\n",
        "print(values2)"
      ],
      "metadata": {
        "id": "PXxnHZaZcVvv",
        "colab": {
          "base_uri": "https://localhost:8080/"
        },
        "outputId": "4c338944-728d-4409-cac3-d1bb17f192f7"
      },
      "execution_count": null,
      "outputs": [
        {
          "output_type": "stream",
          "name": "stdout",
          "text": [
            "[7, 11, 13, 17, 19, 23, 29, 7, 11, 13, 17, 19, 23, 29]\n"
          ]
        }
      ]
    },
    {
      "cell_type": "markdown",
      "source": [
        "\"multiplying\" list"
      ],
      "metadata": {
        "id": "LCC8SmIkddLZ"
      }
    },
    {
      "cell_type": "code",
      "source": [
        "values3 = values * 3\n",
        "print(values3)"
      ],
      "metadata": {
        "id": "2vd2697MdYkW",
        "colab": {
          "base_uri": "https://localhost:8080/"
        },
        "outputId": "f3d0ba3f-919e-4126-dedf-e388823ba06c"
      },
      "execution_count": null,
      "outputs": [
        {
          "output_type": "stream",
          "name": "stdout",
          "text": [
            "[7, 11, 13, 17, 19, 23, 29, 7, 11, 13, 17, 19, 23, 29, 7, 11, 13, 17, 19, 23, 29]\n"
          ]
        }
      ]
    },
    {
      "cell_type": "markdown",
      "source": [
        "## Lets explore some attached functions for lists"
      ],
      "metadata": {
        "id": "53V3F8Irf5S0"
      }
    },
    {
      "cell_type": "code",
      "source": [
        "values=[] # here we define a list: in this case an empty list\n",
        "print(values)"
      ],
      "metadata": {
        "id": "TXJ_D6Dyf46I",
        "colab": {
          "base_uri": "https://localhost:8080/"
        },
        "outputId": "3eabc632-80d2-4b9f-966e-332f670ca9df"
      },
      "execution_count": null,
      "outputs": [
        {
          "output_type": "stream",
          "name": "stdout",
          "text": [
            "[]\n"
          ]
        }
      ]
    },
    {
      "cell_type": "code",
      "source": [
        "# adding elements to a list\n",
        "\n",
        "values.append(1)\n",
        "values.append(2)\n",
        "values.append(3)\n",
        "print(values)"
      ],
      "metadata": {
        "id": "zDwu-4vtdidr",
        "colab": {
          "base_uri": "https://localhost:8080/"
        },
        "outputId": "404c8520-6e89-4b9d-cb15-27837c38ac82"
      },
      "execution_count": null,
      "outputs": [
        {
          "output_type": "stream",
          "name": "stdout",
          "text": [
            "[1, 2, 3]\n"
          ]
        }
      ]
    },
    {
      "cell_type": "code",
      "source": [
        "values.extend([4,5,6])\n",
        "print(values)"
      ],
      "metadata": {
        "id": "nejxVISagGWp",
        "colab": {
          "base_uri": "https://localhost:8080/"
        },
        "outputId": "ba85cb78-998d-4b28-b2bc-fac7bcc7b489"
      },
      "execution_count": null,
      "outputs": [
        {
          "output_type": "stream",
          "name": "stdout",
          "text": [
            "[1, 2, 3, 4, 5, 6]\n"
          ]
        }
      ]
    },
    {
      "cell_type": "code",
      "source": [
        "values.insert(5,6)\n",
        "print(values)"
      ],
      "metadata": {
        "colab": {
          "base_uri": "https://localhost:8080/"
        },
        "id": "TciM2raHa3xE",
        "outputId": "f8c2c779-a59a-4fa8-b388-e289c18c50be"
      },
      "execution_count": null,
      "outputs": [
        {
          "output_type": "stream",
          "name": "stdout",
          "text": [
            "[0, 1, 3, 5, 6, 6, 7]\n"
          ]
        }
      ]
    },
    {
      "cell_type": "code",
      "source": [
        "values.remove(4)\n",
        "print(values)"
      ],
      "metadata": {
        "id": "f9W54kRtgjBo",
        "colab": {
          "base_uri": "https://localhost:8080/"
        },
        "outputId": "26941e3c-6eb1-4cfa-d6da-39e0bec16521"
      },
      "execution_count": null,
      "outputs": [
        {
          "output_type": "stream",
          "name": "stdout",
          "text": [
            "[1, 3, 5, 6]\n"
          ]
        }
      ]
    },
    {
      "cell_type": "code",
      "source": [
        "values.append(7)\n",
        "print(values) # adding values at the end of the list"
      ],
      "metadata": {
        "id": "3JoCgjSCgnW4",
        "colab": {
          "base_uri": "https://localhost:8080/"
        },
        "outputId": "d372d240-ca2e-4c42-ede4-37045f0705a7"
      },
      "execution_count": null,
      "outputs": [
        {
          "output_type": "stream",
          "name": "stdout",
          "text": [
            "[1, 3, 5, 6, 7]\n"
          ]
        }
      ]
    },
    {
      "cell_type": "markdown",
      "source": [
        "###Datatype Strings\n",
        "Even though a basic data type, may be considered like a **list** of characters"
      ],
      "metadata": {
        "id": "A_r7ALohW7VH"
      }
    },
    {
      "cell_type": "code",
      "source": [
        "words = 'Hello Chemistry'\n",
        "print(words)"
      ],
      "metadata": {
        "id": "ekEC4xoqgqFH",
        "colab": {
          "base_uri": "https://localhost:8080/"
        },
        "outputId": "5b98ccea-63d5-4a25-b017-803220226751"
      },
      "execution_count": null,
      "outputs": [
        {
          "output_type": "stream",
          "name": "stdout",
          "text": [
            "Hello Chemistry\n"
          ]
        }
      ]
    },
    {
      "cell_type": "markdown",
      "source": [
        "Similar slicing like lists"
      ],
      "metadata": {
        "id": "-1nPT1aOXOp6"
      }
    },
    {
      "cell_type": "code",
      "source": [
        "words[:5]"
      ],
      "metadata": {
        "id": "r0uy4nYpXNS2",
        "colab": {
          "base_uri": "https://localhost:8080/",
          "height": 35
        },
        "outputId": "14615dd8-cad7-4dbc-8d4c-aacd75ae7374"
      },
      "execution_count": null,
      "outputs": [
        {
          "output_type": "execute_result",
          "data": {
            "text/plain": [
              "'Hello'"
            ],
            "application/vnd.google.colaboratory.intrinsic+json": {
              "type": "string"
            }
          },
          "metadata": {},
          "execution_count": 79
        }
      ]
    },
    {
      "cell_type": "markdown",
      "source": [
        "Some methods which may work on both strings and lists"
      ],
      "metadata": {
        "id": "nxOF7kGyXbLK"
      }
    },
    {
      "cell_type": "code",
      "source": [
        "len(words)"
      ],
      "metadata": {
        "id": "plHFT6SjXRtY",
        "colab": {
          "base_uri": "https://localhost:8080/"
        },
        "outputId": "c0be875b-7319-4594-8661-3ba175d2d2d6"
      },
      "execution_count": null,
      "outputs": [
        {
          "output_type": "execute_result",
          "data": {
            "text/plain": [
              "15"
            ]
          },
          "metadata": {},
          "execution_count": 80
        }
      ]
    },
    {
      "cell_type": "code",
      "source": [
        "words.append(\"Physical\")"
      ],
      "metadata": {
        "id": "lSyevuYOXZlG",
        "colab": {
          "base_uri": "https://localhost:8080/",
          "height": 141
        },
        "outputId": "7af382a1-f69c-4efd-d117-adf02eaab1d6"
      },
      "execution_count": null,
      "outputs": [
        {
          "output_type": "error",
          "ename": "AttributeError",
          "evalue": "'str' object has no attribute 'append'",
          "traceback": [
            "\u001b[0;31m---------------------------------------------------------------------------\u001b[0m",
            "\u001b[0;31mAttributeError\u001b[0m                            Traceback (most recent call last)",
            "\u001b[0;32m<ipython-input-81-3144850353>\u001b[0m in \u001b[0;36m<cell line: 0>\u001b[0;34m()\u001b[0m\n\u001b[0;32m----> 1\u001b[0;31m \u001b[0mwords\u001b[0m\u001b[0;34m.\u001b[0m\u001b[0mappend\u001b[0m\u001b[0;34m(\u001b[0m\u001b[0;34m\"Physical\"\u001b[0m\u001b[0;34m)\u001b[0m\u001b[0;34m\u001b[0m\u001b[0;34m\u001b[0m\u001b[0m\n\u001b[0m",
            "\u001b[0;31mAttributeError\u001b[0m: 'str' object has no attribute 'append'"
          ]
        }
      ]
    },
    {
      "cell_type": "markdown",
      "source": [
        "We can also introduce a new line while printing strings"
      ],
      "metadata": {
        "id": "hDx4dSAlwrNh"
      }
    },
    {
      "cell_type": "code",
      "source": [
        "print (\"Line 1\\nLine 2\\nLine 3\") # '\\n' makes a new line"
      ],
      "metadata": {
        "id": "fhzh38UYww9X",
        "colab": {
          "base_uri": "https://localhost:8080/"
        },
        "outputId": "e3bc0ec5-56e7-41c8-b53a-5ace599f90b7"
      },
      "execution_count": null,
      "outputs": [
        {
          "output_type": "stream",
          "name": "stdout",
          "text": [
            "Line 1\n",
            "Line 2\n",
            "Line 3\n"
          ]
        }
      ]
    },
    {
      "cell_type": "markdown",
      "source": [
        "But some features might be unique for strings"
      ],
      "metadata": {
        "id": "dfjvmqreYQwY"
      }
    },
    {
      "cell_type": "code",
      "source": [
        "# Splitting a string\n",
        "words=\"The quick brown fox blah blah blah\"\n",
        "print(words)\n",
        "words_list=words.split()\n",
        "print(words_list[5])"
      ],
      "metadata": {
        "id": "OZK54mr6XmO9",
        "colab": {
          "base_uri": "https://localhost:8080/"
        },
        "outputId": "48436b9f-1bde-4a05-843c-354eb1a3300f"
      },
      "execution_count": null,
      "outputs": [
        {
          "output_type": "stream",
          "name": "stdout",
          "text": [
            "The quick brown fox blah blah blah\n",
            "blah\n"
          ]
        }
      ]
    },
    {
      "cell_type": "markdown",
      "source": [
        "## Rigid to change: Immutable objects"
      ],
      "metadata": {
        "id": "ALgbuTkvZQFZ"
      }
    },
    {
      "cell_type": "code",
      "source": [
        "values=[\"d\",\"e\",\"f\"]\n",
        "print(values)"
      ],
      "metadata": {
        "id": "qqSJ7-Q-Yqcr",
        "colab": {
          "base_uri": "https://localhost:8080/"
        },
        "outputId": "31c8c00b-8fdf-4c91-e7ed-fce6ab200b3d"
      },
      "execution_count": null,
      "outputs": [
        {
          "output_type": "stream",
          "name": "stdout",
          "text": [
            "['d', 'e', 'f']\n"
          ]
        }
      ]
    },
    {
      "cell_type": "code",
      "source": [
        "values[1]=\"g\"\n",
        "print (values)"
      ],
      "metadata": {
        "id": "Jrv2PPYJZdRc",
        "colab": {
          "base_uri": "https://localhost:8080/"
        },
        "outputId": "bff88b80-9168-406f-d43f-d456a97edce4"
      },
      "execution_count": null,
      "outputs": [
        {
          "output_type": "stream",
          "name": "stdout",
          "text": [
            "['d', 'g', 'f']\n"
          ]
        }
      ]
    },
    {
      "cell_type": "markdown",
      "source": [
        "Here we could make changes to the list \"values\". So lists are mutable."
      ],
      "metadata": {
        "id": "zxZN8KC4ZyDO"
      }
    },
    {
      "cell_type": "markdown",
      "source": [
        "**Exercise 3** Time Again: How you do you think this code works?"
      ],
      "metadata": {
        "id": "ZT3oP8PkaE93"
      }
    },
    {
      "cell_type": "code",
      "source": [
        "#values2 = values\n",
        "values2= values.append(\"x\")\n",
        "\n",
        "print(values2)\n",
        "print(values == values2) # '==' is to check identity"
      ],
      "metadata": {
        "id": "0M4xZMV3ZvQK",
        "colab": {
          "base_uri": "https://localhost:8080/"
        },
        "outputId": "2b838d71-456c-49ac-950f-4734653e1533"
      },
      "execution_count": null,
      "outputs": [
        {
          "output_type": "stream",
          "name": "stdout",
          "text": [
            "None\n",
            "False\n"
          ]
        }
      ]
    },
    {
      "cell_type": "markdown",
      "source": [
        "Strings are on the other hand `immutable`\n",
        "\n"
      ],
      "metadata": {
        "id": "-UlWPyCvaxde"
      }
    },
    {
      "cell_type": "code",
      "source": [
        "sentence = \"The beautiful game\"\n",
        "sentence[5]= \"x\""
      ],
      "metadata": {
        "id": "HyRz0pYkaTF6",
        "colab": {
          "base_uri": "https://localhost:8080/",
          "height": 159
        },
        "outputId": "b29e0cce-a26a-466e-dc8d-1a9c51a9510d"
      },
      "execution_count": null,
      "outputs": [
        {
          "output_type": "error",
          "ename": "TypeError",
          "evalue": "'str' object does not support item assignment",
          "traceback": [
            "\u001b[0;31m---------------------------------------------------------------------------\u001b[0m",
            "\u001b[0;31mTypeError\u001b[0m                                 Traceback (most recent call last)",
            "\u001b[0;32m<ipython-input-99-2111229587>\u001b[0m in \u001b[0;36m<cell line: 0>\u001b[0;34m()\u001b[0m\n\u001b[1;32m      1\u001b[0m \u001b[0msentence\u001b[0m \u001b[0;34m=\u001b[0m \u001b[0;34m\"The beautiful game\"\u001b[0m\u001b[0;34m\u001b[0m\u001b[0;34m\u001b[0m\u001b[0m\n\u001b[0;32m----> 2\u001b[0;31m \u001b[0msentence\u001b[0m\u001b[0;34m[\u001b[0m\u001b[0;36m5\u001b[0m\u001b[0;34m]\u001b[0m\u001b[0;34m=\u001b[0m \u001b[0;34m\"x\"\u001b[0m\u001b[0;34m\u001b[0m\u001b[0;34m\u001b[0m\u001b[0m\n\u001b[0m",
            "\u001b[0;31mTypeError\u001b[0m: 'str' object does not support item assignment"
          ]
        }
      ]
    },
    {
      "cell_type": "markdown",
      "source": [
        "Concatenating the strings (words)"
      ],
      "metadata": {
        "id": "w9QZPF4LuDaf"
      }
    },
    {
      "cell_type": "code",
      "source": [
        "words = \"Hello\"\n",
        "words += \" World!\" # joins or concatenates\n",
        "words = words + \" World!\"\n",
        "print(words)"
      ],
      "metadata": {
        "id": "KrAomT1abtyC",
        "colab": {
          "base_uri": "https://localhost:8080/"
        },
        "outputId": "26afd1d7-f580-4339-ce20-12baa77a9651"
      },
      "execution_count": null,
      "outputs": [
        {
          "output_type": "stream",
          "name": "stdout",
          "text": [
            "Hello World! World!\n"
          ]
        }
      ]
    },
    {
      "cell_type": "markdown",
      "source": [
        "But then, String is supposed to be immutable !!!"
      ],
      "metadata": {
        "id": "ouEPiN74vQxv"
      }
    },
    {
      "cell_type": "markdown",
      "source": [
        "Lets use the `id()` function to really see what is happening!\n",
        "\n",
        "\n",
        "\n"
      ],
      "metadata": {
        "id": "IrS9N0eqvX9z"
      }
    },
    {
      "cell_type": "code",
      "source": [
        "words = \"Hello\"\n",
        "print(id(words))\n",
        "words += \" World!\"\n",
        "print(id(words))"
      ],
      "metadata": {
        "id": "BkSibQB9uBkK",
        "colab": {
          "base_uri": "https://localhost:8080/"
        },
        "outputId": "ffa94a6e-7cde-4f97-894d-936f5f12c80d"
      },
      "execution_count": null,
      "outputs": [
        {
          "output_type": "stream",
          "name": "stdout",
          "text": [
            "137152002649520\n",
            "137152003638192\n"
          ]
        }
      ]
    },
    {
      "cell_type": "markdown",
      "source": [
        "The id's are changing (according to the memory address) which means the text is modified"
      ],
      "metadata": {
        "id": "DliifmVWv3k2"
      }
    },
    {
      "cell_type": "code",
      "source": [
        "values = [\"a\", \"b\", \"c\"]\n",
        "print(id(values))\n",
        "values[1] = \"x\"\n",
        "print(id(values))"
      ],
      "metadata": {
        "id": "2vhIQE7Dvmji",
        "colab": {
          "base_uri": "https://localhost:8080/"
        },
        "outputId": "56357aff-02de-4289-96ca-efb2380bf28a"
      },
      "execution_count": null,
      "outputs": [
        {
          "output_type": "stream",
          "name": "stdout",
          "text": [
            "137152002601280\n",
            "137152002601280\n"
          ]
        }
      ]
    },
    {
      "cell_type": "markdown",
      "source": [
        "On the contrary, for a list the id's are remaining the same"
      ],
      "metadata": {
        "id": "4F2WH5VBwR-G"
      }
    },
    {
      "cell_type": "markdown",
      "source": [
        "## The next datatype: Dictionary"
      ],
      "metadata": {
        "id": "7WPfj-5exm-j"
      }
    },
    {
      "cell_type": "markdown",
      "source": [
        "A dictionary is like a list, but more general. In a list, the indices have to be integers; in a dictionary they can be (almost) any type. For example, suppose we make a list of number words, like this."
      ],
      "metadata": {
        "id": "c_onQtP1xr5U"
      }
    },
    {
      "cell_type": "code",
      "source": [
        "lst = ['zero', 'one', 'two']  # a list (already seen)"
      ],
      "metadata": {
        "id": "QCmmio6AwQf2"
      },
      "execution_count": null,
      "outputs": []
    },
    {
      "cell_type": "code",
      "source": [
        "# and access a word\n",
        "lst[1]"
      ],
      "metadata": {
        "id": "5e4uuKhPxzQR",
        "colab": {
          "base_uri": "https://localhost:8080/",
          "height": 35
        },
        "outputId": "d5bd80a0-003e-4fd5-d6ff-8547760cd068"
      },
      "execution_count": null,
      "outputs": [
        {
          "output_type": "execute_result",
          "data": {
            "text/plain": [
              "'one'"
            ],
            "application/vnd.google.colaboratory.intrinsic+json": {
              "type": "string"
            }
          },
          "metadata": {},
          "execution_count": 107
        }
      ]
    },
    {
      "cell_type": "markdown",
      "source": [
        "Define a dictionary"
      ],
      "metadata": {
        "id": "r7PHdUd2x95i"
      }
    },
    {
      "cell_type": "code",
      "source": [
        "numbers = {}\n",
        "numbers"
      ],
      "metadata": {
        "id": "mtPC_-owx2o1",
        "colab": {
          "base_uri": "https://localhost:8080/"
        },
        "outputId": "1205ea6c-1375-466c-8444-fcefbd9e5503"
      },
      "execution_count": null,
      "outputs": [
        {
          "output_type": "execute_result",
          "data": {
            "text/plain": [
              "{}"
            ]
          },
          "metadata": {},
          "execution_count": 108
        }
      ]
    },
    {
      "cell_type": "code",
      "source": [
        "# assign data into a dictionary\n",
        "numbers['zero'] = 0 # 'key'\n",
        "print(numbers)"
      ],
      "metadata": {
        "id": "S1zwr_5KyA4s",
        "colab": {
          "base_uri": "https://localhost:8080/"
        },
        "outputId": "6a67354a-6307-43e2-947a-41f48ed4ca5c"
      },
      "execution_count": null,
      "outputs": [
        {
          "output_type": "stream",
          "name": "stdout",
          "text": [
            "{'zero': 0}\n"
          ]
        }
      ]
    },
    {
      "cell_type": "markdown",
      "source": [
        "Adding some more"
      ],
      "metadata": {
        "id": "gs_e3qvHyLpa"
      }
    },
    {
      "cell_type": "code",
      "source": [
        "numbers['one'] = 1\n",
        "numbers['two'] = 2\n",
        "numbers"
      ],
      "metadata": {
        "id": "AS10bAVhyKBj",
        "colab": {
          "base_uri": "https://localhost:8080/"
        },
        "outputId": "05fd2bd8-f2a0-4034-9bb6-bb2b63af2815"
      },
      "execution_count": null,
      "outputs": [
        {
          "output_type": "execute_result",
          "data": {
            "text/plain": [
              "{'zero': 0, 'one': 1, 'two': 2}"
            ]
          },
          "metadata": {},
          "execution_count": 111
        }
      ]
    },
    {
      "cell_type": "markdown",
      "source": [
        "General form of a dictionary\n",
        "name_of_dictionary['key']"
      ],
      "metadata": {
        "id": "bu_Mn_J8yQE1"
      }
    },
    {
      "cell_type": "code",
      "source": [
        "# accessing an element using a key\n",
        "\n",
        "numbers['two']"
      ],
      "metadata": {
        "id": "auWBtdkryM-C",
        "colab": {
          "base_uri": "https://localhost:8080/"
        },
        "outputId": "f996094f-62ab-49e5-9348-5bbe67ce98cc"
      },
      "execution_count": null,
      "outputs": [
        {
          "output_type": "execute_result",
          "data": {
            "text/plain": [
              "2"
            ]
          },
          "metadata": {},
          "execution_count": 112
        }
      ]
    },
    {
      "cell_type": "markdown",
      "source": [
        "What if the key doesnt exist?"
      ],
      "metadata": {
        "id": "J48jBURByipN"
      }
    },
    {
      "cell_type": "code",
      "source": [
        "numbers['three']"
      ],
      "metadata": {
        "id": "sdzjDSNhydNb",
        "colab": {
          "base_uri": "https://localhost:8080/",
          "height": 141
        },
        "outputId": "c6711fab-b034-463e-8d3b-e4990e5c49ce"
      },
      "execution_count": null,
      "outputs": [
        {
          "output_type": "error",
          "ename": "KeyError",
          "evalue": "'three'",
          "traceback": [
            "\u001b[0;31m---------------------------------------------------------------------------\u001b[0m",
            "\u001b[0;31mKeyError\u001b[0m                                  Traceback (most recent call last)",
            "\u001b[0;32m<ipython-input-113-3125812269>\u001b[0m in \u001b[0;36m<cell line: 0>\u001b[0;34m()\u001b[0m\n\u001b[0;32m----> 1\u001b[0;31m \u001b[0mnumbers\u001b[0m\u001b[0;34m[\u001b[0m\u001b[0;34m'three'\u001b[0m\u001b[0;34m]\u001b[0m\u001b[0;34m\u001b[0m\u001b[0;34m\u001b[0m\u001b[0m\n\u001b[0m",
            "\u001b[0;31mKeyError\u001b[0m: 'three'"
          ]
        }
      ]
    },
    {
      "cell_type": "markdown",
      "source": [
        "Error!!!!!!!!"
      ],
      "metadata": {
        "id": "qWh3YHMcyocM"
      }
    },
    {
      "cell_type": "code",
      "source": [
        "len(numbers) # length of a dictionary"
      ],
      "metadata": {
        "id": "ODUvYNWFym0D",
        "colab": {
          "base_uri": "https://localhost:8080/"
        },
        "outputId": "d284ff33-056b-4e97-90a5-b7c3c2139ddd"
      },
      "execution_count": null,
      "outputs": [
        {
          "output_type": "execute_result",
          "data": {
            "text/plain": [
              "3"
            ]
          },
          "metadata": {},
          "execution_count": 114
        }
      ]
    },
    {
      "cell_type": "markdown",
      "source": [
        "How to find whether a key is present in a dictionary?\n",
        "We use the `in` keyword"
      ],
      "metadata": {
        "id": "Tat2Xlrd0Q_n"
      }
    },
    {
      "cell_type": "code",
      "source": [
        "'one' in numbers"
      ],
      "metadata": {
        "id": "VY_FYpOMzQXi",
        "colab": {
          "base_uri": "https://localhost:8080/"
        },
        "outputId": "b56bf8fb-a2e1-42d9-a550-c2754b17f705"
      },
      "execution_count": null,
      "outputs": [
        {
          "output_type": "execute_result",
          "data": {
            "text/plain": [
              "True"
            ]
          },
          "metadata": {},
          "execution_count": 115
        }
      ]
    },
    {
      "cell_type": "code",
      "source": [
        "1 in numbers"
      ],
      "metadata": {
        "id": "HlHMhOBi0YmE",
        "colab": {
          "base_uri": "https://localhost:8080/"
        },
        "outputId": "057eed17-e218-43ba-c233-60c372cd0f37"
      },
      "execution_count": null,
      "outputs": [
        {
          "output_type": "execute_result",
          "data": {
            "text/plain": [
              "False"
            ]
          },
          "metadata": {},
          "execution_count": 116
        }
      ]
    },
    {
      "cell_type": "markdown",
      "source": [
        "This will be false as it does not recognize values"
      ],
      "metadata": {
        "id": "MAtX5-m30kka"
      }
    },
    {
      "cell_type": "code",
      "source": [
        "numbers.values()"
      ],
      "metadata": {
        "colab": {
          "base_uri": "https://localhost:8080/"
        },
        "id": "xZP3_8zUeck3",
        "outputId": "1b287d79-1ca5-4891-fb7b-a93459d107eb"
      },
      "execution_count": null,
      "outputs": [
        {
          "output_type": "execute_result",
          "data": {
            "text/plain": [
              "dict_values([0, 1, 2])"
            ]
          },
          "metadata": {},
          "execution_count": 118
        }
      ]
    },
    {
      "cell_type": "code",
      "source": [
        "1 in numbers.values()"
      ],
      "metadata": {
        "id": "GHAT7s400jcV",
        "colab": {
          "base_uri": "https://localhost:8080/"
        },
        "outputId": "344cc82f-4627-4fbe-a4d2-08f424605d45"
      },
      "execution_count": null,
      "outputs": [
        {
          "output_type": "execute_result",
          "data": {
            "text/plain": [
              "True"
            ]
          },
          "metadata": {},
          "execution_count": 119
        }
      ]
    },
    {
      "cell_type": "markdown",
      "source": [
        "This might be better to match by values"
      ],
      "metadata": {
        "id": "6qqO6pHW0wA5"
      }
    },
    {
      "cell_type": "markdown",
      "source": [
        "## Lists vs Dictionaries\n",
        "\n",
        "\n",
        "\n",
        "1.   Both collect data\n",
        "2.   List is ordered, indexed by integers\n",
        "3.   Dictionary is unordered, more of a key-value pairs.\n",
        "\n"
      ],
      "metadata": {
        "id": "TXoKmobS1IVG"
      }
    },
    {
      "cell_type": "markdown",
      "source": [
        "Combining each other"
      ],
      "metadata": {
        "id": "VUDkTJrz2_eH"
      }
    },
    {
      "cell_type": "markdown",
      "source": [
        "1. Dictionary having a list"
      ],
      "metadata": {
        "id": "yrI1MQB-3vfS"
      }
    },
    {
      "cell_type": "code",
      "source": [
        "student = {\n",
        "    \"name\": \"Alice\",\n",
        "    \"grades\": [90, 85, 92]\n",
        "}"
      ],
      "metadata": {
        "id": "T57nQyOK0u52"
      },
      "execution_count": null,
      "outputs": []
    },
    {
      "cell_type": "code",
      "source": [
        "print(student[\"grades\"])"
      ],
      "metadata": {
        "id": "FZLd6XbV3YQR",
        "colab": {
          "base_uri": "https://localhost:8080/"
        },
        "outputId": "ff89388b-fd40-4a30-d0d2-5300f9aafcd3"
      },
      "execution_count": null,
      "outputs": [
        {
          "output_type": "stream",
          "name": "stdout",
          "text": [
            "[90, 85, 92]\n"
          ]
        }
      ]
    },
    {
      "cell_type": "markdown",
      "source": [
        "2. List of dictionaries"
      ],
      "metadata": {
        "id": "GevxmixB32b0"
      }
    },
    {
      "cell_type": "code",
      "source": [
        "students = [\n",
        "    {\"name\": \"Alice\", \"age\": 20},\n",
        "    {\"name\": \"Bob\", \"age\": 21}\n",
        "]"
      ],
      "metadata": {
        "id": "WjQUBdta3nH4"
      },
      "execution_count": null,
      "outputs": []
    },
    {
      "cell_type": "code",
      "source": [
        "students[0]"
      ],
      "metadata": {
        "colab": {
          "base_uri": "https://localhost:8080/"
        },
        "id": "eX88DEp7e8lq",
        "outputId": "eed47593-413c-40b2-c8cc-866f887bd437"
      },
      "execution_count": null,
      "outputs": [
        {
          "output_type": "execute_result",
          "data": {
            "text/plain": [
              "{'name': 'Alice', 'age': 20}"
            ]
          },
          "metadata": {},
          "execution_count": 124
        }
      ]
    },
    {
      "cell_type": "markdown",
      "source": [
        "There are other container datatypes `tuples` and `sets` which we do not include for simplicity."
      ],
      "metadata": {
        "id": "Kih9MhII4AdV"
      }
    },
    {
      "cell_type": "markdown",
      "source": [
        "## Control Flow"
      ],
      "metadata": {
        "id": "WmWZpTCRx8tD"
      }
    },
    {
      "cell_type": "markdown",
      "source": [
        "## Loops\n",
        "\n",
        "There are several loops available in Python, among which the `for` loop is used to repeat a peice of code a set number of times\n",
        "\n",
        "The definition:\n",
        "\n",
        "\n",
        "\n",
        "``` python\n",
        "for variable in iterable:\n",
        "    do things using variable\n",
        "\n",
        "```\n",
        "\n"
      ],
      "metadata": {
        "id": "E0NGSWpI0shi"
      }
    },
    {
      "cell_type": "code",
      "source": [
        "# Level 1: Easy loop\n",
        "\n",
        "for i in range(10):\n",
        "  print(i)"
      ],
      "metadata": {
        "id": "IHn1Qhdxzn3r",
        "colab": {
          "base_uri": "https://localhost:8080/"
        },
        "outputId": "bc011f70-ac21-4515-e667-5f028d19ec31"
      },
      "execution_count": null,
      "outputs": [
        {
          "output_type": "stream",
          "name": "stdout",
          "text": [
            "0\n",
            "1\n",
            "2\n",
            "3\n",
            "4\n",
            "5\n",
            "6\n",
            "7\n",
            "8\n",
            "9\n"
          ]
        }
      ]
    },
    {
      "cell_type": "markdown",
      "source": [
        "The `range` keyword here is a function to generate integers bounded by two values: `range(start,end,step)`"
      ],
      "metadata": {
        "id": "IOgE77EN2IUn"
      }
    },
    {
      "cell_type": "code",
      "source": [
        "n = 5\n",
        "for i in range(0, n, 2):\n",
        "    print(i)"
      ],
      "metadata": {
        "id": "Dc9VUUsd7KkV"
      },
      "execution_count": null,
      "outputs": []
    },
    {
      "cell_type": "markdown",
      "source": [
        "Lets calculate using the loop than just print"
      ],
      "metadata": {
        "id": "pY9Va8Hk2iCm"
      }
    },
    {
      "cell_type": "code",
      "source": [
        "# Sum of natural numbers\n",
        "\n",
        "sum=0\n",
        "for i in range(10):\n",
        "  sum+=i\n",
        "print(sum)"
      ],
      "metadata": {
        "id": "0AUeRcSE2oPf",
        "colab": {
          "base_uri": "https://localhost:8080/"
        },
        "outputId": "f4e86e88-1729-415d-86f9-260540242e20"
      },
      "execution_count": null,
      "outputs": [
        {
          "output_type": "stream",
          "name": "stdout",
          "text": [
            "45\n"
          ]
        }
      ]
    },
    {
      "cell_type": "code",
      "source": [
        "# Working on a list\n",
        "\n",
        "nums=[3,4,5,6,7] # defining a list\n",
        "\n",
        "squared_vals=[]\n",
        "rooted_vals=[]\n",
        "\n",
        "for num in nums:\n",
        "  squared_vals.append(num**2) # making another list\n",
        "\n",
        "for num in nums:\n",
        "  rooted_vals.append(num**0.5)\n",
        "\n",
        "print(nums)\n",
        "print(squared_vals)\n",
        "print(rooted_vals)"
      ],
      "metadata": {
        "id": "T-PZKzq73-Py",
        "colab": {
          "base_uri": "https://localhost:8080/"
        },
        "outputId": "6b4d6646-9345-43cc-a085-9f75c79e28ac"
      },
      "execution_count": null,
      "outputs": [
        {
          "output_type": "stream",
          "name": "stdout",
          "text": [
            "[3, 4, 5, 6, 7]\n",
            "[9, 16, 25, 36, 49]\n",
            "[1.7320508075688772, 2.0, 2.23606797749979, 2.449489742783178, 2.6457513110645907]\n"
          ]
        }
      ]
    },
    {
      "cell_type": "markdown",
      "source": [
        "Also we might loop on the list using the indices (i.e. running a loop through the length)"
      ],
      "metadata": {
        "id": "HXy6zPJPG-WG"
      }
    },
    {
      "cell_type": "code",
      "source": [
        "nums=[3,4,5,6,7] # defining a list\n",
        "\n",
        "squared_vals=[]\n",
        "\n",
        "for i in range(0,len(nums)):\n",
        "  squared_vals.append((nums[i])**2) # instead here we deal with the index per element as per the loop\n",
        "\n",
        "print(nums)\n",
        "print(squared_vals)"
      ],
      "metadata": {
        "id": "2tu95beSG9Rm",
        "colab": {
          "base_uri": "https://localhost:8080/"
        },
        "outputId": "034f4d6a-dbce-461a-a38b-0b4b92a14588"
      },
      "execution_count": null,
      "outputs": [
        {
          "output_type": "stream",
          "name": "stdout",
          "text": [
            "[3, 4, 5, 6, 7]\n",
            "[9, 16, 25, 36, 49]\n"
          ]
        }
      ]
    },
    {
      "cell_type": "markdown",
      "source": [
        "We can use both the methodologies for indexing a list inside a loop using the `enumerate` function."
      ],
      "metadata": {
        "id": "a6Kdc2Kltrjd"
      }
    },
    {
      "cell_type": "code",
      "source": [
        "nums=[3,4,5,6,7] # defining a list\n",
        "\n",
        "squared_vals=[]\n",
        "cubed_vals=[]\n",
        "test_vals=[]\n",
        "\n",
        "for index,element in enumerate(nums):\n",
        "  squared_vals.append((nums[index])**2) # instead here we deal with the index per element as per the loop\n",
        "  cubed_vals.append((element)**3) # here we index the element directly\n",
        "  test_vals.append((element)**i) # here we index the element directly\n",
        "\n",
        "print(nums)\n",
        "print(squared_vals)\n",
        "print(cubed_vals)\n",
        "print(test_vals)"
      ],
      "metadata": {
        "id": "tt8Zox0VuAbZ",
        "colab": {
          "base_uri": "https://localhost:8080/"
        },
        "outputId": "dc747acd-3ed8-4b93-e2d8-99dd4f2425c0"
      },
      "execution_count": null,
      "outputs": [
        {
          "output_type": "stream",
          "name": "stdout",
          "text": [
            "[3, 4, 5, 6, 7]\n",
            "[9, 16, 25, 36, 49]\n",
            "[27, 64, 125, 216, 343]\n",
            "[81, 256, 625, 1296, 2401]\n"
          ]
        }
      ]
    },
    {
      "cell_type": "markdown",
      "source": [
        "The `enumerate` function will return the element and the index simultaneously from the list in order (index,element)."
      ],
      "metadata": {
        "id": "haoukzf5uudX"
      }
    },
    {
      "cell_type": "markdown",
      "source": [
        "The `zip` function is another interesting function to use two or more variables simultaneously while looping."
      ],
      "metadata": {
        "id": "ZHajkCjlvKJC"
      }
    },
    {
      "cell_type": "code",
      "source": [
        "#example for zip in for loop for 2 variables\n",
        "\n",
        "x_values = [1, 2, 3]\n",
        "y_values = ['a', 'b', 'c']\n",
        "\n",
        "for x, y in zip(x_values, y_values):\n",
        "  print(f\"x is {x} and y is {y}\")"
      ],
      "metadata": {
        "id": "w76lmgGGutOj",
        "colab": {
          "base_uri": "https://localhost:8080/"
        },
        "outputId": "99ede56d-b7cc-4d97-cbd8-5e72012f449a"
      },
      "execution_count": null,
      "outputs": [
        {
          "output_type": "stream",
          "name": "stdout",
          "text": [
            "x is 1 and y is a\n",
            "x is 2 and y is b\n",
            "x is 3 and y is c\n"
          ]
        }
      ]
    },
    {
      "cell_type": "markdown",
      "source": [
        "**Exercise** Lets write a loop to create a list of 20 random numbers\n",
        "\n",
        "**Hint** use the `random` module"
      ],
      "metadata": {
        "id": "Nxpx_TRl8k-N"
      }
    },
    {
      "cell_type": "code",
      "source": [
        "import random\n",
        "\n",
        "random_list=[]\n",
        "\n",
        "\n",
        "for i in range(20):\n",
        "  random_list.append(random.random())\n",
        "\n",
        "print(random_list)\n",
        "print(len(random_list))"
      ],
      "metadata": {
        "id": "cC4hySG2zjnt",
        "colab": {
          "base_uri": "https://localhost:8080/"
        },
        "outputId": "b846cab2-6f38-4564-a044-a82b59e71f19"
      },
      "execution_count": null,
      "outputs": [
        {
          "output_type": "stream",
          "name": "stdout",
          "text": [
            "[0.9633301770601551, 0.026793908849314763, 0.46210075019469554, 0.08010621537895712, 0.493198709312069, 0.44104056897875454, 0.8413052680359536, 0.5290721369826179, 0.6533391860616465, 0.7086186282763222, 0.7921438389103101, 0.10177121496976838, 0.3003660180082891, 0.3927301899898217, 0.08068208886539563, 0.7686188140102018, 0.5246624761889292, 0.4346436185245566, 0.21333198742801718, 0.2772050894660485]\n",
            "20\n"
          ]
        }
      ]
    },
    {
      "cell_type": "markdown",
      "source": [
        "Bonus exercise: Assume the above random numbers are grades given in decimal format. Convert the grades to percentage format (multiply by 100)"
      ],
      "metadata": {
        "id": "BGHl-iW1inAf"
      }
    },
    {
      "cell_type": "code",
      "source": [
        "random_grades = []\n",
        "\n",
        "for grade in random_list:\n",
        "  random_grades.append(grade*100)\n",
        "\n",
        "print(random_grades)"
      ],
      "metadata": {
        "colab": {
          "base_uri": "https://localhost:8080/"
        },
        "id": "ya1uefh1ixbX",
        "outputId": "83ba5bf7-d108-49e2-cf37-2ec02626f2ce"
      },
      "execution_count": null,
      "outputs": [
        {
          "output_type": "stream",
          "name": "stdout",
          "text": [
            "[96.33301770601551, 2.6793908849314763, 46.210075019469556, 8.010621537895712, 49.3198709312069, 44.10405689787545, 84.13052680359536, 52.90721369826179, 65.33391860616466, 70.86186282763222, 79.21438389103102, 10.177121496976838, 30.03660180082891, 39.27301899898217, 8.068208886539562, 76.86188140102018, 52.46624761889292, 43.46436185245566, 21.333198742801716, 27.72050894660485]\n"
          ]
        }
      ]
    },
    {
      "cell_type": "markdown",
      "source": [
        "Bonus bonus exercise: assign each grade to a student in a dictionary"
      ],
      "metadata": {
        "id": "1C1elte8jN1_"
      }
    },
    {
      "cell_type": "code",
      "source": [
        "students = [\n",
        "    'Alice',\n",
        "    'Bob',\n",
        "    'Charlie',\n",
        "    'Dalton',\n",
        "    'Edward',\n",
        "    'Fargo',\n",
        "    'Goofer',\n",
        "    'Harry',\n",
        "    'Ian',\n",
        "    'Jackie',\n",
        "    'Logan',\n",
        "    'Michelle',\n",
        "    'Nuna',\n",
        "    'Oscar',\n",
        "    'Piper',\n",
        "    'Queen',\n",
        "    'Romeo',\n",
        "    'Tucker'\n",
        "]\n",
        "student_grades = {}\n",
        "\n",
        "for student, grade in zip(students, random_grades):\n",
        "  student_grades[student] = grade\n",
        "\n",
        "print(student_grades)"
      ],
      "metadata": {
        "colab": {
          "base_uri": "https://localhost:8080/"
        },
        "id": "rJ8ePZNtjShQ",
        "outputId": "98795eee-eb91-4d62-bfdd-0444b187e5f5"
      },
      "execution_count": null,
      "outputs": [
        {
          "output_type": "stream",
          "name": "stdout",
          "text": [
            "{'Alice': 96.33301770601551, 'Bob': 2.6793908849314763, 'Charlie': 46.210075019469556, 'Dalton': 8.010621537895712, 'Edward': 49.3198709312069, 'Fargo': 44.10405689787545, 'Goofer': 84.13052680359536, 'Harry': 52.90721369826179, 'Ian': 65.33391860616466, 'Jackie': 70.86186282763222, 'Logan': 79.21438389103102, 'Michelle': 10.177121496976838, 'Nuna': 30.03660180082891, 'Oscar': 39.27301899898217, 'Piper': 8.068208886539562, 'Queen': 76.86188140102018, 'Romeo': 52.46624761889292, 'Tucker': 43.46436185245566}\n"
          ]
        }
      ]
    },
    {
      "cell_type": "markdown",
      "source": [
        "### Conditional Statements"
      ],
      "metadata": {
        "id": "8rxo8RFTOJto"
      }
    },
    {
      "cell_type": "markdown",
      "source": [
        "The flow of statements will be based on boolean values (i.e. `True` or `False`)"
      ],
      "metadata": {
        "id": "qg0zxKm6OQKh"
      }
    },
    {
      "cell_type": "markdown",
      "source": [
        "Basic structure of an `if`statement\n",
        "\n",
        "```python\n",
        "if logical expression:\n",
        "    code block\n",
        "```"
      ],
      "metadata": {
        "id": "EpAGJHrzOgq7"
      }
    },
    {
      "cell_type": "code",
      "source": [
        "# Simple if loop\n",
        "\n",
        "n = 0.5\n",
        "\n",
        "if n > 1:\n",
        "  print(\"n is larger than 1\")\n",
        "else:\n",
        "    print(\"n is smaller than 1\")"
      ],
      "metadata": {
        "id": "LBpIkp_LM4Qn",
        "colab": {
          "base_uri": "https://localhost:8080/"
        },
        "outputId": "d1420b34-4d7b-4876-bfc1-08ca23679bbf"
      },
      "execution_count": null,
      "outputs": [
        {
          "output_type": "stream",
          "name": "stdout",
          "text": [
            "n is smaller than 1\n"
          ]
        }
      ]
    },
    {
      "cell_type": "code",
      "source": [
        "values = list(range(10))\n",
        "\n",
        "for value in values:\n",
        "    if value % 2 == 0:\n",
        "        print(f\"{value} is even\")"
      ],
      "metadata": {
        "id": "LJ0_J-AoO5w2",
        "colab": {
          "base_uri": "https://localhost:8080/"
        },
        "outputId": "055069e6-a743-44e4-cfa3-2121ca54cda4"
      },
      "execution_count": null,
      "outputs": [
        {
          "output_type": "stream",
          "name": "stdout",
          "text": [
            "0 is even\n",
            "2 is even\n",
            "4 is even\n",
            "6 is even\n",
            "8 is even\n"
          ]
        }
      ]
    },
    {
      "cell_type": "markdown",
      "source": [
        "Using another keyword `else`: the `if-else` statement\n",
        "\n",
        "Basic structure\n",
        "\n",
        "```python\n",
        "if logical_expression\n",
        "    code block run if true\n",
        "    elif condition:\n",
        "    code block # to run for the next condition\n",
        "else\n",
        "    code block run if false\n",
        "```"
      ],
      "metadata": {
        "id": "R8_Lf4obP60I"
      }
    },
    {
      "cell_type": "markdown",
      "source": [
        "The `elif` condition block is to add more additional conditions while writing if-else blocks"
      ],
      "metadata": {
        "id": "swkbei7nqJwA"
      }
    },
    {
      "cell_type": "code",
      "source": [
        "# Example of using if-else\n",
        "# Testing\n",
        "values = list(range(10))\n",
        "\n",
        "for i in values:\n",
        "    if i % 2:\n",
        "        print(f\"{i} is odd\")\n",
        "    else:\n",
        "        print(f\"{i} is even\")"
      ],
      "metadata": {
        "id": "L1GwBCwtPqQD"
      },
      "execution_count": null,
      "outputs": []
    },
    {
      "cell_type": "code",
      "source": [
        "# Using elif along with if-else\n",
        "\n",
        "num = 1\n",
        "\n",
        "if num > 0:\n",
        "    print(\"The number is positive.\")\n",
        "elif num < 0:\n",
        "    print(\"The number is negative.\")\n",
        "else:\n",
        "    print(\"The number is zero.\")"
      ],
      "metadata": {
        "id": "PiIQocGYrB03",
        "colab": {
          "base_uri": "https://localhost:8080/"
        },
        "outputId": "48897d49-a9e0-4f26-a3f0-85abd0385cb0"
      },
      "execution_count": null,
      "outputs": [
        {
          "output_type": "stream",
          "name": "stdout",
          "text": [
            "The number is positive.\n"
          ]
        }
      ]
    },
    {
      "cell_type": "markdown",
      "source": [
        "**Exercise** Write a small piece of code that draws 10 random numbers and adds to a list only those larger than 1.0."
      ],
      "metadata": {
        "id": "4bF78ekkRbtS"
      }
    },
    {
      "cell_type": "code",
      "source": [
        "import random\n",
        "\n",
        "values = []\n",
        "\n",
        "for random_number in range(1000000000):\n",
        "    random_number = random.randint(0,100)\n",
        "    if random_number > 50:\n",
        "      values.append(random_number)\n",
        "\n",
        "print(len(values))"
      ],
      "metadata": {
        "id": "KXwKd_8IQN4I",
        "colab": {
          "base_uri": "https://localhost:8080/",
          "height": 356
        },
        "outputId": "4b5224f6-d4d4-4ee9-bf45-686092c929b3"
      },
      "execution_count": null,
      "outputs": [
        {
          "output_type": "error",
          "ename": "KeyboardInterrupt",
          "evalue": "",
          "traceback": [
            "\u001b[0;31m---------------------------------------------------------------------------\u001b[0m",
            "\u001b[0;31mKeyboardInterrupt\u001b[0m                         Traceback (most recent call last)",
            "\u001b[0;32m<ipython-input-156-432913264>\u001b[0m in \u001b[0;36m<cell line: 0>\u001b[0;34m()\u001b[0m\n\u001b[1;32m      4\u001b[0m \u001b[0;34m\u001b[0m\u001b[0m\n\u001b[1;32m      5\u001b[0m \u001b[0;32mfor\u001b[0m \u001b[0mrandom_number\u001b[0m \u001b[0;32min\u001b[0m \u001b[0mrange\u001b[0m\u001b[0;34m(\u001b[0m\u001b[0;36m1000000000\u001b[0m\u001b[0;34m)\u001b[0m\u001b[0;34m:\u001b[0m\u001b[0;34m\u001b[0m\u001b[0;34m\u001b[0m\u001b[0m\n\u001b[0;32m----> 6\u001b[0;31m     \u001b[0mrandom_number\u001b[0m \u001b[0;34m=\u001b[0m \u001b[0mrandom\u001b[0m\u001b[0;34m.\u001b[0m\u001b[0mrandint\u001b[0m\u001b[0;34m(\u001b[0m\u001b[0;36m0\u001b[0m\u001b[0;34m,\u001b[0m\u001b[0;36m100\u001b[0m\u001b[0;34m)\u001b[0m\u001b[0;34m\u001b[0m\u001b[0;34m\u001b[0m\u001b[0m\n\u001b[0m\u001b[1;32m      7\u001b[0m     \u001b[0;32mif\u001b[0m \u001b[0mrandom_number\u001b[0m \u001b[0;34m>\u001b[0m \u001b[0;36m50\u001b[0m\u001b[0;34m:\u001b[0m\u001b[0;34m\u001b[0m\u001b[0;34m\u001b[0m\u001b[0m\n\u001b[1;32m      8\u001b[0m       \u001b[0mvalues\u001b[0m\u001b[0;34m.\u001b[0m\u001b[0mappend\u001b[0m\u001b[0;34m(\u001b[0m\u001b[0mrandom_number\u001b[0m\u001b[0;34m)\u001b[0m\u001b[0;34m\u001b[0m\u001b[0;34m\u001b[0m\u001b[0m\n",
            "\u001b[0;32m/usr/lib/python3.11/random.py\u001b[0m in \u001b[0;36mrandint\u001b[0;34m(self, a, b)\u001b[0m\n\u001b[1;32m    360\u001b[0m         \"\"\"\n\u001b[1;32m    361\u001b[0m \u001b[0;34m\u001b[0m\u001b[0m\n\u001b[0;32m--> 362\u001b[0;31m         \u001b[0;32mreturn\u001b[0m \u001b[0mself\u001b[0m\u001b[0;34m.\u001b[0m\u001b[0mrandrange\u001b[0m\u001b[0;34m(\u001b[0m\u001b[0ma\u001b[0m\u001b[0;34m,\u001b[0m \u001b[0mb\u001b[0m\u001b[0;34m+\u001b[0m\u001b[0;36m1\u001b[0m\u001b[0;34m)\u001b[0m\u001b[0;34m\u001b[0m\u001b[0;34m\u001b[0m\u001b[0m\n\u001b[0m\u001b[1;32m    363\u001b[0m \u001b[0;34m\u001b[0m\u001b[0m\n\u001b[1;32m    364\u001b[0m \u001b[0;34m\u001b[0m\u001b[0m\n",
            "\u001b[0;32m/usr/lib/python3.11/random.py\u001b[0m in \u001b[0;36mrandrange\u001b[0;34m(self, start, stop, step)\u001b[0m\n\u001b[1;32m    293\u001b[0m         \u001b[0;31m# common case while still doing adequate error checking.\u001b[0m\u001b[0;34m\u001b[0m\u001b[0;34m\u001b[0m\u001b[0m\n\u001b[1;32m    294\u001b[0m         \u001b[0;32mtry\u001b[0m\u001b[0;34m:\u001b[0m\u001b[0;34m\u001b[0m\u001b[0;34m\u001b[0m\u001b[0m\n\u001b[0;32m--> 295\u001b[0;31m             \u001b[0mistart\u001b[0m \u001b[0;34m=\u001b[0m \u001b[0m_index\u001b[0m\u001b[0;34m(\u001b[0m\u001b[0mstart\u001b[0m\u001b[0;34m)\u001b[0m\u001b[0;34m\u001b[0m\u001b[0;34m\u001b[0m\u001b[0m\n\u001b[0m\u001b[1;32m    296\u001b[0m         \u001b[0;32mexcept\u001b[0m \u001b[0mTypeError\u001b[0m\u001b[0;34m:\u001b[0m\u001b[0;34m\u001b[0m\u001b[0;34m\u001b[0m\u001b[0m\n\u001b[1;32m    297\u001b[0m             \u001b[0mistart\u001b[0m \u001b[0;34m=\u001b[0m \u001b[0mint\u001b[0m\u001b[0;34m(\u001b[0m\u001b[0mstart\u001b[0m\u001b[0;34m)\u001b[0m\u001b[0;34m\u001b[0m\u001b[0;34m\u001b[0m\u001b[0m\n",
            "\u001b[0;31mKeyboardInterrupt\u001b[0m: "
          ]
        }
      ]
    },
    {
      "cell_type": "markdown",
      "source": [
        "# Function\n",
        "1. Functions allow us to break down complex problems into smaller.\n",
        "2. Instead of repeating the same code, we can write it once as a function and reuse it whenever needed."
      ],
      "metadata": {
        "id": "0C7VMvD2o2My"
      }
    },
    {
      "cell_type": "markdown",
      "source": [
        "**Exercise 1** Complete the following piece of code to calculate the volume of a cylinder given its radius and height , following the formula: $volume = {pi} * {r}^{2}* {h} $.\n",
        "\n",
        "Use the value of `pi` stored in the `math` module as `math.pi`."
      ],
      "metadata": {
        "id": "t5U4v5T3pNuY"
      }
    },
    {
      "cell_type": "code",
      "source": [
        "def func_name(arguments):\n",
        "  oparations\n",
        "  return values"
      ],
      "metadata": {
        "id": "xChauX0Cj3ab"
      },
      "execution_count": null,
      "outputs": []
    },
    {
      "cell_type": "code",
      "source": [
        "def cylinder_volume(radius, height):\n",
        "    import math\n",
        "    volume = math.pi * radius ** 2 * height\n",
        "    return volume"
      ],
      "metadata": {
        "id": "hJjSW81dpDzX"
      },
      "execution_count": null,
      "outputs": []
    },
    {
      "cell_type": "code",
      "source": [
        "cylinder_volume(4,5)"
      ],
      "metadata": {
        "id": "2zOb9uUzpMty"
      },
      "execution_count": null,
      "outputs": []
    },
    {
      "cell_type": "markdown",
      "source": [
        "Lets calculate surface area also and return both volume and surface area.\n",
        "Calculate surface area with the following the formula: $surface area = 2 *{pi} * {r}* {h} + 2 *{pi} * {r}^{2}$."
      ],
      "metadata": {
        "id": "unERg4japZBW"
      }
    },
    {
      "cell_type": "code",
      "source": [
        "def cylinder_volume_surface(radius, height):\n",
        "    import math\n",
        "    volume = math.pi * radius ** 2 * height\n",
        "    surface_area = 2 * math.pi * radius * height + 2 * math.pi * radius ** 2\n",
        "    return volume, surface_area"
      ],
      "metadata": {
        "id": "tYTZX3JlpULf"
      },
      "execution_count": null,
      "outputs": []
    },
    {
      "cell_type": "code",
      "source": [
        "cylinder_volume()"
      ],
      "metadata": {
        "id": "cRgtmHhdpiGl"
      },
      "execution_count": null,
      "outputs": []
    },
    {
      "cell_type": "code",
      "source": [
        "a , b  = cylinder_volume(4 ,5)"
      ],
      "metadata": {
        "id": "Zn_DuooUpnLM"
      },
      "execution_count": null,
      "outputs": []
    },
    {
      "cell_type": "code",
      "source": [
        "a"
      ],
      "metadata": {
        "id": "D3c1t0Gjpvrf"
      },
      "execution_count": null,
      "outputs": []
    },
    {
      "cell_type": "markdown",
      "source": [
        "## Calculate interest"
      ],
      "metadata": {
        "id": "KYKjgBHjmKTS"
      }
    },
    {
      "cell_type": "code",
      "source": [
        "def calculate_final_amount(initial, years, rate=0.05):\n",
        "\n",
        "    interest = (initial * rate * years)\n",
        "    final_amount = initial + interest\n",
        "    return final_amount"
      ],
      "metadata": {
        "id": "MIJXlcDplizI"
      },
      "execution_count": null,
      "outputs": []
    },
    {
      "cell_type": "code",
      "source": [
        "calculate_final_amount(1000, 2)"
      ],
      "metadata": {
        "id": "ks2IMRMfnIKN"
      },
      "execution_count": null,
      "outputs": []
    },
    {
      "cell_type": "code",
      "source": [
        "def add(a, b, verbose=False):\n",
        "    result = a + b\n",
        "    if verbose:\n",
        "        print(f\"Adding {a} and {b} gives {result}\")\n",
        "    return result"
      ],
      "metadata": {
        "id": "RaLdhgLokjXN"
      },
      "execution_count": null,
      "outputs": []
    },
    {
      "cell_type": "code",
      "source": [
        "add(3, 5, verbose=True)"
      ],
      "metadata": {
        "id": "yi2XcppunHcQ"
      },
      "execution_count": null,
      "outputs": []
    },
    {
      "cell_type": "markdown",
      "source": [
        "Lets write a function to check if a number is divisible by 3.\n",
        "- The rule is: A number is divisible by 3 if the sum of its digits is divisible by 3.\n",
        "\n",
        "Then use a loop to print the numbers divisible by 3 between 100 and 150   "
      ],
      "metadata": {
        "id": "Rj31k7sl546u"
      }
    },
    {
      "cell_type": "code",
      "source": [
        "def divisible_by_3(...):\n",
        "    digit_sum = 0\n",
        "    for digit in str(...):\n",
        "        digit_sum += ...\n",
        "    if digit_sum ... :\n",
        "        print(f\"{...} is divisible by 3\")"
      ],
      "metadata": {
        "id": "vIZUAz8Tywyk"
      },
      "execution_count": null,
      "outputs": []
    },
    {
      "cell_type": "code",
      "source": [
        "for i in range(....):\n",
        "    divisible_by_3(...)"
      ],
      "metadata": {
        "id": "_q4H5THM6U2D"
      },
      "execution_count": null,
      "outputs": []
    },
    {
      "cell_type": "markdown",
      "source": [
        "Let's calculate average and standard deviation from a list of numbers.  \n",
        "Use the following formulas:\n",
        "\n",
        "- Average: $\\bar{x} = \\frac{1}{n} \\sum_{i=1}^{n} x_i$  \n",
        "- Varience: $\\sigma^{2}= \\frac{1}{n - 1} \\sum_{i=1}^{n} (x_i - \\bar{x})^2 $\n",
        "- Standard Deviation: $\\sigma = \\sqrt{ variance }$"
      ],
      "metadata": {
        "id": "vAxPu9z6pzBF"
      }
    },
    {
      "cell_type": "markdown",
      "source": [
        "# Lets write a fucntion to calculate mean and standard deviation using the given template"
      ],
      "metadata": {
        "id": "25Qm5nLEp3_k"
      }
    },
    {
      "cell_type": "code",
      "source": [
        "import math\n",
        "\n",
        "def compute_avg_std(...):\n",
        "    # length of the list\n",
        "    n= len(...)\n",
        "    # calculate mean\n",
        "    mean = sum(...) / ....\n",
        "\n",
        "    # calculate variance using a loop\n",
        "    squared_diff_sum = 0\n",
        "    for num in ...:\n",
        "        squared_diff_sum += (...) ** 2\n",
        "    variance = (...)\n",
        "\n",
        "    stddev = math.sqrt(...)\n",
        "\n",
        "    return mean, stddev"
      ],
      "metadata": {
        "id": "UARcFkKIpwgA"
      },
      "execution_count": null,
      "outputs": []
    },
    {
      "cell_type": "code",
      "source": [
        "data = [10, 20, 30, 40, 50]\n",
        "# write your own list\n",
        "avg, std = compute_avg_std(data)"
      ],
      "metadata": {
        "id": "zeFyTx6spyJr"
      },
      "execution_count": null,
      "outputs": []
    },
    {
      "cell_type": "markdown",
      "source": [
        "# Input and Output\n",
        "input() function is used to take user input. By default, it returns the user input in form of a string."
      ],
      "metadata": {
        "id": "-kGR89MHy8IL"
      }
    },
    {
      "cell_type": "code",
      "source": [
        "name = input(\"Enter your name: \")\n",
        "print(\"Hello,\", name, \"! Welcome!\")"
      ],
      "metadata": {
        "id": "3BU7RZOxyxfP",
        "colab": {
          "base_uri": "https://localhost:8080/"
        },
        "outputId": "37e604fb-2694-4edd-8442-2cc79c1f9f2c"
      },
      "execution_count": null,
      "outputs": [
        {
          "output_type": "stream",
          "name": "stdout",
          "text": [
            "Enter your name: Flargleblast\n",
            "Hello, Flargleblast ! Welcome!\n"
          ]
        }
      ]
    },
    {
      "cell_type": "markdown",
      "source": [
        "## Take Multiple Input in Python\n",
        "We are taking multiple input from the user in a single line, splitting the values entered by the user into separate variables for each value using the split() method. Then, it prints the values with corresponding labels, either two or three, based on the number of inputs provided by the user."
      ],
      "metadata": {
        "id": "Q9QIlZdwzEka"
      }
    },
    {
      "cell_type": "code",
      "source": [
        "# taking two inputs at a time\n",
        "x, y = input(\"Enter two values: \").split()\n",
        "print(\"Number of boys: \", x)\n",
        "print(\"Number of girls: \", y)"
      ],
      "metadata": {
        "id": "giQ0g4oOyx-j",
        "colab": {
          "base_uri": "https://localhost:8080/"
        },
        "outputId": "8f8bd32c-dd0e-4ce7-ffc2-cfb5ea61bff5"
      },
      "execution_count": null,
      "outputs": [
        {
          "output_type": "stream",
          "name": "stdout",
          "text": [
            "Enter two values: 20 30\n",
            "Number of boys:  20\n",
            "Number of girls:  30\n"
          ]
        }
      ]
    },
    {
      "cell_type": "code",
      "source": [
        "# taking three inputs at a time\n",
        "x, y, z = input(\"Enter three values: \").split()\n",
        "print(\"Total number of students: \", x)\n",
        "print(\"Number of boys is : \", y)\n",
        "print(\"Number of girls is : \", z)"
      ],
      "metadata": {
        "id": "Qp7azOBSzIBr"
      },
      "execution_count": null,
      "outputs": []
    },
    {
      "cell_type": "markdown",
      "source": [
        "###Type Casting (Convert Input to Numbers)\n",
        "By default, all inputs are strings. Use int() or float() to convert them."
      ],
      "metadata": {
        "id": "tlEOjc7MzPlT"
      }
    },
    {
      "cell_type": "code",
      "source": [
        "a, b = input(\"Enter two numbers: \").split()\n",
        "# a = int(a)\n",
        "# b = int(b)\n",
        "print(\"Sum:\", a + b)"
      ],
      "metadata": {
        "id": "ZuaFkOOxzKrS",
        "colab": {
          "base_uri": "https://localhost:8080/"
        },
        "outputId": "bc5fd7e1-c9b8-4e60-b8fa-423f8cd1109d"
      },
      "execution_count": null,
      "outputs": [
        {
          "output_type": "stream",
          "name": "stdout",
          "text": [
            "Enter two numbers: 2 3\n",
            "Sum: 23\n"
          ]
        }
      ]
    },
    {
      "cell_type": "markdown",
      "source": [
        "##Output in Python\n",
        "####Basic Output"
      ],
      "metadata": {
        "id": "IqhP35JJzVXJ"
      }
    },
    {
      "cell_type": "code",
      "source": [
        "print(\"Hello, world!\")"
      ],
      "metadata": {
        "id": "p3qn_0pizK2Q",
        "colab": {
          "base_uri": "https://localhost:8080/"
        },
        "outputId": "40a92b2b-47d5-4ef6-e897-094985b5c5fc"
      },
      "execution_count": null,
      "outputs": [
        {
          "output_type": "stream",
          "name": "stdout",
          "text": [
            "Hello, world!\n"
          ]
        }
      ]
    },
    {
      "cell_type": "markdown",
      "source": [
        "###Using print() with multiple values"
      ],
      "metadata": {
        "id": "5dTjrInyzbRV"
      }
    },
    {
      "cell_type": "code",
      "source": [
        "name = \"Alice\"\n",
        "age = 25\n",
        "print(\"Name:\", name, \"Age:\", age)"
      ],
      "metadata": {
        "id": "4hILygmizYpV"
      },
      "execution_count": null,
      "outputs": []
    },
    {
      "cell_type": "markdown",
      "source": [
        "###Using f-strings"
      ],
      "metadata": {
        "id": "gdlPx4p5zgun"
      }
    },
    {
      "cell_type": "code",
      "source": [
        "name = \"Bob\"\n",
        "score = 95\n",
        "print(f\"Student {name} scored {score}% on the test.\")"
      ],
      "metadata": {
        "id": "jGl7vEnpzYsT",
        "colab": {
          "base_uri": "https://localhost:8080/"
        },
        "outputId": "aa4fe90f-bef3-4202-cf7e-b23218f71b86"
      },
      "execution_count": null,
      "outputs": [
        {
          "output_type": "stream",
          "name": "stdout",
          "text": [
            "Student Bob scored 95% on the test.\n"
          ]
        }
      ]
    },
    {
      "cell_type": "markdown",
      "source": [
        "###Using .format()"
      ],
      "metadata": {
        "id": "5HGgZ-0izmqh"
      }
    },
    {
      "cell_type": "code",
      "source": [
        "print(\"Student {} scored {}% on the test.\".format(name, score))"
      ],
      "metadata": {
        "id": "3sMsd2UpzYvk",
        "colab": {
          "base_uri": "https://localhost:8080/"
        },
        "outputId": "0f1852a1-5aa8-475b-b650-b1a0a7c99400"
      },
      "execution_count": null,
      "outputs": [
        {
          "output_type": "stream",
          "name": "stdout",
          "text": [
            "Student Bob scored 95% on the test.\n"
          ]
        }
      ]
    },
    {
      "cell_type": "code",
      "source": [
        "print(f\"The value of pi is {pi}\")\n",
        "print(\"The value of pi is {0}\".format(pi))\n",
        "print(\"The value of pi is \" + str(pi))\n",
        "print(f\"The value of pi is {pi:.2f}\")\n",
        "print(\"The value of pi is {0:.2f}\".format(pi))"
      ],
      "metadata": {
        "id": "xnrafri3wb9B",
        "colab": {
          "base_uri": "https://localhost:8080/"
        },
        "outputId": "303e684c-0977-46a2-c647-8d027e71fc68"
      },
      "execution_count": null,
      "outputs": [
        {
          "output_type": "stream",
          "name": "stdout",
          "text": [
            "The value of pi is 3.1415\n",
            "The value of pi is 3.1415\n",
            "The value of pi is 3.1415\n",
            "The value of pi is 3.14\n",
            "The value of pi is 3.14\n"
          ]
        }
      ]
    },
    {
      "cell_type": "code",
      "source": [
        "i=414\n",
        "print(f\"The value of i is {i}\")\n",
        "print(f\"The value of i is {i:5d}\")\n",
        "print(f\"The value of i is {i:05d}\")"
      ],
      "metadata": {
        "id": "_SWtG9DMHZmt",
        "colab": {
          "base_uri": "https://localhost:8080/"
        },
        "outputId": "b731e983-9b60-451e-ab51-177c9e783fae"
      },
      "execution_count": null,
      "outputs": [
        {
          "output_type": "stream",
          "name": "stdout",
          "text": [
            "The value of i is 414\n",
            "The value of i is   414\n",
            "The value of i is 00414\n"
          ]
        }
      ]
    },
    {
      "cell_type": "markdown",
      "source": [
        "###Special Print Parameters\n",
        "####sep – custom separator between printed values\n",
        "####end – custom ending instead of newline"
      ],
      "metadata": {
        "id": "5-4SKgg8zs9y"
      }
    },
    {
      "cell_type": "code",
      "source": [
        "print(\"Python\", \"is\", \"fun\", sep=\" \")"
      ],
      "metadata": {
        "id": "wXd240KszYz0",
        "colab": {
          "base_uri": "https://localhost:8080/"
        },
        "outputId": "b012e013-6e66-41b3-9d12-f0be6270062b"
      },
      "execution_count": null,
      "outputs": [
        {
          "output_type": "stream",
          "name": "stdout",
          "text": [
            "Python is fun\n"
          ]
        }
      ]
    },
    {
      "cell_type": "code",
      "source": [
        "print(\"Loading\", end=\"...\")\n",
        "print(\"Done!\")"
      ],
      "metadata": {
        "id": "yaQlXTr4zwT2",
        "colab": {
          "base_uri": "https://localhost:8080/"
        },
        "outputId": "26f8715e-a053-403e-d910-adc6d2e759e9"
      },
      "execution_count": null,
      "outputs": [
        {
          "output_type": "stream",
          "name": "stdout",
          "text": [
            "Loading...Done!\n"
          ]
        }
      ]
    },
    {
      "cell_type": "markdown",
      "source": [
        "####Exercise: Build a script that gives you this output:\n",
        "Enter your full name: Sarah Johnson\n",
        "\n",
        "Enter your age: 16\n",
        "\n",
        "Enter your marks in Math, Science, and English: 85 90 78\n",
        "\n",
        "\n",
        "--- Student Summary ---\n",
        "\n",
        "Name      : Sarah Johnson\n",
        "\n",
        "Age       : 16\n",
        "\n",
        "Math      : 85\n",
        "\n",
        "Science   : 90\n",
        "\n",
        "English   : 78\n",
        "\n",
        "Total     : 253\n",
        "\n",
        "Average   : 84.33\n",
        "\n",
        "####Instructions:\n",
        "Use input() to collect the student's name, age, and marks.\n",
        "\n",
        "Convert the marks to integers.\n",
        "\n",
        "Calculate the total and average (rounded to 2 decimal places).\n",
        "\n",
        "Print the summary using f-strings for formatting."
      ],
      "metadata": {
        "id": "sPQ_nNDJz1Kp"
      }
    },
    {
      "cell_type": "markdown",
      "source": [
        "# File Handling\n",
        "\n",
        "How to create, open/close, and read/write to files in Python.\n",
        "\n",
        "Basic file handling can be accomplished using the native `open()` function. E.g., `open('name_of_file', 'mode')`. The `'mode'` parameter determines if you will be reading, writing, etc to the file. Here are a few common modes:\n",
        "- r = read\n",
        "- w = write\n",
        "- a = append"
      ],
      "metadata": {
        "id": "6stoPxdxcBuh"
      }
    },
    {
      "cell_type": "markdown",
      "source": [
        "## Example 1: Reading a file\n",
        "\n",
        "Say you want to read the content of the file `Shakespeare.txt` which contains the following text:\n",
        "\n",
        "`To be or not to be, that is the question?`\n",
        "\n",
        "First, let's open the file in read mode, like so:\n",
        "\n",
        "`file = open('Shakespeare.txt', 'r')`\n",
        "\n",
        "Next, we output the content of the file using the read function:\n",
        "\n",
        "`content = file.read()`\n",
        "\n",
        "Notice we reference the variable name `file` when using the read function. We could have just as easily defined this variable differently in the above command, e.g.\n",
        "\n",
        "```\n",
        "Hamlet = open('Shakespeare.txt', 'r')\n",
        "content = Hamlet.read()\n",
        "```\n",
        "\n",
        "So be aware of this when handling multiple files simultaneously.\n",
        "\n",
        "Next, we need to print the `content` to the screen, and close the file. Putting it all together:"
      ],
      "metadata": {
        "id": "tHZk0UtaeFHn"
      }
    },
    {
      "cell_type": "code",
      "source": [
        "file = open('Shakespeare.txt', 'w')\n",
        "content = file.write('To be or not to be, that is the question?')\n",
        "file.close()"
      ],
      "metadata": {
        "id": "-aRQgT_OpDKx"
      },
      "execution_count": null,
      "outputs": []
    },
    {
      "cell_type": "code",
      "source": [
        "file = open('Shakespeare.txt', 'r')\n",
        "content = file.read()\n",
        "print(content)\n",
        "file.close()"
      ],
      "metadata": {
        "id": "y_azBcZWg5hL",
        "colab": {
          "base_uri": "https://localhost:8080/"
        },
        "outputId": "5f8d2b4c-0ea7-4bee-bbb7-03a4d5db3142"
      },
      "execution_count": null,
      "outputs": [
        {
          "output_type": "stream",
          "name": "stdout",
          "text": [
            "To be or not to be, that is the question?\n"
          ]
        }
      ]
    },
    {
      "cell_type": "markdown",
      "source": [
        "## Example 2: Writing to a file\n",
        "\n",
        "Writing to a file is accomplished with `file.write()`. However, if the file was opened in write mode (`\"w\"`) this command will erase and overwrite any content of the file if it already exists. If the file does not exist, it will create the file and write the content. E.g.\n",
        "\n",
        "\n"
      ],
      "metadata": {
        "id": "CQeoJgqzhVWA"
      }
    },
    {
      "cell_type": "code",
      "source": [
        "file = open('Shakespeare.txt', 'w')\n",
        "file.write('To be or not to be, that is the question?\\n')\n",
        "file.close()"
      ],
      "metadata": {
        "id": "zcphH-1jjOLX"
      },
      "execution_count": null,
      "outputs": []
    },
    {
      "cell_type": "code",
      "source": [
        "file = open('Shakespeare.txt', 'r')\n",
        "content = file.read()\n",
        "print(content)\n",
        "file.close()"
      ],
      "metadata": {
        "colab": {
          "base_uri": "https://localhost:8080/"
        },
        "id": "Q1zexHPnpe-X",
        "outputId": "6f3107d1-ca8a-4daa-fca6-0bd47b82db2a"
      },
      "execution_count": null,
      "outputs": [
        {
          "output_type": "stream",
          "name": "stdout",
          "text": [
            "To be or not to be, that is the question?\n",
            "\n"
          ]
        }
      ]
    },
    {
      "cell_type": "markdown",
      "source": [
        "And the content of `Shakespeare.txt` now reads only:\n",
        "\n",
        "`Brevity is the soul of wit.`"
      ],
      "metadata": {
        "id": "MVkoFhMejYJ0"
      }
    },
    {
      "cell_type": "markdown",
      "source": [
        "To keep the content of the original file, and only add new lines to the file, the file can be opened in the append mode (`\"a\"`)."
      ],
      "metadata": {
        "id": "saRsR-QvjmQL"
      }
    },
    {
      "cell_type": "markdown",
      "source": [
        "### Exercise 1\n",
        "\n",
        "Write the code to append a line with your favorite Shakespeare quote to the file `Shakespeare.txt`."
      ],
      "metadata": {
        "id": "Il7FhHMFj9j5"
      }
    },
    {
      "cell_type": "code",
      "source": [
        "file = open('Shakespeare.txt', 'a')\n",
        "file.write('Brevity is the soul of wit.')\n",
        "file.close()"
      ],
      "metadata": {
        "id": "cZXUiqsLpmlg"
      },
      "execution_count": null,
      "outputs": []
    },
    {
      "cell_type": "code",
      "source": [
        "file = open('Shakespeare.txt', 'r')\n",
        "content = file.read()\n",
        "print(content)\n",
        "file.close()"
      ],
      "metadata": {
        "colab": {
          "base_uri": "https://localhost:8080/"
        },
        "id": "jx8xsGQHpxbR",
        "outputId": "6f5405c0-0301-4e25-9427-6be231362387"
      },
      "execution_count": null,
      "outputs": [
        {
          "output_type": "stream",
          "name": "stdout",
          "text": [
            "To be or not to be, that is the question?\n",
            "Brevity is the soul of wit.\n"
          ]
        }
      ]
    },
    {
      "cell_type": "markdown",
      "source": [
        "## Using the `with` Statement for Opening Files\n",
        "\n",
        "Opening a file using a `with` statement will automatically close the file after the code block, even if an exception is raised. It is typically good practice to open files using a `with` statement like so:\n",
        "\n",
        "```\n",
        "with open(\"Shakespeare.txt\", \"r\") as file:\n",
        "  content = file.read()\n",
        "  print(content)\n",
        "```\n"
      ],
      "metadata": {
        "id": "ItLSZruwkZhT"
      }
    },
    {
      "cell_type": "markdown",
      "source": [
        "### Exercise 2\n",
        "\n",
        "Write the code to create a new file that contains one of your favorite quotes. Also print the contents of this file to the screen."
      ],
      "metadata": {
        "id": "vi1joDGolkD3"
      }
    },
    {
      "cell_type": "code",
      "source": [
        "with open('Starwars.txt', 'r+') as file:\n",
        "  file.write('The Force will be with you\\n')\n",
        "  content = file.read()\n",
        "  print(content)"
      ],
      "metadata": {
        "colab": {
          "base_uri": "https://localhost:8080/"
        },
        "id": "xecvFhujqIVJ",
        "outputId": "a7fcf6a0-7632-4294-99fa-4c946fb85fc3"
      },
      "execution_count": null,
      "outputs": [
        {
          "output_type": "stream",
          "name": "stdout",
          "text": [
            "\n"
          ]
        }
      ]
    }
  ]
}
