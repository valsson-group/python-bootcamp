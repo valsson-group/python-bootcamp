{
  "nbformat": 4,
  "nbformat_minor": 0,
  "metadata": {
    "colab": {
      "provenance": [],
      "include_colab_link": true
    },
    "kernelspec": {
      "name": "python3",
      "display_name": "Python 3"
    },
    "language_info": {
      "name": "python"
    }
  },
  "cells": [
    {
      "cell_type": "markdown",
      "metadata": {
        "id": "view-in-github",
        "colab_type": "text"
      },
      "source": [
        "<a href=\"https://colab.research.google.com/github/valsson-group/python-bootcamp/blob/main/Summer-2025/Session_1.ipynb\" target=\"_parent\"><img src=\"https://colab.research.google.com/assets/colab-badge.svg\" alt=\"Open In Colab\"/></a>"
      ]
    },
    {
      "cell_type": "markdown",
      "source": [
        "## Materials for learning Python (along with this workshop)\n",
        "\n",
        "\n",
        "\n",
        "1.   MolSSI Python Resources for Scientific Python Computing\n",
        "     (https://education.molssi.org/resources.html#programming)\n",
        "\n",
        "2.   The Python documentation (https://docs.python.org/3/)\n",
        "\n",
        "3.   CodeAcademy (Has good learning interface) : https://www.codecademy.com/learn/learn-python\n",
        "\n",
        "4.  Python for Everybody (https://www.py4e.com/)\n",
        "\n",
        "\n",
        "\n"
      ],
      "metadata": {
        "id": "cokxO4SHPPEx"
      }
    },
    {
      "cell_type": "markdown",
      "source": [
        "## Basic Syntax"
      ],
      "metadata": {
        "id": "NfNLmbrEue3a"
      }
    },
    {
      "cell_type": "code",
      "source": [
        "# Lines starting with a hash/pound sign are comments\n",
        "# meaning that they are not evaluated as code.\n",
        "#\n",
        "# Comments are useful to add short (and not so short)\n",
        "# blurbs of text explaning a particular part of your code"
      ],
      "metadata": {
        "id": "8oT43D5iui2k"
      },
      "execution_count": null,
      "outputs": []
    },
    {
      "cell_type": "markdown",
      "source": [
        "### Variables and Basic Types"
      ],
      "metadata": {
        "id": "yWO9BnjWvwl3"
      }
    },
    {
      "cell_type": "markdown",
      "source": [
        "The assignment operator, denoted by the `=` symbol, assigns values to variables. The line `var_a = 3` takes the known value, 3, and assigns that value to the variable `var_a`.\n",
        "\n",
        "An important aspect of any piece of code is how readable it is for other developers (or future you), so avoid abstract variable names like `a`, `var`, `var1`, `var2`, etc."
      ],
      "metadata": {
        "id": "ZxtLSVa3v3i-"
      }
    },
    {
      "cell_type": "code",
      "source": [
        "#Lets define a value in a variable\n",
        "pi=3.1415\n",
        "\n",
        "print(pi) # print is the basic output"
      ],
      "metadata": {
        "id": "vizbgUkbmZLG"
      },
      "execution_count": null,
      "outputs": []
    },
    {
      "cell_type": "markdown",
      "source": [
        "What type of variable is pi ?"
      ],
      "metadata": {
        "id": "H-7bp04LnV_W"
      }
    },
    {
      "cell_type": "code",
      "source": [
        "type(pi)"
      ],
      "metadata": {
        "id": "nDbSdz6XnTdz"
      },
      "execution_count": null,
      "outputs": []
    },
    {
      "cell_type": "markdown",
      "source": [
        "## Basic mathematical operations"
      ],
      "metadata": {
        "id": "fmpE6m-XmZ_c"
      }
    },
    {
      "cell_type": "markdown",
      "source": [
        "Now lets do some calculator stuff!!"
      ],
      "metadata": {
        "id": "e9v2SBYpmzEn"
      }
    },
    {
      "cell_type": "code",
      "source": [
        "pi*pi"
      ],
      "metadata": {
        "id": "kFdPetw3myLJ"
      },
      "execution_count": null,
      "outputs": []
    },
    {
      "cell_type": "code",
      "source": [
        "pi+pi"
      ],
      "metadata": {
        "id": "QYrysaznm7M_"
      },
      "execution_count": null,
      "outputs": []
    },
    {
      "cell_type": "code",
      "source": [
        "pi-3"
      ],
      "metadata": {
        "id": "9FKXc8kYm9-c"
      },
      "execution_count": null,
      "outputs": []
    },
    {
      "cell_type": "code",
      "source": [
        "three, seven= 3,7"
      ],
      "metadata": {
        "id": "pQp9U0AnsOUU"
      },
      "execution_count": null,
      "outputs": []
    },
    {
      "cell_type": "code",
      "source": [
        "print(three+seven)"
      ],
      "metadata": {
        "id": "9tGWU6z2sSbV"
      },
      "execution_count": null,
      "outputs": []
    },
    {
      "cell_type": "markdown",
      "source": [
        "Incrementing an integer, i.e. updating the same variable"
      ],
      "metadata": {
        "id": "WSYVcJlhsp5f"
      }
    },
    {
      "cell_type": "code",
      "source": [
        "an_int = 5\n",
        "an_int = an_int + 1\n",
        "print(an_int)"
      ],
      "metadata": {
        "id": "Df4NSCsutAZe"
      },
      "execution_count": null,
      "outputs": []
    },
    {
      "cell_type": "markdown",
      "source": [
        "You do not define this variable ? What will happen?"
      ],
      "metadata": {
        "id": "k7AKZpmfnecu"
      }
    },
    {
      "cell_type": "code",
      "source": [
        "print(phi)"
      ],
      "metadata": {
        "id": "dLQloL9vwP9E"
      },
      "execution_count": null,
      "outputs": []
    },
    {
      "cell_type": "markdown",
      "source": [
        "Yes!! We get an error 😀"
      ],
      "metadata": {
        "id": "NfEX42A9wV8N"
      }
    },
    {
      "cell_type": "markdown",
      "source": [
        "How do we know what kind is a certain variable? We use the \"type\" keyword"
      ],
      "metadata": {
        "id": "O9wgGeH7yLyL"
      }
    },
    {
      "cell_type": "code",
      "source": [
        "type(pi)"
      ],
      "metadata": {
        "id": "5VBtmV06yJOF"
      },
      "execution_count": null,
      "outputs": []
    },
    {
      "cell_type": "code",
      "execution_count": null,
      "metadata": {
        "id": "r9qbOw79vG44"
      },
      "outputs": [],
      "source": [
        "print(\"Hello World\")"
      ]
    },
    {
      "cell_type": "markdown",
      "source": [
        "The basic data types found in Python"
      ],
      "metadata": {
        "id": "XA7afUHSygqs"
      }
    },
    {
      "cell_type": "code",
      "source": [
        "an_integer = 42 # Just an integer\n",
        "a_float = 0.1 # A non-integer number, up to a fixed precision\n",
        "a_boolean = True # A value that can be True or False\n",
        "a_string = '''just enclose text between two 's, or two \"s, or do what we did for this string''' # Text\n",
        "none_of_the_above = None # The absence of any actual value or variable type"
      ],
      "metadata": {
        "id": "l43HBy5iyjzb"
      },
      "execution_count": null,
      "outputs": []
    },
    {
      "cell_type": "markdown",
      "source": [
        "An interesting thing to note is the declaration of the variable sets the data type (unlikely if you have seen C++ or Java)"
      ],
      "metadata": {
        "id": "WybzRu-6RBai"
      }
    },
    {
      "cell_type": "code",
      "source": [
        "type(an_integer)\n",
        "type(a_boolean)"
      ],
      "metadata": {
        "id": "7PE8b3L0ykOj"
      },
      "execution_count": null,
      "outputs": []
    },
    {
      "cell_type": "markdown",
      "source": [
        "You have 2 statements, but how come only 1 showed up?"
      ],
      "metadata": {
        "id": "HBQQu7nOzOtv"
      }
    },
    {
      "cell_type": "code",
      "source": [
        "print (type(an_integer),type(a_boolean))"
      ],
      "metadata": {
        "id": "74DJyrdrzLIL"
      },
      "execution_count": null,
      "outputs": []
    },
    {
      "cell_type": "markdown",
      "source": [
        "# Dealing with complex numbers"
      ],
      "metadata": {
        "id": "fXcThOt-RsBz"
      }
    },
    {
      "cell_type": "code",
      "source": [
        "z=3+4j\n",
        "type(z)"
      ],
      "metadata": {
        "id": "C4EZ58c8zyIe"
      },
      "execution_count": null,
      "outputs": []
    },
    {
      "cell_type": "code",
      "source": [
        "abs (z) # Take the absolute value"
      ],
      "metadata": {
        "id": "T-R7PqX4RzLg"
      },
      "execution_count": null,
      "outputs": []
    },
    {
      "cell_type": "code",
      "source": [
        "#Declaring using the complex keyword\n",
        "complex (4,5)"
      ],
      "metadata": {
        "id": "23HvyHeMR31H"
      },
      "execution_count": null,
      "outputs": []
    },
    {
      "cell_type": "markdown",
      "source": [
        "# Using a module in Python"
      ],
      "metadata": {
        "id": "jHyVG04aTJQ4"
      }
    },
    {
      "cell_type": "markdown",
      "source": [
        "## The math module"
      ],
      "metadata": {
        "id": "8GeqbseSTMo8"
      }
    },
    {
      "cell_type": "code",
      "source": [
        "# importing a module\n",
        "import math"
      ],
      "metadata": {
        "id": "vdBp1XXzS77M"
      },
      "execution_count": null,
      "outputs": []
    },
    {
      "cell_type": "markdown",
      "source": [
        "### What does this module do ?"
      ],
      "metadata": {
        "id": "htCE9dfaTXPN"
      }
    },
    {
      "cell_type": "markdown",
      "source": [
        "We can check by using the **help** function"
      ],
      "metadata": {
        "id": "ShQULFjJTfSP"
      }
    },
    {
      "cell_type": "code",
      "source": [
        "help(math)"
      ],
      "metadata": {
        "id": "JUHdo14STQ2P"
      },
      "execution_count": null,
      "outputs": []
    },
    {
      "cell_type": "markdown",
      "source": [
        "## or using '?'"
      ],
      "metadata": {
        "id": "jJKf4rqpUhg9"
      }
    },
    {
      "cell_type": "code",
      "source": [
        "math?"
      ],
      "metadata": {
        "id": "_8-gWW_oUZwE"
      },
      "execution_count": null,
      "outputs": []
    },
    {
      "cell_type": "markdown",
      "source": [
        "### How to use a function from a module?"
      ],
      "metadata": {
        "id": "nTXcjNVCUm-L"
      }
    },
    {
      "cell_type": "code",
      "source": [
        "help(math.cos)"
      ],
      "metadata": {
        "id": "QVS8DJGfUkwS"
      },
      "execution_count": null,
      "outputs": []
    },
    {
      "cell_type": "markdown",
      "source": [
        "# Exercise time"
      ],
      "metadata": {
        "id": "K7zmXZGBSUtn"
      }
    },
    {
      "cell_type": "markdown",
      "source": [
        "**Exercise 1** Complete the following piece of code to calculate the volume of a cylinder given its radius and height , following the formula: $volume = {pi} * {r}^{2}* {h} $.\n",
        "\n",
        "Use the value of `pi` stored in the `math` module as `math.pi`."
      ],
      "metadata": {
        "id": "_6jZimDpSbo8"
      }
    },
    {
      "cell_type": "code",
      "source": [
        "radius = 5\n",
        "height = 3\n",
        "volume = ...\n",
        "print(volume)"
      ],
      "metadata": {
        "id": "3c4G9ofwSRp_"
      },
      "execution_count": null,
      "outputs": []
    },
    {
      "cell_type": "markdown",
      "source": [
        "**Exercise 2** Trigonometry\n",
        "\n",
        "If we are given the base and the hypotenuse, lets find the angle Θ\n",
        "\n",
        "Hint: use \"acos\""
      ],
      "metadata": {
        "id": "qiJgl4Kwqp0f"
      }
    },
    {
      "cell_type": "code",
      "source": [
        "#b=...\n",
        "#h=...\n",
        "\n",
        "#theta=..."
      ],
      "metadata": {
        "id": "bPSmaDjOrM2S"
      },
      "execution_count": null,
      "outputs": []
    },
    {
      "cell_type": "markdown",
      "source": [
        "## Container Datatypes: lists, tuples, sets, and dictionaries"
      ],
      "metadata": {
        "id": "l8P0QPuHWNuf"
      }
    },
    {
      "cell_type": "markdown",
      "source": [
        "**Lists** are groups of objects (values, variables, even functions). We construct them using square brackets [] with objects separated by commas."
      ],
      "metadata": {
        "id": "9SLQHv28WtJl"
      }
    },
    {
      "cell_type": "code",
      "source": [
        "values = [7, 11, 13, 17, 19, 23, 29]"
      ],
      "metadata": {
        "id": "QIArGwZcVDKC"
      },
      "execution_count": null,
      "outputs": []
    },
    {
      "cell_type": "markdown",
      "source": [
        "### Indexing in Python\n",
        "\n",
        "Very importantly, **indexing in Python starts at 0**. The first item on a list is numbered 0, not 1. This means the last index of a list in Python is its `length - 1`, not length.."
      ],
      "metadata": {
        "id": "5nB9bYeEXEa9"
      }
    },
    {
      "cell_type": "code",
      "source": [
        "#accessing an element from the list\n",
        "values[0],values[1],values[6]"
      ],
      "metadata": {
        "id": "Vb0chk6yWy2L"
      },
      "execution_count": null,
      "outputs": []
    },
    {
      "cell_type": "code",
      "source": [
        "#Length of the list\n",
        "\n",
        "len(values)"
      ],
      "metadata": {
        "id": "Yf55GHDVXqSn"
      },
      "execution_count": null,
      "outputs": []
    },
    {
      "cell_type": "code",
      "source": [
        "# last element of the list\n",
        "\n",
        "values[-1]"
      ],
      "metadata": {
        "id": "Rd1VZiIEX4F0"
      },
      "execution_count": null,
      "outputs": []
    },
    {
      "cell_type": "code",
      "source": [
        "# printing values within a range\n",
        "\n",
        "values [0:4]"
      ],
      "metadata": {
        "id": "slWFKBbtX_uz"
      },
      "execution_count": null,
      "outputs": []
    },
    {
      "cell_type": "markdown",
      "source": [
        "### Slicing a list"
      ],
      "metadata": {
        "id": "idOYwRUwYlIz"
      }
    },
    {
      "cell_type": "code",
      "source": [
        "values [0:4:2]"
      ],
      "metadata": {
        "id": "20sSjQ58YGur"
      },
      "execution_count": null,
      "outputs": []
    },
    {
      "cell_type": "markdown",
      "source": [
        "### What is happening here ?\n",
        "\n",
        "Slicing the list and making a sublist of 2 elements between the 0th and 4th index"
      ],
      "metadata": {
        "id": "Ak8h_PebYqcB"
      }
    },
    {
      "cell_type": "code",
      "source": [
        "values[::2]"
      ],
      "metadata": {
        "id": "WK_VBIJtYoVM"
      },
      "execution_count": null,
      "outputs": []
    },
    {
      "cell_type": "markdown",
      "source": [
        "This gives values every 2nd element"
      ],
      "metadata": {
        "id": "7mFtSLRibYju"
      }
    },
    {
      "cell_type": "markdown",
      "source": [
        "A mixed list of different datatypes"
      ],
      "metadata": {
        "id": "LS32-IwucIBB"
      }
    },
    {
      "cell_type": "code",
      "source": [
        "mixed_list = ['one', 1, 1e6, [1,1], True, None]"
      ],
      "metadata": {
        "id": "s1JYnxZJbFjP"
      },
      "execution_count": null,
      "outputs": []
    },
    {
      "cell_type": "markdown",
      "source": [
        "\"adding\" lists"
      ],
      "metadata": {
        "id": "MrxC-aEudQBd"
      }
    },
    {
      "cell_type": "code",
      "source": [
        "values2 = values + values\n",
        "print(values2)"
      ],
      "metadata": {
        "id": "PXxnHZaZcVvv"
      },
      "execution_count": null,
      "outputs": []
    },
    {
      "cell_type": "markdown",
      "source": [
        "\"multiplying\" list"
      ],
      "metadata": {
        "id": "LCC8SmIkddLZ"
      }
    },
    {
      "cell_type": "code",
      "source": [
        "values3 = values * 3\n",
        "print(values3)"
      ],
      "metadata": {
        "id": "2vd2697MdYkW"
      },
      "execution_count": null,
      "outputs": []
    },
    {
      "cell_type": "markdown",
      "source": [
        "## Lets explore some attached functions for lists"
      ],
      "metadata": {
        "id": "53V3F8Irf5S0"
      }
    },
    {
      "cell_type": "code",
      "source": [
        "values=[] # here we define an empty list"
      ],
      "metadata": {
        "id": "TXJ_D6Dyf46I"
      },
      "execution_count": null,
      "outputs": []
    },
    {
      "cell_type": "code",
      "source": [
        "# add to a list\n",
        "values.append(1)\n",
        "values.append(2)\n",
        "values.append(3)\n",
        "print(values)"
      ],
      "metadata": {
        "id": "zDwu-4vtdidr"
      },
      "execution_count": null,
      "outputs": []
    },
    {
      "cell_type": "code",
      "source": [
        "values.extend([4,5,6])\n",
        "print(values)"
      ],
      "metadata": {
        "id": "nejxVISagGWp"
      },
      "execution_count": null,
      "outputs": []
    },
    {
      "cell_type": "code",
      "source": [
        "values.remove(2)\n",
        "print(values)"
      ],
      "metadata": {
        "id": "f9W54kRtgjBo"
      },
      "execution_count": null,
      "outputs": []
    },
    {
      "cell_type": "code",
      "source": [
        "values.append(7)\n",
        "print(values) # adding values at the end of the list"
      ],
      "metadata": {
        "id": "3JoCgjSCgnW4"
      },
      "execution_count": null,
      "outputs": []
    },
    {
      "cell_type": "markdown",
      "source": [
        "###Datatype Strings\n",
        "Even though a basic data type, may be considered like a **list** of characters"
      ],
      "metadata": {
        "id": "A_r7ALohW7VH"
      }
    },
    {
      "cell_type": "code",
      "source": [
        "words = 'Hello Chemistry'"
      ],
      "metadata": {
        "id": "ekEC4xoqgqFH"
      },
      "execution_count": null,
      "outputs": []
    },
    {
      "cell_type": "markdown",
      "source": [
        "Similar slicing like lists"
      ],
      "metadata": {
        "id": "-1nPT1aOXOp6"
      }
    },
    {
      "cell_type": "code",
      "source": [
        "words[:5]"
      ],
      "metadata": {
        "id": "r0uy4nYpXNS2"
      },
      "execution_count": null,
      "outputs": []
    },
    {
      "cell_type": "markdown",
      "source": [
        "Some methods which may work on both strings and lists"
      ],
      "metadata": {
        "id": "nxOF7kGyXbLK"
      }
    },
    {
      "cell_type": "code",
      "source": [
        "len(words)"
      ],
      "metadata": {
        "id": "plHFT6SjXRtY"
      },
      "execution_count": null,
      "outputs": []
    },
    {
      "cell_type": "code",
      "source": [
        "words.append(\"Physical\")"
      ],
      "metadata": {
        "id": "lSyevuYOXZlG"
      },
      "execution_count": null,
      "outputs": []
    },
    {
      "cell_type": "markdown",
      "source": [
        "This might not work as strings are not exactly \"lists\""
      ],
      "metadata": {
        "id": "CaPQ7tP8Xqty"
      }
    },
    {
      "cell_type": "markdown",
      "source": [
        "But some features might be unique for strings"
      ],
      "metadata": {
        "id": "dfjvmqreYQwY"
      }
    },
    {
      "cell_type": "code",
      "source": [
        "# Splitting a string\n",
        "\n",
        "words_list=words.split()\n",
        "print(words_list)"
      ],
      "metadata": {
        "id": "OZK54mr6XmO9"
      },
      "execution_count": null,
      "outputs": []
    },
    {
      "cell_type": "markdown",
      "source": [
        "## Formatting strings"
      ],
      "metadata": {
        "id": "Yebxc5NyoHAh"
      }
    },
    {
      "cell_type": "markdown",
      "source": [
        "We use f-strings for a better formatting in strings"
      ],
      "metadata": {
        "id": "gSzohaCVwgIm"
      }
    },
    {
      "cell_type": "code",
      "source": [
        "print(f\"The value of pi is {pi}\")  # enclose variables in curly brackets\n",
        "print(\"The value of pi is {0}\".format(pi))  # enclose variables in curly brackets\n",
        "print(\"The value of pi is \" + str(pi))  # enclose variables in curly brackets\n",
        "print(f\"The value of pi is {pi:.2f}\")  # enclose variables in curly brackets\n",
        "print(\"The value of pi is {0:.2f}\".format(pi))  # enclose variables in curly brackets"
      ],
      "metadata": {
        "id": "xnrafri3wb9B"
      },
      "execution_count": null,
      "outputs": []
    },
    {
      "cell_type": "code",
      "source": [
        "i=414\n",
        "print(f\"The value of i is {i}\")  # enclose variables in curly brackets\n",
        "print(f\"The value of i is {i:5d}\")  # enclose variables in curly brackets\n",
        "print(f\"The value of i is {i:05d}\")  # enclose variables in curly brackets"
      ],
      "metadata": {
        "id": "_SWtG9DMHZmt"
      },
      "execution_count": null,
      "outputs": []
    },
    {
      "cell_type": "markdown",
      "source": [
        "## Rigid to change: Immutable objects"
      ],
      "metadata": {
        "id": "ALgbuTkvZQFZ"
      }
    },
    {
      "cell_type": "code",
      "source": [
        "values=[\"d\",\"e\",\"f\"]\n",
        "print(values)"
      ],
      "metadata": {
        "id": "qqSJ7-Q-Yqcr"
      },
      "execution_count": null,
      "outputs": []
    },
    {
      "cell_type": "code",
      "source": [
        "values[1]=\"g\"\n",
        "print (values)"
      ],
      "metadata": {
        "id": "Jrv2PPYJZdRc"
      },
      "execution_count": null,
      "outputs": []
    },
    {
      "cell_type": "markdown",
      "source": [
        "Here we could make changes to the list \"values\". So lists are mutable."
      ],
      "metadata": {
        "id": "zxZN8KC4ZyDO"
      }
    },
    {
      "cell_type": "markdown",
      "source": [
        "**Exercise 3** Time Again: How you do you think this code works?"
      ],
      "metadata": {
        "id": "ZT3oP8PkaE93"
      }
    },
    {
      "cell_type": "code",
      "source": [
        "values2 = values\n",
        "values2.append(\"x\")\n",
        "print(values == values2)"
      ],
      "metadata": {
        "id": "0M4xZMV3ZvQK"
      },
      "execution_count": null,
      "outputs": []
    },
    {
      "cell_type": "markdown",
      "source": [
        "Strings are on the other hand `immutable`\n",
        "\n"
      ],
      "metadata": {
        "id": "-UlWPyCvaxde"
      }
    },
    {
      "cell_type": "code",
      "source": [
        "sentence = \"The beautiful game\"\n",
        "sentence[5]= \"x\""
      ],
      "metadata": {
        "id": "HyRz0pYkaTF6"
      },
      "execution_count": null,
      "outputs": []
    },
    {
      "cell_type": "markdown",
      "source": [
        "Concatenating the strings (words)"
      ],
      "metadata": {
        "id": "w9QZPF4LuDaf"
      }
    },
    {
      "cell_type": "code",
      "source": [
        "words = \"Hello\"\n",
        "words += \" World!\"\n",
        "print(words)"
      ],
      "metadata": {
        "id": "KrAomT1abtyC"
      },
      "execution_count": null,
      "outputs": []
    },
    {
      "cell_type": "markdown",
      "source": [
        "But then, String is supposed to be immutable !!!"
      ],
      "metadata": {
        "id": "ouEPiN74vQxv"
      }
    },
    {
      "cell_type": "markdown",
      "source": [
        "Lets use the `id()` function to really see what is happening!\n",
        "\n",
        "\n",
        "\n"
      ],
      "metadata": {
        "id": "IrS9N0eqvX9z"
      }
    },
    {
      "cell_type": "code",
      "source": [
        "words = \"Hello\"\n",
        "print(id(words))\n",
        "words += \" World!\"\n",
        "print(id(words))"
      ],
      "metadata": {
        "id": "BkSibQB9uBkK"
      },
      "execution_count": null,
      "outputs": []
    },
    {
      "cell_type": "markdown",
      "source": [
        "The id's are changing (according to the memory address) which means the text is modified"
      ],
      "metadata": {
        "id": "DliifmVWv3k2"
      }
    },
    {
      "cell_type": "code",
      "source": [
        "values = [\"a\", \"b\", \"c\"]\n",
        "print(id(values))\n",
        "values[1] = \"x\"\n",
        "print(id(values))"
      ],
      "metadata": {
        "id": "2vhIQE7Dvmji"
      },
      "execution_count": null,
      "outputs": []
    },
    {
      "cell_type": "markdown",
      "source": [
        "On the contrary, for a list the id's are remaining the same"
      ],
      "metadata": {
        "id": "4F2WH5VBwR-G"
      }
    },
    {
      "cell_type": "code",
      "source": [],
      "metadata": {
        "id": "QCmmio6AwQf2"
      },
      "execution_count": null,
      "outputs": []
    }
  ]
}