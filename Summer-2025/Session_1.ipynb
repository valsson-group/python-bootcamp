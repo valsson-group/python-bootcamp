{
  "nbformat": 4,
  "nbformat_minor": 0,
  "metadata": {
    "colab": {
      "provenance": [],
      "toc_visible": true,
      "include_colab_link": true
    },
    "kernelspec": {
      "name": "python3",
      "display_name": "Python 3"
    },
    "language_info": {
      "name": "python"
    }
  },
  "cells": [
    {
      "cell_type": "markdown",
      "metadata": {
        "id": "view-in-github",
        "colab_type": "text"
      },
      "source": [
        "<a href=\"https://colab.research.google.com/github/valsson-group/python-bootcamp/blob/main/Summer-2025/Session_1.ipynb\" target=\"_parent\"><img src=\"https://colab.research.google.com/assets/colab-badge.svg\" alt=\"Open In Colab\"/></a>"
      ]
    },
    {
      "cell_type": "markdown",
      "source": [
        "## Python Summer Bootcamp from Valsson Research Group\n",
        "\n",
        "### Session 1: Basics of Python: Data types, functions, control flow, handling string.\n",
        "\n",
        "Date: 06/16/2025\n",
        "\n",
        "## Mentors:\n",
        "* Shikshya Bhusal\n",
        "* Sara Alinejad\n",
        "* Pradip Si\n",
        "* Logan Estridge\n",
        "* Kriti Alam\n",
        "\n"
      ],
      "metadata": {
        "id": "r1fJs0sIDWte"
      }
    },
    {
      "cell_type": "markdown",
      "source": [
        "## Materials for learning Python (along with this workshop)\n",
        "\n",
        "\n",
        "\n",
        "1.   MolSSI Python Resources for Scientific Python Computing\n",
        "     (https://education.molssi.org/resources.html#programming)\n",
        "\n",
        "2.   The Python documentation (https://docs.python.org/3/)\n",
        "\n",
        "3.   CodeAcademy (Has good learning interface) : https://www.codecademy.com/learn/learn-python\n",
        "\n",
        "4.  Python for Everybody (https://www.py4e.com/)\n",
        "\n",
        "\n",
        "\n"
      ],
      "metadata": {
        "id": "cokxO4SHPPEx"
      }
    },
    {
      "cell_type": "markdown",
      "source": [
        "## Basic Syntax"
      ],
      "metadata": {
        "id": "NfNLmbrEue3a"
      }
    },
    {
      "cell_type": "code",
      "source": [
        "# Lines starting with a hash/pound sign are comments\n",
        "# meaning that they are not evaluated as code.\n",
        "#\n",
        "# Comments are useful to add short (and not so short)\n",
        "# blurbs of text explaning a particular part of your code"
      ],
      "metadata": {
        "id": "8oT43D5iui2k"
      },
      "execution_count": null,
      "outputs": []
    },
    {
      "cell_type": "markdown",
      "source": [
        "### Variables and Basic Types"
      ],
      "metadata": {
        "id": "yWO9BnjWvwl3"
      }
    },
    {
      "cell_type": "markdown",
      "source": [
        "The assignment operator, denoted by the `=` symbol, assigns values to variables. The line `var_a = 3` takes the known value, 3, and assigns that value to the variable `var_a`.\n",
        "\n",
        "An important aspect of any piece of code is how readable it is for other developers (or future you), so avoid abstract variable names like `a`, `var`, `var1`, `var2`, etc."
      ],
      "metadata": {
        "id": "ZxtLSVa3v3i-"
      }
    },
    {
      "cell_type": "code",
      "source": [
        "#Lets define a value in a variable\n",
        "pi=3.1415\n",
        "\n",
        "print(pi) # print is the basic output"
      ],
      "metadata": {
        "id": "vizbgUkbmZLG"
      },
      "execution_count": null,
      "outputs": []
    },
    {
      "cell_type": "markdown",
      "source": [
        "What type of variable is pi ?"
      ],
      "metadata": {
        "id": "H-7bp04LnV_W"
      }
    },
    {
      "cell_type": "code",
      "source": [
        "type(pi)"
      ],
      "metadata": {
        "id": "nDbSdz6XnTdz"
      },
      "execution_count": null,
      "outputs": []
    },
    {
      "cell_type": "markdown",
      "source": [
        "## Basic mathematical operations"
      ],
      "metadata": {
        "id": "fmpE6m-XmZ_c"
      }
    },
    {
      "cell_type": "markdown",
      "source": [
        "Now lets do some calculator stuff!!"
      ],
      "metadata": {
        "id": "e9v2SBYpmzEn"
      }
    },
    {
      "cell_type": "code",
      "source": [
        "pi*pi"
      ],
      "metadata": {
        "id": "kFdPetw3myLJ"
      },
      "execution_count": null,
      "outputs": []
    },
    {
      "cell_type": "code",
      "source": [
        "pi+pi"
      ],
      "metadata": {
        "id": "QYrysaznm7M_"
      },
      "execution_count": null,
      "outputs": []
    },
    {
      "cell_type": "code",
      "source": [
        "pi-3"
      ],
      "metadata": {
        "id": "9FKXc8kYm9-c"
      },
      "execution_count": null,
      "outputs": []
    },
    {
      "cell_type": "code",
      "source": [
        "three, seven= 3,7"
      ],
      "metadata": {
        "id": "pQp9U0AnsOUU"
      },
      "execution_count": null,
      "outputs": []
    },
    {
      "cell_type": "code",
      "source": [
        "print(three+seven)"
      ],
      "metadata": {
        "id": "9tGWU6z2sSbV"
      },
      "execution_count": null,
      "outputs": []
    },
    {
      "cell_type": "markdown",
      "source": [
        "Incrementing an integer, i.e. updating the same variable"
      ],
      "metadata": {
        "id": "WSYVcJlhsp5f"
      }
    },
    {
      "cell_type": "code",
      "source": [
        "an_int = 5\n",
        "an_int = an_int + 1\n",
        "print(an_int)"
      ],
      "metadata": {
        "id": "Df4NSCsutAZe"
      },
      "execution_count": null,
      "outputs": []
    },
    {
      "cell_type": "markdown",
      "source": [
        "You do not define this variable ? What will happen?"
      ],
      "metadata": {
        "id": "k7AKZpmfnecu"
      }
    },
    {
      "cell_type": "code",
      "source": [
        "print(phi)"
      ],
      "metadata": {
        "id": "dLQloL9vwP9E"
      },
      "execution_count": null,
      "outputs": []
    },
    {
      "cell_type": "markdown",
      "source": [
        "Yes!! We get an error 😀"
      ],
      "metadata": {
        "id": "NfEX42A9wV8N"
      }
    },
    {
      "cell_type": "markdown",
      "source": [
        "How do we know what kind is a certain variable? We use the \"type\" keyword"
      ],
      "metadata": {
        "id": "O9wgGeH7yLyL"
      }
    },
    {
      "cell_type": "code",
      "source": [
        "type(pi)"
      ],
      "metadata": {
        "id": "5VBtmV06yJOF"
      },
      "execution_count": null,
      "outputs": []
    },
    {
      "cell_type": "code",
      "execution_count": null,
      "metadata": {
        "id": "r9qbOw79vG44"
      },
      "outputs": [],
      "source": [
        "print(\"Hello World\")"
      ]
    },
    {
      "cell_type": "markdown",
      "source": [
        "The basic data types found in Python"
      ],
      "metadata": {
        "id": "XA7afUHSygqs"
      }
    },
    {
      "cell_type": "code",
      "source": [
        "an_integer = 42 # Just an integer\n",
        "a_float = 0.1 # A non-integer number, up to a fixed precision\n",
        "a_boolean = True # A value that can be True or False\n",
        "a_string = '''just enclose text between two 's, or two \"s, or do what we did for this string''' # Text\n",
        "none_of_the_above = None # The absence of any actual value or variable type"
      ],
      "metadata": {
        "id": "l43HBy5iyjzb"
      },
      "execution_count": null,
      "outputs": []
    },
    {
      "cell_type": "markdown",
      "source": [
        "An interesting thing to note is the declaration of the variable sets the data type (unlikely if you have seen C++ or Java)"
      ],
      "metadata": {
        "id": "WybzRu-6RBai"
      }
    },
    {
      "cell_type": "code",
      "source": [
        "type(an_integer)\n",
        "type(a_boolean)"
      ],
      "metadata": {
        "id": "7PE8b3L0ykOj"
      },
      "execution_count": null,
      "outputs": []
    },
    {
      "cell_type": "markdown",
      "source": [
        "You have 2 statements, but how come only 1 showed up?"
      ],
      "metadata": {
        "id": "HBQQu7nOzOtv"
      }
    },
    {
      "cell_type": "code",
      "source": [
        "print (type(an_integer),type(a_boolean))"
      ],
      "metadata": {
        "id": "74DJyrdrzLIL"
      },
      "execution_count": null,
      "outputs": []
    },
    {
      "cell_type": "markdown",
      "source": [
        "The datatype of a variable is implicit i.e. will depend on how it is declared or being set to."
      ],
      "metadata": {
        "id": "-uy8shk1D7cR"
      }
    },
    {
      "cell_type": "code",
      "source": [
        "z=\"1.0\"\n",
        "b= 1.0\n",
        "\n",
        "print(type(z),type(b))"
      ],
      "metadata": {
        "id": "S5M1YABxELSR"
      },
      "execution_count": null,
      "outputs": []
    },
    {
      "cell_type": "markdown",
      "source": [
        "We can also change between datatypes (or convert between datatypes)"
      ],
      "metadata": {
        "id": "FVz0Qq-MGLYH"
      }
    },
    {
      "cell_type": "code",
      "source": [
        "b=\"3.0\"\n",
        "b=float(b)\n",
        "print(b,type(b))"
      ],
      "metadata": {
        "id": "AZpvp3I8GKUx"
      },
      "execution_count": null,
      "outputs": []
    },
    {
      "cell_type": "markdown",
      "source": [
        "# Dealing with complex numbers"
      ],
      "metadata": {
        "id": "fXcThOt-RsBz"
      }
    },
    {
      "cell_type": "code",
      "source": [
        "z=3+4j\n",
        "type(z)"
      ],
      "metadata": {
        "id": "C4EZ58c8zyIe"
      },
      "execution_count": null,
      "outputs": []
    },
    {
      "cell_type": "code",
      "source": [
        "abs (z) # Take the absolute value"
      ],
      "metadata": {
        "id": "T-R7PqX4RzLg"
      },
      "execution_count": null,
      "outputs": []
    },
    {
      "cell_type": "code",
      "source": [
        "#Declaring using the complex keyword\n",
        "complex (4,5)"
      ],
      "metadata": {
        "id": "23HvyHeMR31H"
      },
      "execution_count": null,
      "outputs": []
    },
    {
      "cell_type": "markdown",
      "source": [
        "# Using a module in Python\n",
        "\n",
        "What is a module? : It is a file which has Python codes."
      ],
      "metadata": {
        "id": "jHyVG04aTJQ4"
      }
    },
    {
      "cell_type": "markdown",
      "source": [
        "## Example: The math module"
      ],
      "metadata": {
        "id": "8GeqbseSTMo8"
      }
    },
    {
      "cell_type": "code",
      "source": [
        "# importing a module\n",
        "import math"
      ],
      "metadata": {
        "id": "vdBp1XXzS77M"
      },
      "execution_count": null,
      "outputs": []
    },
    {
      "cell_type": "markdown",
      "source": [
        "### What does this module do ?"
      ],
      "metadata": {
        "id": "htCE9dfaTXPN"
      }
    },
    {
      "cell_type": "markdown",
      "source": [
        "We can check by using the **help** function"
      ],
      "metadata": {
        "id": "ShQULFjJTfSP"
      }
    },
    {
      "cell_type": "code",
      "source": [
        "help(math)"
      ],
      "metadata": {
        "id": "JUHdo14STQ2P"
      },
      "execution_count": null,
      "outputs": []
    },
    {
      "cell_type": "markdown",
      "source": [
        "## or using '?'"
      ],
      "metadata": {
        "id": "jJKf4rqpUhg9"
      }
    },
    {
      "cell_type": "code",
      "source": [
        "math?"
      ],
      "metadata": {
        "id": "_8-gWW_oUZwE"
      },
      "execution_count": null,
      "outputs": []
    },
    {
      "cell_type": "markdown",
      "source": [
        "### How to use a function from a module?"
      ],
      "metadata": {
        "id": "nTXcjNVCUm-L"
      }
    },
    {
      "cell_type": "code",
      "source": [
        "help(math.cos)"
      ],
      "metadata": {
        "id": "QVS8DJGfUkwS"
      },
      "execution_count": null,
      "outputs": []
    },
    {
      "cell_type": "markdown",
      "source": [
        "# Exercise time"
      ],
      "metadata": {
        "id": "K7zmXZGBSUtn"
      }
    },
    {
      "cell_type": "markdown",
      "source": [
        "**Exercise 1** Complete the following piece of code to calculate the volume of a cylinder given its radius and height , following the formula: $volume = {pi} * {r}^{2}* {h} $.\n",
        "\n",
        "Use the value of `pi` stored in the `math` module as `math.pi`."
      ],
      "metadata": {
        "id": "_6jZimDpSbo8"
      }
    },
    {
      "cell_type": "code",
      "source": [
        "radius = 5\n",
        "height = 3\n",
        "volume = ...\n",
        "print(volume)"
      ],
      "metadata": {
        "id": "3c4G9ofwSRp_"
      },
      "execution_count": null,
      "outputs": []
    },
    {
      "cell_type": "markdown",
      "source": [
        "**Exercise 2** Trigonometry\n",
        "\n",
        "If we are given the base and the hypotenuse, lets find the angle Θ\n",
        "\n",
        "Hint: use \"acos\""
      ],
      "metadata": {
        "id": "qiJgl4Kwqp0f"
      }
    },
    {
      "cell_type": "code",
      "source": [
        "#b=...\n",
        "#h=...\n",
        "\n",
        "#theta=..."
      ],
      "metadata": {
        "id": "bPSmaDjOrM2S"
      },
      "execution_count": null,
      "outputs": []
    },
    {
      "cell_type": "markdown",
      "source": [
        "## Container Datatypes: lists, tuples, sets, and dictionaries"
      ],
      "metadata": {
        "id": "l8P0QPuHWNuf"
      }
    },
    {
      "cell_type": "markdown",
      "source": [
        "**Lists** are groups of objects (values, variables, even functions). We construct them using square brackets [] with objects separated by commas."
      ],
      "metadata": {
        "id": "9SLQHv28WtJl"
      }
    },
    {
      "cell_type": "code",
      "source": [
        "values = [7, 11, 13, 17, 19, 23, 29]"
      ],
      "metadata": {
        "id": "QIArGwZcVDKC"
      },
      "execution_count": null,
      "outputs": []
    },
    {
      "cell_type": "markdown",
      "source": [
        "### Indexing in Python\n",
        "\n",
        "Very importantly, **indexing in Python starts at 0**. The first item on a list is numbered 0, not 1. This means the last index of a list in Python is its `length - 1`, not length.."
      ],
      "metadata": {
        "id": "5nB9bYeEXEa9"
      }
    },
    {
      "cell_type": "code",
      "source": [
        "#accessing an element from the list\n",
        "values[0],values[1],values[6]"
      ],
      "metadata": {
        "id": "Vb0chk6yWy2L"
      },
      "execution_count": null,
      "outputs": []
    },
    {
      "cell_type": "code",
      "source": [
        "#Length of the list\n",
        "\n",
        "len(values)"
      ],
      "metadata": {
        "id": "Yf55GHDVXqSn"
      },
      "execution_count": null,
      "outputs": []
    },
    {
      "cell_type": "code",
      "source": [
        "# last element of the list\n",
        "\n",
        "values[-1]"
      ],
      "metadata": {
        "id": "Rd1VZiIEX4F0"
      },
      "execution_count": null,
      "outputs": []
    },
    {
      "cell_type": "code",
      "source": [
        "# printing values within a range\n",
        "\n",
        "values [0:4]"
      ],
      "metadata": {
        "id": "slWFKBbtX_uz"
      },
      "execution_count": null,
      "outputs": []
    },
    {
      "cell_type": "markdown",
      "source": [
        "### Slicing a list"
      ],
      "metadata": {
        "id": "idOYwRUwYlIz"
      }
    },
    {
      "cell_type": "code",
      "source": [
        "#splicing syntax: [start:stop:stride]\n",
        "values [0:4:2]"
      ],
      "metadata": {
        "id": "20sSjQ58YGur"
      },
      "execution_count": null,
      "outputs": []
    },
    {
      "cell_type": "markdown",
      "source": [
        "### What is happening here ?\n",
        "\n",
        "Slicing the list and making a sublist of every 2nd element between the 0th and 4th index"
      ],
      "metadata": {
        "id": "Ak8h_PebYqcB"
      }
    },
    {
      "cell_type": "markdown",
      "source": [
        "Another example is where we dont define the start and the stop indices but just the stride"
      ],
      "metadata": {
        "id": "LHkPgTWtI-c8"
      }
    },
    {
      "cell_type": "code",
      "source": [
        "values[::2]"
      ],
      "metadata": {
        "id": "WK_VBIJtYoVM"
      },
      "execution_count": null,
      "outputs": []
    },
    {
      "cell_type": "markdown",
      "source": [
        "This gives values every 2nd element"
      ],
      "metadata": {
        "id": "7mFtSLRibYju"
      }
    },
    {
      "cell_type": "markdown",
      "source": [
        "A mixed list of different datatypes"
      ],
      "metadata": {
        "id": "LS32-IwucIBB"
      }
    },
    {
      "cell_type": "code",
      "source": [
        "mixed_list = ['one', 1, 1e6, [1,1], True, None]"
      ],
      "metadata": {
        "id": "s1JYnxZJbFjP"
      },
      "execution_count": null,
      "outputs": []
    },
    {
      "cell_type": "markdown",
      "source": [
        "\"adding\" lists"
      ],
      "metadata": {
        "id": "MrxC-aEudQBd"
      }
    },
    {
      "cell_type": "code",
      "source": [
        "values2 = values + values\n",
        "print(values2)"
      ],
      "metadata": {
        "id": "PXxnHZaZcVvv"
      },
      "execution_count": null,
      "outputs": []
    },
    {
      "cell_type": "markdown",
      "source": [
        "\"multiplying\" list"
      ],
      "metadata": {
        "id": "LCC8SmIkddLZ"
      }
    },
    {
      "cell_type": "code",
      "source": [
        "values3 = values * 3\n",
        "print(values3)"
      ],
      "metadata": {
        "id": "2vd2697MdYkW"
      },
      "execution_count": null,
      "outputs": []
    },
    {
      "cell_type": "markdown",
      "source": [
        "## Lets explore some attached functions for lists"
      ],
      "metadata": {
        "id": "53V3F8Irf5S0"
      }
    },
    {
      "cell_type": "code",
      "source": [
        "values=[] # here we define a list: in this case an empty list"
      ],
      "metadata": {
        "id": "TXJ_D6Dyf46I"
      },
      "execution_count": null,
      "outputs": []
    },
    {
      "cell_type": "code",
      "source": [
        "# adding elements to a list\n",
        "\n",
        "values.append(1)\n",
        "values.append(2)\n",
        "values.append(3)\n",
        "print(values)"
      ],
      "metadata": {
        "id": "zDwu-4vtdidr"
      },
      "execution_count": null,
      "outputs": []
    },
    {
      "cell_type": "code",
      "source": [
        "values.extend([4,5,6])\n",
        "print(values)"
      ],
      "metadata": {
        "id": "nejxVISagGWp"
      },
      "execution_count": null,
      "outputs": []
    },
    {
      "cell_type": "code",
      "source": [
        "values.remove(2)\n",
        "print(values)"
      ],
      "metadata": {
        "id": "f9W54kRtgjBo"
      },
      "execution_count": null,
      "outputs": []
    },
    {
      "cell_type": "code",
      "source": [
        "values.append(7)\n",
        "print(values) # adding values at the end of the list"
      ],
      "metadata": {
        "id": "3JoCgjSCgnW4"
      },
      "execution_count": null,
      "outputs": []
    },
    {
      "cell_type": "markdown",
      "source": [
        "###Datatype Strings\n",
        "Even though a basic data type, may be considered like a **list** of characters"
      ],
      "metadata": {
        "id": "A_r7ALohW7VH"
      }
    },
    {
      "cell_type": "code",
      "source": [
        "words = 'Hello Chemistry'"
      ],
      "metadata": {
        "id": "ekEC4xoqgqFH"
      },
      "execution_count": null,
      "outputs": []
    },
    {
      "cell_type": "markdown",
      "source": [
        "Similar slicing like lists"
      ],
      "metadata": {
        "id": "-1nPT1aOXOp6"
      }
    },
    {
      "cell_type": "code",
      "source": [
        "words[:5]"
      ],
      "metadata": {
        "id": "r0uy4nYpXNS2"
      },
      "execution_count": null,
      "outputs": []
    },
    {
      "cell_type": "markdown",
      "source": [
        "Some methods which may work on both strings and lists"
      ],
      "metadata": {
        "id": "nxOF7kGyXbLK"
      }
    },
    {
      "cell_type": "code",
      "source": [
        "len(words)"
      ],
      "metadata": {
        "id": "plHFT6SjXRtY"
      },
      "execution_count": null,
      "outputs": []
    },
    {
      "cell_type": "code",
      "source": [
        "words.append(\"Physical\")"
      ],
      "metadata": {
        "id": "lSyevuYOXZlG"
      },
      "execution_count": null,
      "outputs": []
    },
    {
      "cell_type": "markdown",
      "source": [
        "We can also introduce a new line while printing strings"
      ],
      "metadata": {
        "id": "hDx4dSAlwrNh"
      }
    },
    {
      "cell_type": "code",
      "source": [
        "print (\"Line 1\\n\",\"Line 2\")"
      ],
      "metadata": {
        "id": "fhzh38UYww9X"
      },
      "execution_count": null,
      "outputs": []
    },
    {
      "cell_type": "markdown",
      "source": [
        "But some features might be unique for strings"
      ],
      "metadata": {
        "id": "dfjvmqreYQwY"
      }
    },
    {
      "cell_type": "code",
      "source": [
        "# Splitting a string\n",
        "\n",
        "words_list=words.split()\n",
        "print(words_list)"
      ],
      "metadata": {
        "id": "OZK54mr6XmO9"
      },
      "execution_count": null,
      "outputs": []
    },
    {
      "cell_type": "markdown",
      "source": [
        "## Rigid to change: Immutable objects"
      ],
      "metadata": {
        "id": "ALgbuTkvZQFZ"
      }
    },
    {
      "cell_type": "code",
      "source": [
        "values=[\"d\",\"e\",\"f\"]\n",
        "print(values)"
      ],
      "metadata": {
        "id": "qqSJ7-Q-Yqcr"
      },
      "execution_count": null,
      "outputs": []
    },
    {
      "cell_type": "code",
      "source": [
        "values[1]=\"g\"\n",
        "print (values)"
      ],
      "metadata": {
        "id": "Jrv2PPYJZdRc"
      },
      "execution_count": null,
      "outputs": []
    },
    {
      "cell_type": "markdown",
      "source": [
        "Here we could make changes to the list \"values\". So lists are mutable."
      ],
      "metadata": {
        "id": "zxZN8KC4ZyDO"
      }
    },
    {
      "cell_type": "markdown",
      "source": [
        "**Exercise 3** Time Again: How you do you think this code works?"
      ],
      "metadata": {
        "id": "ZT3oP8PkaE93"
      }
    },
    {
      "cell_type": "code",
      "source": [
        "values2 = values\n",
        "values2.append(\"x\")\n",
        "print(values == values2)"
      ],
      "metadata": {
        "id": "0M4xZMV3ZvQK"
      },
      "execution_count": null,
      "outputs": []
    },
    {
      "cell_type": "markdown",
      "source": [
        "Strings are on the other hand `immutable`\n",
        "\n"
      ],
      "metadata": {
        "id": "-UlWPyCvaxde"
      }
    },
    {
      "cell_type": "code",
      "source": [
        "sentence = \"The beautiful game\"\n",
        "sentence[5]= \"x\""
      ],
      "metadata": {
        "id": "HyRz0pYkaTF6"
      },
      "execution_count": null,
      "outputs": []
    },
    {
      "cell_type": "markdown",
      "source": [
        "Concatenating the strings (words)"
      ],
      "metadata": {
        "id": "w9QZPF4LuDaf"
      }
    },
    {
      "cell_type": "code",
      "source": [
        "words = \"Hello\"\n",
        "words += \" World!\"\n",
        "print(words)"
      ],
      "metadata": {
        "id": "KrAomT1abtyC"
      },
      "execution_count": null,
      "outputs": []
    },
    {
      "cell_type": "markdown",
      "source": [
        "But then, String is supposed to be immutable !!!"
      ],
      "metadata": {
        "id": "ouEPiN74vQxv"
      }
    },
    {
      "cell_type": "markdown",
      "source": [
        "Lets use the `id()` function to really see what is happening!\n",
        "\n",
        "\n",
        "\n"
      ],
      "metadata": {
        "id": "IrS9N0eqvX9z"
      }
    },
    {
      "cell_type": "code",
      "source": [
        "words = \"Hello\"\n",
        "print(id(words))\n",
        "words += \" World!\"\n",
        "print(id(words))"
      ],
      "metadata": {
        "id": "BkSibQB9uBkK"
      },
      "execution_count": null,
      "outputs": []
    },
    {
      "cell_type": "markdown",
      "source": [
        "The id's are changing (according to the memory address) which means the text is modified"
      ],
      "metadata": {
        "id": "DliifmVWv3k2"
      }
    },
    {
      "cell_type": "code",
      "source": [
        "values = [\"a\", \"b\", \"c\"]\n",
        "print(id(values))\n",
        "values[1] = \"x\"\n",
        "print(id(values))"
      ],
      "metadata": {
        "id": "2vhIQE7Dvmji"
      },
      "execution_count": null,
      "outputs": []
    },
    {
      "cell_type": "markdown",
      "source": [
        "On the contrary, for a list the id's are remaining the same"
      ],
      "metadata": {
        "id": "4F2WH5VBwR-G"
      }
    },
    {
      "cell_type": "markdown",
      "source": [
        "## The next datatype: Dictionary"
      ],
      "metadata": {
        "id": "7WPfj-5exm-j"
      }
    },
    {
      "cell_type": "markdown",
      "source": [
        "A dictionary is like a list, but more general. In a list, the indices have to be integers; in a dictionary they can be (almost) any type. For example, suppose we make a list of number words, like this."
      ],
      "metadata": {
        "id": "c_onQtP1xr5U"
      }
    },
    {
      "cell_type": "code",
      "source": [
        "lst = ['zero', 'one', 'two']  # a list (already seen)"
      ],
      "metadata": {
        "id": "QCmmio6AwQf2"
      },
      "execution_count": null,
      "outputs": []
    },
    {
      "cell_type": "code",
      "source": [
        "# and access a word\n",
        "lst[1]"
      ],
      "metadata": {
        "id": "5e4uuKhPxzQR"
      },
      "execution_count": null,
      "outputs": []
    },
    {
      "cell_type": "markdown",
      "source": [
        "Define a dictionary"
      ],
      "metadata": {
        "id": "r7PHdUd2x95i"
      }
    },
    {
      "cell_type": "code",
      "source": [
        "numbers = {}\n",
        "numbers"
      ],
      "metadata": {
        "id": "mtPC_-owx2o1"
      },
      "execution_count": null,
      "outputs": []
    },
    {
      "cell_type": "code",
      "source": [
        "# assign data into a dictionary\n",
        "numbers['zero'] = 0"
      ],
      "metadata": {
        "id": "S1zwr_5KyA4s"
      },
      "execution_count": null,
      "outputs": []
    },
    {
      "cell_type": "markdown",
      "source": [
        "Adding some more"
      ],
      "metadata": {
        "id": "gs_e3qvHyLpa"
      }
    },
    {
      "cell_type": "code",
      "source": [
        "numbers['one'] = 1\n",
        "numbers['two'] = 2\n",
        "numbers"
      ],
      "metadata": {
        "id": "AS10bAVhyKBj"
      },
      "execution_count": null,
      "outputs": []
    },
    {
      "cell_type": "markdown",
      "source": [
        "General form of a dictionary\n",
        "name_of_dictionary['key']"
      ],
      "metadata": {
        "id": "bu_Mn_J8yQE1"
      }
    },
    {
      "cell_type": "code",
      "source": [
        "# accessing an element using a key\n",
        "\n",
        "numbers['two']"
      ],
      "metadata": {
        "id": "auWBtdkryM-C"
      },
      "execution_count": null,
      "outputs": []
    },
    {
      "cell_type": "markdown",
      "source": [
        "What if the key doesnt exist?"
      ],
      "metadata": {
        "id": "J48jBURByipN"
      }
    },
    {
      "cell_type": "code",
      "source": [
        "numbers['three']\n"
      ],
      "metadata": {
        "id": "sdzjDSNhydNb"
      },
      "execution_count": null,
      "outputs": []
    },
    {
      "cell_type": "markdown",
      "source": [
        "Error!!!!!!!!"
      ],
      "metadata": {
        "id": "qWh3YHMcyocM"
      }
    },
    {
      "cell_type": "code",
      "source": [
        "len(numbers) # length of a dictionary"
      ],
      "metadata": {
        "id": "ODUvYNWFym0D"
      },
      "execution_count": null,
      "outputs": []
    },
    {
      "cell_type": "markdown",
      "source": [
        "How to find whether a key is present in a dictionary?\n",
        "We use the `in` keyword"
      ],
      "metadata": {
        "id": "Tat2Xlrd0Q_n"
      }
    },
    {
      "cell_type": "code",
      "source": [
        "'one' in numbers"
      ],
      "metadata": {
        "id": "VY_FYpOMzQXi"
      },
      "execution_count": null,
      "outputs": []
    },
    {
      "cell_type": "code",
      "source": [
        "1 in numbers"
      ],
      "metadata": {
        "id": "HlHMhOBi0YmE"
      },
      "execution_count": null,
      "outputs": []
    },
    {
      "cell_type": "markdown",
      "source": [
        "This will be false as it does not recognize values"
      ],
      "metadata": {
        "id": "MAtX5-m30kka"
      }
    },
    {
      "cell_type": "code",
      "source": [
        "1 in numbers.values()"
      ],
      "metadata": {
        "id": "GHAT7s400jcV"
      },
      "execution_count": null,
      "outputs": []
    },
    {
      "cell_type": "markdown",
      "source": [
        "This might be better to match by values"
      ],
      "metadata": {
        "id": "6qqO6pHW0wA5"
      }
    },
    {
      "cell_type": "markdown",
      "source": [
        "## Lists vs Dictionaries\n",
        "\n",
        "\n",
        "\n",
        "1.   Both collect data\n",
        "2.   List is ordered, indexed by integers\n",
        "3.   Dictionary is unordered, more of a key-value pairs.\n",
        "\n"
      ],
      "metadata": {
        "id": "TXoKmobS1IVG"
      }
    },
    {
      "cell_type": "markdown",
      "source": [
        "Combining each other"
      ],
      "metadata": {
        "id": "VUDkTJrz2_eH"
      }
    },
    {
      "cell_type": "markdown",
      "source": [
        "1. Dictionary having a list"
      ],
      "metadata": {
        "id": "yrI1MQB-3vfS"
      }
    },
    {
      "cell_type": "code",
      "source": [
        "student = {\n",
        "    \"name\": \"Alice\",\n",
        "    \"grades\": [90, 85, 92]\n",
        "}"
      ],
      "metadata": {
        "id": "T57nQyOK0u52"
      },
      "execution_count": null,
      "outputs": []
    },
    {
      "cell_type": "code",
      "source": [
        "print(student[\"name\"])"
      ],
      "metadata": {
        "id": "FZLd6XbV3YQR"
      },
      "execution_count": null,
      "outputs": []
    },
    {
      "cell_type": "markdown",
      "source": [
        "2. List of dictionaries"
      ],
      "metadata": {
        "id": "GevxmixB32b0"
      }
    },
    {
      "cell_type": "code",
      "source": [
        "students = [\n",
        "    {\"name\": \"Alice\", \"age\": 20},\n",
        "    {\"name\": \"Bob\", \"age\": 21}\n",
        "]"
      ],
      "metadata": {
        "id": "WjQUBdta3nH4"
      },
      "execution_count": null,
      "outputs": []
    },
    {
      "cell_type": "markdown",
      "source": [
        "There are other container datatypes `tuples` and `sets` which we do not include for simplicity."
      ],
      "metadata": {
        "id": "Kih9MhII4AdV"
      }
    },
    {
      "cell_type": "markdown",
      "source": [
        "## Control Flow"
      ],
      "metadata": {
        "id": "WmWZpTCRx8tD"
      }
    },
    {
      "cell_type": "markdown",
      "source": [
        "## Loops\n",
        "\n",
        "There are several loops available in Python, among which the `for` loop is used to repeat a peice of code a set number of times\n",
        "\n",
        "The definition:\n",
        "\n",
        "\n",
        "\n",
        "``` python\n",
        "for variable in iterable:\n",
        "    do things using variable\n",
        "\n",
        "```\n",
        "\n"
      ],
      "metadata": {
        "id": "E0NGSWpI0shi"
      }
    },
    {
      "cell_type": "code",
      "source": [
        "# Level 1: Easy loop\n",
        "\n",
        "for i in range(10):\n",
        "  print(i)"
      ],
      "metadata": {
        "id": "IHn1Qhdxzn3r"
      },
      "execution_count": null,
      "outputs": []
    },
    {
      "cell_type": "markdown",
      "source": [
        "The `range` keyword here is a function to generate integers bounded by two values: `range(start,end,step)`"
      ],
      "metadata": {
        "id": "IOgE77EN2IUn"
      }
    },
    {
      "cell_type": "code",
      "source": [
        "n = 5\n",
        "for i in range(0, n, 2):\n",
        "    print(i)"
      ],
      "metadata": {
        "id": "Dc9VUUsd7KkV"
      },
      "execution_count": null,
      "outputs": []
    },
    {
      "cell_type": "markdown",
      "source": [
        "Lets calculate using the loop than just print"
      ],
      "metadata": {
        "id": "pY9Va8Hk2iCm"
      }
    },
    {
      "cell_type": "code",
      "source": [
        "# Sum of natural numbers\n",
        "\n",
        "sum=0\n",
        "for i in range(10):\n",
        "  sum+=i\n",
        "print(sum)"
      ],
      "metadata": {
        "id": "0AUeRcSE2oPf"
      },
      "execution_count": null,
      "outputs": []
    },
    {
      "cell_type": "code",
      "source": [
        "# Working on a list\n",
        "\n",
        "nums=[3,4,5,6,7] # defining a list\n",
        "\n",
        "squared_vals=[]\n",
        "\n",
        "for num in nums:\n",
        "  squared_vals.append(num**2) # making another list\n",
        "\n",
        "print(nums)\n",
        "print(squared_vals)"
      ],
      "metadata": {
        "id": "T-PZKzq73-Py"
      },
      "execution_count": null,
      "outputs": []
    },
    {
      "cell_type": "markdown",
      "source": [
        "Also we might loop on the list using the indices (i.e. running a loop through the length)"
      ],
      "metadata": {
        "id": "HXy6zPJPG-WG"
      }
    },
    {
      "cell_type": "code",
      "source": [
        "nums=[3,4,5,6,7] # defining a list\n",
        "\n",
        "squared_vals=[]\n",
        "\n",
        "for i in range(0,len(nums)):\n",
        "  squared_vals.append((nums[i])**2) # instead here we deal with the index per element as per the loop\n",
        "\n",
        "print(nums)\n",
        "print(squared_vals)"
      ],
      "metadata": {
        "id": "2tu95beSG9Rm"
      },
      "execution_count": null,
      "outputs": []
    },
    {
      "cell_type": "markdown",
      "source": [
        "We can use both the methodologies for indexing a list inside a loop using the `enumerate` function."
      ],
      "metadata": {
        "id": "a6Kdc2Kltrjd"
      }
    },
    {
      "cell_type": "code",
      "source": [
        "nums=[3,4,5,6,7] # defining a list\n",
        "\n",
        "squared_vals=[]\n",
        "cubed_vals=[]\n",
        "for index,element in enumerate(nums):\n",
        "  squared_vals.append((nums[index])**2) # instead here we deal with the index per element as per the loop\n",
        "  cubed_vals.append((element)**3) # here we index the element directly\n",
        "\n",
        "print(nums)\n",
        "print(squared_vals)\n",
        "print(cubed_vals)"
      ],
      "metadata": {
        "id": "tt8Zox0VuAbZ"
      },
      "execution_count": null,
      "outputs": []
    },
    {
      "cell_type": "markdown",
      "source": [
        "The `enumerate` function will return the element and the index simultaneously from the list in order (index,element)."
      ],
      "metadata": {
        "id": "haoukzf5uudX"
      }
    },
    {
      "cell_type": "markdown",
      "source": [
        "The `zip` function is another interesting function to use two or more variables simultaneously while looping."
      ],
      "metadata": {
        "id": "ZHajkCjlvKJC"
      }
    },
    {
      "cell_type": "code",
      "source": [
        "#example for zip in for loop for 2 variables\n",
        "\n",
        "x_values = [1, 2, 3]\n",
        "y_values = ['a', 'b', 'c']\n",
        "\n",
        "for x, y in zip(x_values, y_values):\n",
        "  print(f\"x is {x} and y is {y}\")"
      ],
      "metadata": {
        "id": "w76lmgGGutOj"
      },
      "execution_count": null,
      "outputs": []
    },
    {
      "cell_type": "markdown",
      "source": [
        "**Exercise** Lets write a loop to create a list of random numbers\n",
        "\n",
        "**Hint** use the `random` module"
      ],
      "metadata": {
        "id": "Nxpx_TRl8k-N"
      }
    },
    {
      "cell_type": "code",
      "source": [
        "import ....\n",
        "\n",
        "random_list=[]\n",
        "\n",
        "\n",
        "for ....... :\n",
        "  random_list.append(....)\n",
        "\n",
        "print(random_list)"
      ],
      "metadata": {
        "id": "cC4hySG2zjnt"
      },
      "execution_count": null,
      "outputs": []
    },
    {
      "cell_type": "markdown",
      "source": [
        "### Conditional Statements"
      ],
      "metadata": {
        "id": "8rxo8RFTOJto"
      }
    },
    {
      "cell_type": "markdown",
      "source": [
        "The flow of statements will be based on boolean values (i.e. `True` or `False`)"
      ],
      "metadata": {
        "id": "qg0zxKm6OQKh"
      }
    },
    {
      "cell_type": "markdown",
      "source": [
        "Basic structure of an `if`statement\n",
        "\n",
        "```python\n",
        "if logical expression:\n",
        "    code block\n",
        "```"
      ],
      "metadata": {
        "id": "EpAGJHrzOgq7"
      }
    },
    {
      "cell_type": "code",
      "source": [
        "# Simple if loop\n",
        "\n",
        "n = 2\n",
        "if n > 1:\n",
        "  print(\"n is larger than 1\")"
      ],
      "metadata": {
        "id": "LBpIkp_LM4Qn"
      },
      "execution_count": null,
      "outputs": []
    },
    {
      "cell_type": "code",
      "source": [
        "values = list(range(10))\n",
        "for i in values:\n",
        "    if i % 2:\n",
        "        print(f\"{i} is odd\")"
      ],
      "metadata": {
        "id": "LJ0_J-AoO5w2"
      },
      "execution_count": null,
      "outputs": []
    },
    {
      "cell_type": "markdown",
      "source": [
        "Using another keyword `else`: the `if-else` statement\n",
        "\n",
        "Basic structure\n",
        "\n",
        "```python\n",
        "if logical_expression\n",
        "    code block run if true\n",
        "    elif condition:\n",
        "    code block # to run for the next condition\n",
        "else\n",
        "    code block run if false\n",
        "```"
      ],
      "metadata": {
        "id": "R8_Lf4obP60I"
      }
    },
    {
      "cell_type": "markdown",
      "source": [
        "The `elif` condition block is to add more additional conditions while writing if-else blocks"
      ],
      "metadata": {
        "id": "swkbei7nqJwA"
      }
    },
    {
      "cell_type": "code",
      "source": [
        "# Example of using if-else\n",
        "# Testing\n",
        "values = list(range(10))\n",
        "\n",
        "for i in values:\n",
        "    if i % 2:\n",
        "        print(f\"{i} is odd\")\n",
        "    else:\n",
        "        print(f\"{i} is even\")"
      ],
      "metadata": {
        "id": "L1GwBCwtPqQD"
      },
      "execution_count": null,
      "outputs": []
    },
    {
      "cell_type": "code",
      "source": [
        "# Using elif along with if-else\n",
        "\n",
        "num = -7\n",
        "\n",
        "if num > 0:\n",
        "    print(\"The number is positive.\")\n",
        "elif num < 0:\n",
        "    print(\"The number is negative.\")\n",
        "else:\n",
        "    print(\"The number is zero.\")"
      ],
      "metadata": {
        "id": "PiIQocGYrB03"
      },
      "execution_count": null,
      "outputs": []
    },
    {
      "cell_type": "markdown",
      "source": [
        "**Exercise** Write a small piece of code that draws 10 random numbers and adds to a list only those larger than 1.0."
      ],
      "metadata": {
        "id": "4bF78ekkRbtS"
      }
    },
    {
      "cell_type": "code",
      "source": [
        "import .....\n",
        "\n",
        "values = []\n",
        "for _ in range(10):\n",
        "    num = .....\n",
        "    if num > 1.0:\n",
        "      ........\n",
        "print(values)"
      ],
      "metadata": {
        "id": "KXwKd_8IQN4I"
      },
      "execution_count": null,
      "outputs": []
    },
    {
      "cell_type": "markdown",
      "source": [
        "# Function\n",
        "1. Functions allow us to break down complex problems into smaller.\n",
        "2. Instead of repeating the same code, we can write it once as a function and reuse it whenever needed."
      ],
      "metadata": {
        "id": "0C7VMvD2o2My"
      }
    },
    {
      "cell_type": "markdown",
      "source": [
        "**Exercise 1** Complete the following piece of code to calculate the volume of a cylinder given its radius and height , following the formula: $volume = {pi} * {r}^{2}* {h} $.\n",
        "\n",
        "Use the value of `pi` stored in the `math` module as `math.pi`."
      ],
      "metadata": {
        "id": "t5U4v5T3pNuY"
      }
    },
    {
      "cell_type": "code",
      "source": [
        "def func_name(arguments):\n",
        "  oparations\n",
        "  return values"
      ],
      "metadata": {
        "id": "xChauX0Cj3ab"
      },
      "execution_count": null,
      "outputs": []
    },
    {
      "cell_type": "code",
      "source": [
        "def cylinder_volume(radius, height):\n",
        "    import math\n",
        "    volume = math.pi * radius ** 2 * height\n",
        "    return volume"
      ],
      "metadata": {
        "id": "hJjSW81dpDzX"
      },
      "execution_count": null,
      "outputs": []
    },
    {
      "cell_type": "code",
      "source": [
        "cylinder_volume(4,5)"
      ],
      "metadata": {
        "id": "2zOb9uUzpMty"
      },
      "execution_count": null,
      "outputs": []
    },
    {
      "cell_type": "markdown",
      "source": [
        "Lets calculate surface area also and return both volume and surface area.\n",
        "Calculate surface area with the following the formula: $surface area = 2 *{pi} * {r}* {h} + 2 *{pi} * {r}^{2}$."
      ],
      "metadata": {
        "id": "unERg4japZBW"
      }
    },
    {
      "cell_type": "code",
      "source": [
        "def cylinder_volume_surface(radius, height):\n",
        "    import math\n",
        "    volume = math.pi * radius ** 2 * height\n",
        "    surface_area = 2 * math.pi * radius * height + 2 * math.pi * radius ** 2\n",
        "    return volume, surface_area"
      ],
      "metadata": {
        "id": "tYTZX3JlpULf"
      },
      "execution_count": null,
      "outputs": []
    },
    {
      "cell_type": "code",
      "source": [
        "cylinder_volume()"
      ],
      "metadata": {
        "id": "cRgtmHhdpiGl"
      },
      "execution_count": null,
      "outputs": []
    },
    {
      "cell_type": "code",
      "source": [
        "a , b  = cylinder_volume(4 ,5)"
      ],
      "metadata": {
        "id": "Zn_DuooUpnLM"
      },
      "execution_count": null,
      "outputs": []
    },
    {
      "cell_type": "code",
      "source": [
        "a"
      ],
      "metadata": {
        "id": "D3c1t0Gjpvrf"
      },
      "execution_count": null,
      "outputs": []
    },
    {
      "cell_type": "markdown",
      "source": [
        "## Calculate interest"
      ],
      "metadata": {
        "id": "KYKjgBHjmKTS"
      }
    },
    {
      "cell_type": "code",
      "source": [
        "def calculate_final_amount(initial, years, rate=0.05):\n",
        "\n",
        "    interest = (initial * rate * years)\n",
        "    final_amount = initial + interest\n",
        "    return final_amount"
      ],
      "metadata": {
        "id": "MIJXlcDplizI"
      },
      "execution_count": null,
      "outputs": []
    },
    {
      "cell_type": "code",
      "source": [
        "calculate_final_amount(1000, 2)"
      ],
      "metadata": {
        "id": "ks2IMRMfnIKN"
      },
      "execution_count": null,
      "outputs": []
    },
    {
      "cell_type": "code",
      "source": [
        "def add(a, b, verbose=False):\n",
        "    result = a + b\n",
        "    if verbose:\n",
        "        print(f\"Adding {a} and {b} gives {result}\")\n",
        "    return result"
      ],
      "metadata": {
        "id": "RaLdhgLokjXN"
      },
      "execution_count": null,
      "outputs": []
    },
    {
      "cell_type": "code",
      "source": [
        "add(3, 5, verbose=True)"
      ],
      "metadata": {
        "id": "yi2XcppunHcQ"
      },
      "execution_count": null,
      "outputs": []
    },
    {
      "cell_type": "markdown",
      "source": [
        "Lets write a function to check if a number is divisible by 3.\n",
        "- The rule is: A number is divisible by 3 if the sum of its digits is divisible by 3.\n",
        "\n",
        "Then use a loop to print the numbers divisible by 3 between 100 and 150   "
      ],
      "metadata": {
        "id": "Rj31k7sl546u"
      }
    },
    {
      "cell_type": "code",
      "source": [
        "def divisible_by_3(...):\n",
        "    digit_sum = 0\n",
        "    for digit in str(...):\n",
        "        digit_sum += ...\n",
        "    if digit_sum ... :\n",
        "        print(f\"{...} is divisible by 3\")"
      ],
      "metadata": {
        "id": "vIZUAz8Tywyk"
      },
      "execution_count": null,
      "outputs": []
    },
    {
      "cell_type": "code",
      "source": [
        "for i in range(....):\n",
        "    divisible_by_3(...)"
      ],
      "metadata": {
        "id": "_q4H5THM6U2D"
      },
      "execution_count": null,
      "outputs": []
    },
    {
      "cell_type": "markdown",
      "source": [
        "Let's calculate average and standard deviation from a list of numbers.  \n",
        "Use the following formulas:\n",
        "\n",
        "- Average: $\\bar{x} = \\frac{1}{n} \\sum_{i=1}^{n} x_i$  \n",
        "- Varience: $\\sigma^{2}= \\frac{1}{n - 1} \\sum_{i=1}^{n} (x_i - \\bar{x})^2 $\n",
        "- Standard Deviation: $\\sigma = \\sqrt{ variance }$"
      ],
      "metadata": {
        "id": "vAxPu9z6pzBF"
      }
    },
    {
      "cell_type": "markdown",
      "source": [
        "# Lets write a fucntion to calculate mean and standard deviation using the given template"
      ],
      "metadata": {
        "id": "25Qm5nLEp3_k"
      }
    },
    {
      "cell_type": "code",
      "source": [
        "import math\n",
        "\n",
        "def compute_avg_std(...):\n",
        "    # length of the list\n",
        "    n= len(...)\n",
        "    # calculate mean\n",
        "    mean = sum(...) / ....\n",
        "\n",
        "    # calculate variance using a loop\n",
        "    squared_diff_sum = 0\n",
        "    for num in ...:\n",
        "        squared_diff_sum += (...) ** 2\n",
        "    variance = (...)\n",
        "\n",
        "    stddev = math.sqrt(...)\n",
        "\n",
        "    return mean, stddev"
      ],
      "metadata": {
        "id": "UARcFkKIpwgA"
      },
      "execution_count": null,
      "outputs": []
    },
    {
      "cell_type": "code",
      "source": [
        "data = [10, 20, 30, 40, 50]\n",
        "# write your own list\n",
        "avg, std = compute_avg_std(data)"
      ],
      "metadata": {
        "id": "zeFyTx6spyJr"
      },
      "execution_count": null,
      "outputs": []
    },
    {
      "cell_type": "markdown",
      "source": [
        "# Input and Output\n",
        "input() function is used to take user input. By default, it returns the user input in form of a string."
      ],
      "metadata": {
        "id": "-kGR89MHy8IL"
      }
    },
    {
      "cell_type": "code",
      "source": [
        "name = input(\"Enter your name: \")\n",
        "print(\"Hello,\", name, \"! Welcome!\")"
      ],
      "metadata": {
        "id": "3BU7RZOxyxfP"
      },
      "execution_count": null,
      "outputs": []
    },
    {
      "cell_type": "markdown",
      "source": [
        "## Take Multiple Input in Python\n",
        "We are taking multiple input from the user in a single line, splitting the values entered by the user into separate variables for each value using the split() method. Then, it prints the values with corresponding labels, either two or three, based on the number of inputs provided by the user."
      ],
      "metadata": {
        "id": "Q9QIlZdwzEka"
      }
    },
    {
      "cell_type": "code",
      "source": [
        "# taking two inputs at a time\n",
        "x, y = input(\"Enter two values: \").split()\n",
        "print(\"Number of boys: \", x)\n",
        "print(\"Number of girls: \", y)"
      ],
      "metadata": {
        "id": "giQ0g4oOyx-j"
      },
      "execution_count": null,
      "outputs": []
    },
    {
      "cell_type": "code",
      "source": [
        "# taking three inputs at a time\n",
        "x, y, z = input(\"Enter three values: \").split()\n",
        "print(\"Total number of students: \", x)\n",
        "print(\"Number of boys is : \", y)\n",
        "print(\"Number of girls is : \", z)"
      ],
      "metadata": {
        "id": "Qp7azOBSzIBr"
      },
      "execution_count": null,
      "outputs": []
    },
    {
      "cell_type": "markdown",
      "source": [
        "###Type Casting (Convert Input to Numbers)\n",
        "By default, all inputs are strings. Use int() or float() to convert them."
      ],
      "metadata": {
        "id": "tlEOjc7MzPlT"
      }
    },
    {
      "cell_type": "code",
      "source": [
        "a, b = input(\"Enter two numbers: \").split()\n",
        "a = int(a)\n",
        "b = int(b)\n",
        "print(\"Sum:\", a + b)"
      ],
      "metadata": {
        "id": "ZuaFkOOxzKrS"
      },
      "execution_count": null,
      "outputs": []
    },
    {
      "cell_type": "markdown",
      "source": [
        "##Output in Python\n",
        "####Basic Output"
      ],
      "metadata": {
        "id": "IqhP35JJzVXJ"
      }
    },
    {
      "cell_type": "code",
      "source": [
        "print(\"Hello, world!\")"
      ],
      "metadata": {
        "id": "p3qn_0pizK2Q"
      },
      "execution_count": null,
      "outputs": []
    },
    {
      "cell_type": "markdown",
      "source": [
        "###Using print() with multiple values"
      ],
      "metadata": {
        "id": "5dTjrInyzbRV"
      }
    },
    {
      "cell_type": "code",
      "source": [
        "name = \"Alice\"\n",
        "age = 25\n",
        "print(\"Name:\", name, \"Age:\", age)"
      ],
      "metadata": {
        "id": "4hILygmizYpV"
      },
      "execution_count": null,
      "outputs": []
    },
    {
      "cell_type": "markdown",
      "source": [
        "###Using f-strings"
      ],
      "metadata": {
        "id": "gdlPx4p5zgun"
      }
    },
    {
      "cell_type": "code",
      "source": [
        "name = \"Bob\"\n",
        "score = 95\n",
        "print(f\"Student {name} scored {score}% on the test.\")"
      ],
      "metadata": {
        "id": "jGl7vEnpzYsT"
      },
      "execution_count": null,
      "outputs": []
    },
    {
      "cell_type": "markdown",
      "source": [
        "###Using .format()"
      ],
      "metadata": {
        "id": "5HGgZ-0izmqh"
      }
    },
    {
      "cell_type": "code",
      "source": [
        "print(\"Student {} scored {}% on the test.\".format(name, score))"
      ],
      "metadata": {
        "id": "3sMsd2UpzYvk"
      },
      "execution_count": null,
      "outputs": []
    },
    {
      "cell_type": "code",
      "source": [
        "print(f\"The value of pi is {pi}\")\n",
        "print(\"The value of pi is {0}\".format(pi))\n",
        "print(\"The value of pi is \" + str(pi))\n",
        "print(f\"The value of pi is {pi:.2f}\")\n",
        "print(\"The value of pi is {0:.2f}\".format(pi))"
      ],
      "metadata": {
        "id": "xnrafri3wb9B"
      },
      "execution_count": null,
      "outputs": []
    },
    {
      "cell_type": "code",
      "source": [
        "i=414\n",
        "print(f\"The value of i is {i}\")\n",
        "print(f\"The value of i is {i:5d}\")\n",
        "print(f\"The value of i is {i:05d}\")"
      ],
      "metadata": {
        "id": "_SWtG9DMHZmt"
      },
      "execution_count": null,
      "outputs": []
    },
    {
      "cell_type": "markdown",
      "source": [
        "###Special Print Parameters\n",
        "####sep – custom separator between printed values\n",
        "####end – custom ending instead of newline"
      ],
      "metadata": {
        "id": "5-4SKgg8zs9y"
      }
    },
    {
      "cell_type": "code",
      "source": [
        "print(\"Python\", \"is\", \"fun\", sep=\" , \")"
      ],
      "metadata": {
        "id": "wXd240KszYz0"
      },
      "execution_count": null,
      "outputs": []
    },
    {
      "cell_type": "code",
      "source": [
        "print(\"Loading\", end=\"...\")\n",
        "print(\"Done!\")"
      ],
      "metadata": {
        "id": "yaQlXTr4zwT2"
      },
      "execution_count": null,
      "outputs": []
    },
    {
      "cell_type": "markdown",
      "source": [
        "####Exercise: Build a script that gives you this output:\n",
        "Enter your full name: Sarah Johnson\n",
        "\n",
        "Enter your age: 16\n",
        "\n",
        "Enter your marks in Math, Science, and English: 85 90 78\n",
        "\n",
        "\n",
        "--- Student Summary ---\n",
        "\n",
        "Name      : Sarah Johnson\n",
        "\n",
        "Age       : 16\n",
        "\n",
        "Math      : 85\n",
        "\n",
        "Science   : 90\n",
        "\n",
        "English   : 78\n",
        "\n",
        "Total     : 253\n",
        "\n",
        "Average   : 84.33\n",
        "\n",
        "####Instructions:\n",
        "Use input() to collect the student's name, age, and marks.\n",
        "\n",
        "Convert the marks to integers.\n",
        "\n",
        "Calculate the total and average (rounded to 2 decimal places).\n",
        "\n",
        "Print the summary using f-strings for formatting."
      ],
      "metadata": {
        "id": "sPQ_nNDJz1Kp"
      }
    },
    {
      "cell_type": "markdown",
      "source": [
        "# File Handling\n",
        "\n",
        "How to create, open/close, and read/write to files in Python.\n",
        "\n",
        "Basic file handling can be accomplished using the native `open()` function. E.g., `open('name_of_file', 'mode')`. The `'mode'` parameter determines if you will be reading, writing, etc to the file. Here are a few common modes:\n",
        "- r = read\n",
        "- w = write\n",
        "- a = append"
      ],
      "metadata": {
        "id": "6stoPxdxcBuh"
      }
    },
    {
      "cell_type": "markdown",
      "source": [
        "## Example 1: Reading a file\n",
        "\n",
        "Say you want to read the content of the file `Shakespeare.txt` which contains the following text:\n",
        "\n",
        "`To be or not to be, that is the question?`\n",
        "\n",
        "First, let's open the file in read mode, like so:\n",
        "\n",
        "`file = open('Shakespeare.txt', 'r')`\n",
        "\n",
        "Next, we output the content of the file using the read function:\n",
        "\n",
        "`content = file.read()`\n",
        "\n",
        "Notice we reference the variable name `file` when using the read function. We could have just as easily defined this variable differently in the above command, e.g.\n",
        "\n",
        "```\n",
        "Hamlet = open('Shakespeare.txt', 'r')\n",
        "content = Hamlet.read()\n",
        "```\n",
        "\n",
        "So be aware of this when handling multiple files simultaneously.\n",
        "\n",
        "Next, we need to print the `content` to the screen, and close the file. Putting it all together:"
      ],
      "metadata": {
        "id": "tHZk0UtaeFHn"
      }
    },
    {
      "cell_type": "code",
      "source": [
        "file = open('Shakespeare.txt', 'r')\n",
        "content = file.read()\n",
        "print(content)\n",
        "file.close()"
      ],
      "metadata": {
        "id": "y_azBcZWg5hL"
      },
      "execution_count": null,
      "outputs": []
    },
    {
      "cell_type": "markdown",
      "source": [
        "## Example 2: Writing to a file\n",
        "\n",
        "Writing to a file is accomplished with `file.write()`. However, if the file was opened in write mode (`\"w\"`) this command will erase and overwrite any content of the file if it already exists. If the file does not exist, it will create the file and write the content. E.g.\n",
        "\n",
        "\n"
      ],
      "metadata": {
        "id": "CQeoJgqzhVWA"
      }
    },
    {
      "cell_type": "code",
      "source": [
        "file = open('Shakespeare.txt', 'w')\n",
        "file.write('Brevity is the soul of wit.')\n",
        "file.close()"
      ],
      "metadata": {
        "id": "zcphH-1jjOLX"
      },
      "execution_count": null,
      "outputs": []
    },
    {
      "cell_type": "markdown",
      "source": [
        "And the content of `Shakespeare.txt` now reads only:\n",
        "\n",
        "`Brevity is the soul of wit.`"
      ],
      "metadata": {
        "id": "MVkoFhMejYJ0"
      }
    },
    {
      "cell_type": "markdown",
      "source": [
        "To keep the content of the original file, and only add new lines to the file, the file can be opened in the append mode (`\"a\"`)."
      ],
      "metadata": {
        "id": "saRsR-QvjmQL"
      }
    },
    {
      "cell_type": "markdown",
      "source": [
        "### Exercise 1\n",
        "\n",
        "Write the code to append a line with your favorite Shakespeare quote to the file `Shakespeare.txt`."
      ],
      "metadata": {
        "id": "Il7FhHMFj9j5"
      }
    },
    {
      "cell_type": "markdown",
      "source": [
        "## Using the `with` Statement for Opening Files\n",
        "\n",
        "Opening a file using a `with` statement will automatically close the file after the code block, even if an exception is raised. It is typically good practice to open files using a `with` statement like so:\n",
        "\n",
        "```\n",
        "with open(\"Shakespeare.txt\", \"r\") as file:\n",
        "  content = file.read()\n",
        "  print(content)\n",
        "```\n"
      ],
      "metadata": {
        "id": "ItLSZruwkZhT"
      }
    },
    {
      "cell_type": "markdown",
      "source": [
        "### Exercise 2\n",
        "\n",
        "Write the code to create a new file that contains one of your favorite quotes. Also print the contents of this file to the screen."
      ],
      "metadata": {
        "id": "vi1joDGolkD3"
      }
    }
  ]
}