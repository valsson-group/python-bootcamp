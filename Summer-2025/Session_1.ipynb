{
  "nbformat": 4,
  "nbformat_minor": 0,
  "metadata": {
    "colab": {
      "provenance": [],
      "include_colab_link": true
    },
    "kernelspec": {
      "name": "python3",
      "display_name": "Python 3"
    },
    "language_info": {
      "name": "python"
    }
  },
  "cells": [
    {
      "cell_type": "markdown",
      "metadata": {
        "id": "view-in-github",
        "colab_type": "text"
      },
      "source": [
        "<a href=\"https://colab.research.google.com/github/valsson-group/python-bootcamp/blob/main/Summer-2025/Session_1.ipynb\" target=\"_parent\"><img src=\"https://colab.research.google.com/assets/colab-badge.svg\" alt=\"Open In Colab\"/></a>"
      ]
    },
    {
      "cell_type": "markdown",
      "source": [
        "## Materials for learning Python (along with this workshop)\n",
        "\n",
        "\n",
        "\n",
        "1.   MolSSI Python Resources for Scientific Python Computing\n",
        "     (https://education.molssi.org/resources.html#programming)\n",
        "\n",
        "2.   The Python documentation (https://docs.python.org/3/)\n",
        "\n",
        "3.   CodeAcademy (Has good learning interface) : https://www.codecademy.com/learn/learn-python\n",
        "\n",
        "4.  Python for Everybody (https://www.py4e.com/)\n",
        "\n",
        "\n",
        "\n"
      ],
      "metadata": {
        "id": "cokxO4SHPPEx"
      }
    },
    {
      "cell_type": "markdown",
      "source": [
        "## Basic Syntax"
      ],
      "metadata": {
        "id": "NfNLmbrEue3a"
      }
    },
    {
      "cell_type": "code",
      "source": [
        "# Lines starting with a hash/pound sign are comments\n",
        "# meaning that they are not evaluated as code.\n",
        "#\n",
        "# Comments are useful to add short (and not so short)\n",
        "# blurbs of text explaning a particular part of your code"
      ],
      "metadata": {
        "id": "8oT43D5iui2k"
      },
      "execution_count": null,
      "outputs": []
    },
    {
      "cell_type": "markdown",
      "source": [
        "### Variables and Basic Types"
      ],
      "metadata": {
        "id": "yWO9BnjWvwl3"
      }
    },
    {
      "cell_type": "markdown",
      "source": [
        "The assignment operator, denoted by the `=` symbol, assigns values to variables. The line `var_a = 3` takes the known value, 3, and assigns that value to the variable `var_a`.\n",
        "\n",
        "An important aspect of any piece of code is how readable it is for other developers (or future you), so avoid abstract variable names like `a`, `var`, `var1`, `var2`, etc."
      ],
      "metadata": {
        "id": "ZxtLSVa3v3i-"
      }
    },
    {
      "cell_type": "code",
      "source": [
        "pi = 3.1415"
      ],
      "metadata": {
        "id": "p22gtbHbvp5s"
      },
      "execution_count": null,
      "outputs": []
    },
    {
      "cell_type": "code",
      "source": [
        "print(pi)"
      ],
      "metadata": {
        "id": "wr1PQdTxwB8I"
      },
      "execution_count": null,
      "outputs": []
    },
    {
      "cell_type": "code",
      "source": [
        "print(phi)  # you do not define this variable ? What will happen?"
      ],
      "metadata": {
        "id": "dLQloL9vwP9E"
      },
      "execution_count": null,
      "outputs": []
    },
    {
      "cell_type": "markdown",
      "source": [
        "Yes!! We get an error 😀"
      ],
      "metadata": {
        "id": "NfEX42A9wV8N"
      }
    },
    {
      "cell_type": "markdown",
      "source": [
        "We use f-strings for a better formatting in strings"
      ],
      "metadata": {
        "id": "gSzohaCVwgIm"
      }
    },
    {
      "cell_type": "code",
      "source": [
        "print(f\"The value of pi is {pi}\")  # enclose variables in curly brackets\n",
        "print(\"The value of pi is {0}\".format(pi))  # enclose variables in curly brackets\n",
        "print(\"The value of pi is \" + str(pi))  # enclose variables in curly brackets\n",
        "print(f\"The value of pi is {pi:.2f}\")  # enclose variables in curly brackets\n",
        "print(\"The value of pi is {0:.2f}\".format(pi))  # enclose variables in curly brackets"
      ],
      "metadata": {
        "id": "xnrafri3wb9B"
      },
      "execution_count": null,
      "outputs": []
    },
    {
      "cell_type": "code",
      "source": [
        "i=414\n",
        "print(f\"The value of i is {i}\")  # enclose variables in curly brackets\n",
        "print(f\"The value of i is {i:5d}\")  # enclose variables in curly brackets\n",
        "print(f\"The value of i is {i:05d}\")  # enclose variables in curly brackets"
      ],
      "metadata": {
        "id": "_SWtG9DMHZmt"
      },
      "execution_count": null,
      "outputs": []
    },
    {
      "cell_type": "markdown",
      "source": [
        "How do we know what kind is a certain variable? We use the \"type\" keyword"
      ],
      "metadata": {
        "id": "O9wgGeH7yLyL"
      }
    },
    {
      "cell_type": "code",
      "source": [
        "type(pi)"
      ],
      "metadata": {
        "id": "5VBtmV06yJOF"
      },
      "execution_count": null,
      "outputs": []
    },
    {
      "cell_type": "code",
      "execution_count": null,
      "metadata": {
        "id": "r9qbOw79vG44"
      },
      "outputs": [],
      "source": [
        "print(\"Hello World\")"
      ]
    },
    {
      "cell_type": "markdown",
      "source": [
        "The basic data types found in Python"
      ],
      "metadata": {
        "id": "XA7afUHSygqs"
      }
    },
    {
      "cell_type": "code",
      "source": [
        "an_integer = 42 # Just an integer\n",
        "a_float = 0.1 # A non-integer number, up to a fixed precision\n",
        "a_boolean = True # A value that can be True or False\n",
        "a_string = '''just enclose text between two 's, or two \"s, or do what we did for this string''' # Text\n",
        "none_of_the_above = None # The absence of any actual value or variable type"
      ],
      "metadata": {
        "id": "l43HBy5iyjzb"
      },
      "execution_count": null,
      "outputs": []
    },
    {
      "cell_type": "markdown",
      "source": [
        "An interesting thing to note is the declaration of the variable sets the data type (unlikely if you have seen C++ or Java)"
      ],
      "metadata": {
        "id": "WybzRu-6RBai"
      }
    },
    {
      "cell_type": "code",
      "source": [
        "type(an_integer)\n",
        "type(a_boolean)"
      ],
      "metadata": {
        "id": "7PE8b3L0ykOj"
      },
      "execution_count": null,
      "outputs": []
    },
    {
      "cell_type": "markdown",
      "source": [
        "You have 2 statements, but how come only 1 showed up?"
      ],
      "metadata": {
        "id": "HBQQu7nOzOtv"
      }
    },
    {
      "cell_type": "code",
      "source": [
        "print (type(an_integer),type(a_boolean))"
      ],
      "metadata": {
        "id": "74DJyrdrzLIL"
      },
      "execution_count": null,
      "outputs": []
    },
    {
      "cell_type": "markdown",
      "source": [
        "# Dealing with complex numbers"
      ],
      "metadata": {
        "id": "fXcThOt-RsBz"
      }
    },
    {
      "cell_type": "code",
      "source": [
        "z=3+4j\n",
        "type(z)"
      ],
      "metadata": {
        "id": "C4EZ58c8zyIe"
      },
      "execution_count": null,
      "outputs": []
    },
    {
      "cell_type": "code",
      "source": [
        "abs (z) # Take the absolute value"
      ],
      "metadata": {
        "id": "T-R7PqX4RzLg"
      },
      "execution_count": null,
      "outputs": []
    },
    {
      "cell_type": "code",
      "source": [
        "#Declaring using the complex keyword\n",
        "complex (4,5)"
      ],
      "metadata": {
        "id": "23HvyHeMR31H"
      },
      "execution_count": null,
      "outputs": []
    },
    {
      "cell_type": "markdown",
      "source": [
        "# Exercise time"
      ],
      "metadata": {
        "id": "K7zmXZGBSUtn"
      }
    },
    {
      "cell_type": "markdown",
      "source": [
        "**Exercise** Complete the following piece of code to calculate the volume of a cylinder given its radius and height , following the formula: $volume = {pi} * {r}^{2}* {h} $.\n",
        "\n",
        "Use the value of `pi` stored in the `math` module as `math.pi`."
      ],
      "metadata": {
        "id": "_6jZimDpSbo8"
      }
    },
    {
      "cell_type": "code",
      "source": [
        "radius = 5\n",
        "height = 3\n",
        "volume = ...\n",
        "print(volume)"
      ],
      "metadata": {
        "id": "3c4G9ofwSRp_"
      },
      "execution_count": null,
      "outputs": []
    },
    {
      "cell_type": "markdown",
      "source": [
        "# Using a module in Python"
      ],
      "metadata": {
        "id": "jHyVG04aTJQ4"
      }
    },
    {
      "cell_type": "markdown",
      "source": [
        "## The math module"
      ],
      "metadata": {
        "id": "8GeqbseSTMo8"
      }
    },
    {
      "cell_type": "code",
      "source": [
        "# importing a module\n",
        "import math"
      ],
      "metadata": {
        "id": "vdBp1XXzS77M"
      },
      "execution_count": null,
      "outputs": []
    },
    {
      "cell_type": "markdown",
      "source": [
        "### What does this module do ?"
      ],
      "metadata": {
        "id": "htCE9dfaTXPN"
      }
    },
    {
      "cell_type": "markdown",
      "source": [
        "We can check by using the **help** function"
      ],
      "metadata": {
        "id": "ShQULFjJTfSP"
      }
    },
    {
      "cell_type": "code",
      "source": [
        "help(math)"
      ],
      "metadata": {
        "id": "JUHdo14STQ2P"
      },
      "execution_count": null,
      "outputs": []
    },
    {
      "cell_type": "markdown",
      "source": [
        "## or using '?'"
      ],
      "metadata": {
        "id": "jJKf4rqpUhg9"
      }
    },
    {
      "cell_type": "code",
      "source": [
        "math?"
      ],
      "metadata": {
        "id": "_8-gWW_oUZwE"
      },
      "execution_count": null,
      "outputs": []
    },
    {
      "cell_type": "markdown",
      "source": [
        "### How to use a function from a module?"
      ],
      "metadata": {
        "id": "nTXcjNVCUm-L"
      }
    },
    {
      "cell_type": "code",
      "source": [
        "help(math.cos)"
      ],
      "metadata": {
        "id": "QVS8DJGfUkwS"
      },
      "execution_count": null,
      "outputs": []
    },
    {
      "cell_type": "code",
      "source": [],
      "metadata": {
        "id": "QIArGwZcVDKC"
      },
      "execution_count": null,
      "outputs": []
    }
  ]
}