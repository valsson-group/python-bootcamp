{
  "nbformat": 4,
  "nbformat_minor": 0,
  "metadata": {
    "colab": {
      "provenance": [],
      "include_colab_link": true
    },
    "kernelspec": {
      "name": "python3",
      "display_name": "Python 3"
    },
    "language_info": {
      "name": "python"
    }
  },
  "cells": [
    {
      "cell_type": "markdown",
      "metadata": {
        "id": "view-in-github",
        "colab_type": "text"
      },
      "source": [
        "<a href=\"https://colab.research.google.com/github/valsson-group/python-bootcamp/blob/main/Summer-2025/PythonBootcamp_Summer_2025_Session_1.ipynb\" target=\"_parent\"><img src=\"https://colab.research.google.com/assets/colab-badge.svg\" alt=\"Open In Colab\"/></a>"
      ]
    },
    {
      "cell_type": "markdown",
      "source": [
        "## Basic Syntax"
      ],
      "metadata": {
        "id": "NfNLmbrEue3a"
      }
    },
    {
      "cell_type": "code",
      "source": [
        "# Lines starting with a hash/pound sign are comments\n",
        "# meaning that they are not evaluated as code.\n",
        "#\n",
        "# Comments are useful to add short (and not so short)\n",
        "# blurbs of text explaning a particular part of your code"
      ],
      "metadata": {
        "id": "8oT43D5iui2k"
      },
      "execution_count": 1,
      "outputs": []
    },
    {
      "cell_type": "code",
      "execution_count": null,
      "metadata": {
        "colab": {
          "base_uri": "https://localhost:8080/"
        },
        "id": "r9qbOw79vG44",
        "outputId": "e81030ce-c145-453d-9f42-defc28ef119d"
      },
      "outputs": [
        {
          "output_type": "stream",
          "name": "stdout",
          "text": [
            "Hello World\n"
          ]
        }
      ],
      "source": [
        "print(\"Hello World\")"
      ]
    }
  ]
}